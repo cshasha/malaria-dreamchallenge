{
 "cells": [
  {
   "cell_type": "code",
   "execution_count": 140,
   "metadata": {
    "collapsed": true
   },
   "outputs": [],
   "source": [
    "import numpy as np\n",
    "import pandas as pd\n",
    "import matplotlib.pyplot as pl\n",
    "from scipy.stats import randint as sp_randint\n",
    "from sklearn.metrics import mean_squared_error, r2_score\n",
    "from sklearn.model_selection import train_test_split\n",
    "from sklearn.linear_model import LinearRegression\n",
    "from sklearn.linear_model import LogisticRegression\n",
    "from sklearn.svm import SVR\n",
    "from sklearn.tree import DecisionTreeRegressor\n",
    "from sklearn.ensemble import RandomForestRegressor\n",
    "from sklearn.naive_bayes import GaussianNB\n",
    "from sklearn.ensemble import AdaBoostRegressor\n",
    "from lmfit import Model\n",
    "from xgboost import XGBRegressor\n",
    "from collections import OrderedDict\n",
    "from sklearn.model_selection import GridSearchCV\n",
    "from sklearn.model_selection import RandomizedSearchCV\n",
    "from sklearn import neighbors\n",
    "from sklearn.ensemble import GradientBoostingRegressor\n",
    "from sklearn.metrics.pairwise import cosine_similarity\n",
    "from sklearn.preprocessing import StandardScaler\n",
    "from sklearn.decomposition import PCA\n",
    "from sklearn.feature_selection import VarianceThreshold\n",
    "from sklearn.feature_selection import GenericUnivariateSelect\n",
    "from sklearn.feature_selection import mutual_info_regression,f_regression\n",
    "from scipy.stats import spearmanr\n",
    "import seaborn as sns\n",
    "from sklearn.feature_selection import RFE\n",
    "from sklearn.model_selection import cross_val_score\n",
    "import umap\n",
    "from sklearn.metrics import make_scorer\n",
    "\n",
    "pl.style.use('seaborn')\n",
    "pl.rc('font',family='Arial')"
   ]
  },
  {
   "cell_type": "markdown",
   "metadata": {},
   "source": [
    "## Read in data"
   ]
  },
  {
   "cell_type": "code",
   "execution_count": 8,
   "metadata": {
    "collapsed": true
   },
   "outputs": [],
   "source": [
    "train_data = pd.read_csv(\"SubCh1_TrainingData.csv\")\n",
    "test_data = pd.read_csv(\"SubCh1_TestData.csv\")\n",
    "\n",
    "train_data['Timepoint'] = [1 if i == '24HR' else 0 for i in train_data['Timepoint']]\n",
    "train_data['Treatment'] = [1 if i == 'DHA' else 0 for i in train_data['Treatment']]\n",
    "train_data['BioRep'] = [int(i[-1]) for i in train_data['BioRep']]\n",
    "\n",
    "genes = list(train_data.drop(['DHA_IC50','Sample_Name','Isolate','Timepoint','Treatment','BioRep'], axis=1).columns)"
   ]
  },
  {
   "cell_type": "markdown",
   "metadata": {},
   "source": [
    "## Split into four data frames and combine into one\n",
    "\n",
    "Each new df corresponds to a particular timepoint/treatment combination:\n",
    "\n",
    "- A: 6hr untreated\n",
    "- B: 24hr untreated\n",
    "- C: 6hr treated\n",
    "- D: 24hr treated"
   ]
  },
  {
   "cell_type": "code",
   "execution_count": 26,
   "metadata": {
    "collapsed": false
   },
   "outputs": [
    {
     "data": {
      "text/html": [
       "<div>\n",
       "<style scoped>\n",
       "    .dataframe tbody tr th:only-of-type {\n",
       "        vertical-align: middle;\n",
       "    }\n",
       "\n",
       "    .dataframe tbody tr th {\n",
       "        vertical-align: top;\n",
       "    }\n",
       "\n",
       "    .dataframe thead th {\n",
       "        text-align: right;\n",
       "    }\n",
       "</style>\n",
       "<table border=\"1\" class=\"dataframe\">\n",
       "  <thead>\n",
       "    <tr style=\"text-align: right;\">\n",
       "      <th></th>\n",
       "      <th>A1</th>\n",
       "      <th>A2</th>\n",
       "      <th>A3</th>\n",
       "      <th>A4</th>\n",
       "      <th>A5</th>\n",
       "      <th>A6</th>\n",
       "      <th>A7</th>\n",
       "      <th>A8</th>\n",
       "      <th>A9</th>\n",
       "      <th>A10</th>\n",
       "      <th>...</th>\n",
       "      <th>D5531</th>\n",
       "      <th>D5532</th>\n",
       "      <th>D5533</th>\n",
       "      <th>D5534</th>\n",
       "      <th>D5535</th>\n",
       "      <th>D5536</th>\n",
       "      <th>D5537</th>\n",
       "      <th>D5538</th>\n",
       "      <th>D5539</th>\n",
       "      <th>D5540</th>\n",
       "    </tr>\n",
       "  </thead>\n",
       "  <tbody>\n",
       "    <tr>\n",
       "      <th>0</th>\n",
       "      <td>1.311350</td>\n",
       "      <td>-1.613464</td>\n",
       "      <td>-1.298663</td>\n",
       "      <td>-1.441343</td>\n",
       "      <td>-1.735923</td>\n",
       "      <td>0.173112</td>\n",
       "      <td>2.466366</td>\n",
       "      <td>1.383979</td>\n",
       "      <td>-0.115130</td>\n",
       "      <td>0.287468</td>\n",
       "      <td>...</td>\n",
       "      <td>0.210607</td>\n",
       "      <td>-0.540993</td>\n",
       "      <td>-3.674097</td>\n",
       "      <td>-1.652979</td>\n",
       "      <td>-2.255490</td>\n",
       "      <td>-4.554757</td>\n",
       "      <td>-0.381422</td>\n",
       "      <td>-1.415857</td>\n",
       "      <td>-4.121011</td>\n",
       "      <td>-2.486528</td>\n",
       "    </tr>\n",
       "    <tr>\n",
       "      <th>1</th>\n",
       "      <td>0.997722</td>\n",
       "      <td>-1.553994</td>\n",
       "      <td>-1.960600</td>\n",
       "      <td>-1.424590</td>\n",
       "      <td>0.023609</td>\n",
       "      <td>0.420973</td>\n",
       "      <td>1.128427</td>\n",
       "      <td>0.722659</td>\n",
       "      <td>1.878123</td>\n",
       "      <td>-0.065159</td>\n",
       "      <td>...</td>\n",
       "      <td>-0.447109</td>\n",
       "      <td>0.450649</td>\n",
       "      <td>-4.464408</td>\n",
       "      <td>-0.977954</td>\n",
       "      <td>-2.012559</td>\n",
       "      <td>-4.538550</td>\n",
       "      <td>-2.333890</td>\n",
       "      <td>-2.342496</td>\n",
       "      <td>-4.774197</td>\n",
       "      <td>-1.794568</td>\n",
       "    </tr>\n",
       "    <tr>\n",
       "      <th>2</th>\n",
       "      <td>0.389508</td>\n",
       "      <td>-2.139782</td>\n",
       "      <td>-0.584985</td>\n",
       "      <td>-1.085373</td>\n",
       "      <td>0.803247</td>\n",
       "      <td>0.766617</td>\n",
       "      <td>1.701689</td>\n",
       "      <td>0.926101</td>\n",
       "      <td>1.600687</td>\n",
       "      <td>0.435633</td>\n",
       "      <td>...</td>\n",
       "      <td>-0.070151</td>\n",
       "      <td>0.024133</td>\n",
       "      <td>-2.215227</td>\n",
       "      <td>-1.957654</td>\n",
       "      <td>-2.188635</td>\n",
       "      <td>-4.424748</td>\n",
       "      <td>-2.986927</td>\n",
       "      <td>-1.722201</td>\n",
       "      <td>-3.995680</td>\n",
       "      <td>-0.902979</td>\n",
       "    </tr>\n",
       "    <tr>\n",
       "      <th>3</th>\n",
       "      <td>0.348560</td>\n",
       "      <td>-1.562540</td>\n",
       "      <td>-0.586732</td>\n",
       "      <td>-0.834661</td>\n",
       "      <td>1.096979</td>\n",
       "      <td>0.121817</td>\n",
       "      <td>1.623373</td>\n",
       "      <td>-0.654405</td>\n",
       "      <td>0.221121</td>\n",
       "      <td>0.998601</td>\n",
       "      <td>...</td>\n",
       "      <td>-1.288305</td>\n",
       "      <td>0.806314</td>\n",
       "      <td>-3.733712</td>\n",
       "      <td>-1.990368</td>\n",
       "      <td>-1.633418</td>\n",
       "      <td>-5.533077</td>\n",
       "      <td>-3.283316</td>\n",
       "      <td>-2.104227</td>\n",
       "      <td>-5.767710</td>\n",
       "      <td>-2.177930</td>\n",
       "    </tr>\n",
       "    <tr>\n",
       "      <th>4</th>\n",
       "      <td>0.138276</td>\n",
       "      <td>-1.612280</td>\n",
       "      <td>-1.362990</td>\n",
       "      <td>-1.360318</td>\n",
       "      <td>0.488124</td>\n",
       "      <td>0.365410</td>\n",
       "      <td>0.739845</td>\n",
       "      <td>-0.654702</td>\n",
       "      <td>2.170263</td>\n",
       "      <td>0.630418</td>\n",
       "      <td>...</td>\n",
       "      <td>0.279816</td>\n",
       "      <td>0.115002</td>\n",
       "      <td>-1.305902</td>\n",
       "      <td>-0.679212</td>\n",
       "      <td>-2.099512</td>\n",
       "      <td>-5.955507</td>\n",
       "      <td>-0.920594</td>\n",
       "      <td>-1.626372</td>\n",
       "      <td>-4.422711</td>\n",
       "      <td>-1.408485</td>\n",
       "    </tr>\n",
       "    <tr>\n",
       "      <th>5</th>\n",
       "      <td>-0.332565</td>\n",
       "      <td>-1.280348</td>\n",
       "      <td>-0.817751</td>\n",
       "      <td>-0.480521</td>\n",
       "      <td>-0.098970</td>\n",
       "      <td>0.112246</td>\n",
       "      <td>0.773993</td>\n",
       "      <td>-0.969944</td>\n",
       "      <td>1.117705</td>\n",
       "      <td>0.872166</td>\n",
       "      <td>...</td>\n",
       "      <td>0.375290</td>\n",
       "      <td>1.113241</td>\n",
       "      <td>-4.016287</td>\n",
       "      <td>-1.327287</td>\n",
       "      <td>-2.375500</td>\n",
       "      <td>-4.379304</td>\n",
       "      <td>-2.752906</td>\n",
       "      <td>-1.939162</td>\n",
       "      <td>-3.500963</td>\n",
       "      <td>-0.796143</td>\n",
       "    </tr>\n",
       "    <tr>\n",
       "      <th>6</th>\n",
       "      <td>-1.140942</td>\n",
       "      <td>-0.460872</td>\n",
       "      <td>0.588564</td>\n",
       "      <td>-1.214647</td>\n",
       "      <td>1.210955</td>\n",
       "      <td>1.336895</td>\n",
       "      <td>-0.857090</td>\n",
       "      <td>-1.884711</td>\n",
       "      <td>-0.001943</td>\n",
       "      <td>1.320737</td>\n",
       "      <td>...</td>\n",
       "      <td>0.666558</td>\n",
       "      <td>-2.016912</td>\n",
       "      <td>-4.682891</td>\n",
       "      <td>-0.254524</td>\n",
       "      <td>-2.668047</td>\n",
       "      <td>-6.573239</td>\n",
       "      <td>-3.264155</td>\n",
       "      <td>-0.671344</td>\n",
       "      <td>-5.312867</td>\n",
       "      <td>-2.248219</td>\n",
       "    </tr>\n",
       "    <tr>\n",
       "      <th>7</th>\n",
       "      <td>0.426584</td>\n",
       "      <td>-1.118851</td>\n",
       "      <td>-0.938263</td>\n",
       "      <td>-1.442067</td>\n",
       "      <td>0.747063</td>\n",
       "      <td>0.268388</td>\n",
       "      <td>1.062841</td>\n",
       "      <td>0.494635</td>\n",
       "      <td>0.866481</td>\n",
       "      <td>0.501923</td>\n",
       "      <td>...</td>\n",
       "      <td>-1.793459</td>\n",
       "      <td>-0.116719</td>\n",
       "      <td>-4.535173</td>\n",
       "      <td>-0.537190</td>\n",
       "      <td>-2.472669</td>\n",
       "      <td>-6.261742</td>\n",
       "      <td>-3.134708</td>\n",
       "      <td>-1.969545</td>\n",
       "      <td>-5.157691</td>\n",
       "      <td>-2.637917</td>\n",
       "    </tr>\n",
       "    <tr>\n",
       "      <th>8</th>\n",
       "      <td>0.037085</td>\n",
       "      <td>-1.488644</td>\n",
       "      <td>-1.838770</td>\n",
       "      <td>-1.066493</td>\n",
       "      <td>-1.305085</td>\n",
       "      <td>0.059484</td>\n",
       "      <td>2.128986</td>\n",
       "      <td>-0.527511</td>\n",
       "      <td>1.616871</td>\n",
       "      <td>0.235093</td>\n",
       "      <td>...</td>\n",
       "      <td>-0.478144</td>\n",
       "      <td>0.125283</td>\n",
       "      <td>-5.360958</td>\n",
       "      <td>-2.386122</td>\n",
       "      <td>-1.886257</td>\n",
       "      <td>-6.127057</td>\n",
       "      <td>-3.231487</td>\n",
       "      <td>-2.349583</td>\n",
       "      <td>-4.977880</td>\n",
       "      <td>-1.047555</td>\n",
       "    </tr>\n",
       "    <tr>\n",
       "      <th>9</th>\n",
       "      <td>-0.037537</td>\n",
       "      <td>-1.495531</td>\n",
       "      <td>-1.801568</td>\n",
       "      <td>-0.526676</td>\n",
       "      <td>-1.831555</td>\n",
       "      <td>0.494413</td>\n",
       "      <td>1.286978</td>\n",
       "      <td>-1.589983</td>\n",
       "      <td>1.060466</td>\n",
       "      <td>0.836018</td>\n",
       "      <td>...</td>\n",
       "      <td>1.213397</td>\n",
       "      <td>-1.032989</td>\n",
       "      <td>-8.298501</td>\n",
       "      <td>-0.080207</td>\n",
       "      <td>-2.335635</td>\n",
       "      <td>-4.606785</td>\n",
       "      <td>-2.849864</td>\n",
       "      <td>-2.028372</td>\n",
       "      <td>-3.179649</td>\n",
       "      <td>-2.205214</td>\n",
       "    </tr>\n",
       "  </tbody>\n",
       "</table>\n",
       "<p>10 rows × 22160 columns</p>\n",
       "</div>"
      ],
      "text/plain": [
       "         A1        A2        A3        A4        A5        A6        A7  \\\n",
       "0  1.311350 -1.613464 -1.298663 -1.441343 -1.735923  0.173112  2.466366   \n",
       "1  0.997722 -1.553994 -1.960600 -1.424590  0.023609  0.420973  1.128427   \n",
       "2  0.389508 -2.139782 -0.584985 -1.085373  0.803247  0.766617  1.701689   \n",
       "3  0.348560 -1.562540 -0.586732 -0.834661  1.096979  0.121817  1.623373   \n",
       "4  0.138276 -1.612280 -1.362990 -1.360318  0.488124  0.365410  0.739845   \n",
       "5 -0.332565 -1.280348 -0.817751 -0.480521 -0.098970  0.112246  0.773993   \n",
       "6 -1.140942 -0.460872  0.588564 -1.214647  1.210955  1.336895 -0.857090   \n",
       "7  0.426584 -1.118851 -0.938263 -1.442067  0.747063  0.268388  1.062841   \n",
       "8  0.037085 -1.488644 -1.838770 -1.066493 -1.305085  0.059484  2.128986   \n",
       "9 -0.037537 -1.495531 -1.801568 -0.526676 -1.831555  0.494413  1.286978   \n",
       "\n",
       "         A8        A9       A10    ...        D5531     D5532     D5533  \\\n",
       "0  1.383979 -0.115130  0.287468    ...     0.210607 -0.540993 -3.674097   \n",
       "1  0.722659  1.878123 -0.065159    ...    -0.447109  0.450649 -4.464408   \n",
       "2  0.926101  1.600687  0.435633    ...    -0.070151  0.024133 -2.215227   \n",
       "3 -0.654405  0.221121  0.998601    ...    -1.288305  0.806314 -3.733712   \n",
       "4 -0.654702  2.170263  0.630418    ...     0.279816  0.115002 -1.305902   \n",
       "5 -0.969944  1.117705  0.872166    ...     0.375290  1.113241 -4.016287   \n",
       "6 -1.884711 -0.001943  1.320737    ...     0.666558 -2.016912 -4.682891   \n",
       "7  0.494635  0.866481  0.501923    ...    -1.793459 -0.116719 -4.535173   \n",
       "8 -0.527511  1.616871  0.235093    ...    -0.478144  0.125283 -5.360958   \n",
       "9 -1.589983  1.060466  0.836018    ...     1.213397 -1.032989 -8.298501   \n",
       "\n",
       "      D5534     D5535     D5536     D5537     D5538     D5539     D5540  \n",
       "0 -1.652979 -2.255490 -4.554757 -0.381422 -1.415857 -4.121011 -2.486528  \n",
       "1 -0.977954 -2.012559 -4.538550 -2.333890 -2.342496 -4.774197 -1.794568  \n",
       "2 -1.957654 -2.188635 -4.424748 -2.986927 -1.722201 -3.995680 -0.902979  \n",
       "3 -1.990368 -1.633418 -5.533077 -3.283316 -2.104227 -5.767710 -2.177930  \n",
       "4 -0.679212 -2.099512 -5.955507 -0.920594 -1.626372 -4.422711 -1.408485  \n",
       "5 -1.327287 -2.375500 -4.379304 -2.752906 -1.939162 -3.500963 -0.796143  \n",
       "6 -0.254524 -2.668047 -6.573239 -3.264155 -0.671344 -5.312867 -2.248219  \n",
       "7 -0.537190 -2.472669 -6.261742 -3.134708 -1.969545 -5.157691 -2.637917  \n",
       "8 -2.386122 -1.886257 -6.127057 -3.231487 -2.349583 -4.977880 -1.047555  \n",
       "9 -0.080207 -2.335635 -4.606785 -2.849864 -2.028372 -3.179649 -2.205214  \n",
       "\n",
       "[10 rows x 22160 columns]"
      ]
     },
     "execution_count": 26,
     "metadata": {},
     "output_type": "execute_result"
    }
   ],
   "source": [
    "X_A = train_data[(train_data['Timepoint'] == 0)&(train_data['Treatment'] == 0)].drop(['DHA_IC50','Sample_Name','Isolate','Timepoint','Treatment','BioRep'], axis = 1)\n",
    "X_B = train_data[(train_data['Timepoint'] == 1)&(train_data['Treatment'] == 0)].drop(['DHA_IC50','Sample_Name','Isolate','Timepoint','Treatment','BioRep'], axis = 1)\n",
    "X_C = train_data[(train_data['Timepoint'] == 0)&(train_data['Treatment'] == 1)].drop(['DHA_IC50','Sample_Name','Isolate','Timepoint','Treatment','BioRep'], axis = 1)\n",
    "X_D = train_data[(train_data['Timepoint'] == 1)&(train_data['Treatment'] == 1)].drop(['DHA_IC50','Sample_Name','Isolate','Timepoint','Treatment','BioRep'], axis = 1)\n",
    "\n",
    "Y = train_data[(train_data['Timepoint'] == 0)&(train_data['Treatment'] == 0)]['DHA_IC50']\n",
    "\n",
    "# rename columns:\n",
    "X_A.columns = ['A' + str(i) for i in range(1,5541)]\n",
    "X_B.columns = ['B' + str(i) for i in range(1,5541)]\n",
    "X_C.columns = ['C' + str(i) for i in range(1,5541)]\n",
    "X_D.columns = ['D' + str(i) for i in range(1,5541)]\n",
    "\n",
    "X_A = X_A.reset_index().drop(['index'],axis=1)\n",
    "X_B = X_B.reset_index().drop(['index'],axis=1)\n",
    "X_C = X_C.reset_index().drop(['index'],axis=1)\n",
    "X_D = X_D.reset_index().drop(['index'],axis=1)\n",
    "\n",
    "# combine data frames:\n",
    "X = pd.concat([X_A,X_B,X_C,X_D], axis=1)\n",
    "X.head(10)"
   ]
  },
  {
   "cell_type": "markdown",
   "metadata": {},
   "source": [
    "## Univariate f-regression, using top k features"
   ]
  },
  {
   "cell_type": "code",
   "execution_count": 30,
   "metadata": {
    "collapsed": true
   },
   "outputs": [],
   "source": [
    "def drop_univ(X_orig, Y, features):\n",
    "    X = StandardScaler().fit_transform(X_orig)\n",
    "    X_uni = GenericUnivariateSelect(f_regression,'k_best', param=features).fit_transform(X, Y.values.ravel())\n",
    "    X_uni = pd.DataFrame(data = X_uni)\n",
    "\n",
    "    return X_uni"
   ]
  },
  {
   "cell_type": "markdown",
   "metadata": {},
   "source": [
    "### Test on reshaped data frame, testing different numbers of features"
   ]
  },
  {
   "cell_type": "code",
   "execution_count": 195,
   "metadata": {
    "collapsed": false
   },
   "outputs": [],
   "source": [
    "threshold = []\n",
    "accuracy = []\n",
    "mse = []\n",
    "spearman = []\n",
    "num_cols = []\n",
    "cv = []\n",
    "cv_spear = []\n",
    "\n",
    "for j in np.arange(10,310,10):\n",
    "    X_uni = drop_univ(X,Y,j)\n",
    "\n",
    "    max_features = min(len(X_uni.columns),50)\n",
    "\n",
    "    X_train, X_test , Y_train , Y_test = train_test_split(X_uni,Y,test_size=0.33,random_state=10)\n",
    "\n",
    "    forest_model = RandomForestRegressor(max_features=max_features,n_estimators=100, bootstrap=False,random_state = 999)\n",
    "    forest_model.fit(X_train, Y_train.values.ravel())\n",
    "    Y_pred = forest_model.predict(X_test) \n",
    "    \n",
    "    threshold.append(j)\n",
    "    accuracy.append(forest_model.score(X_test,Y_test))\n",
    "    mse.append(mean_squared_error(Y_test, Y_pred))\n",
    "    spearman.append(spearmanr(Y_test,Y_pred)[0])\n",
    "    num_cols.append(len(X_uni.columns))\n",
    "    cv.append(np.mean(cross_val_score(forest_model, X_train, Y_train.values.ravel(), cv=5)))\n",
    "    cv_spear.append(np.mean(cross_val_score(forest_model, X_train, Y_train.values.ravel(), cv=5,scoring=make_scorer(spear_r))))\n",
    "    \n",
    "\n",
    "results_unif = pd.DataFrame(list(zip(threshold,accuracy,mse,spearman,num_cols,cv,cv_spear)),columns =['threshold', 'accuracy','mse','spearman','num_cols','cv','cv_spear']) "
   ]
  },
  {
   "cell_type": "code",
   "execution_count": 81,
   "metadata": {
    "collapsed": false
   },
   "outputs": [
    {
     "data": {
      "text/html": [
       "<div>\n",
       "<style scoped>\n",
       "    .dataframe tbody tr th:only-of-type {\n",
       "        vertical-align: middle;\n",
       "    }\n",
       "\n",
       "    .dataframe tbody tr th {\n",
       "        vertical-align: top;\n",
       "    }\n",
       "\n",
       "    .dataframe thead th {\n",
       "        text-align: right;\n",
       "    }\n",
       "</style>\n",
       "<table border=\"1\" class=\"dataframe\">\n",
       "  <thead>\n",
       "    <tr style=\"text-align: right;\">\n",
       "      <th></th>\n",
       "      <th>0</th>\n",
       "      <th>1</th>\n",
       "      <th>2</th>\n",
       "      <th>3</th>\n",
       "      <th>4</th>\n",
       "      <th>5</th>\n",
       "      <th>6</th>\n",
       "      <th>7</th>\n",
       "      <th>8</th>\n",
       "      <th>9</th>\n",
       "      <th>...</th>\n",
       "      <th>290</th>\n",
       "      <th>291</th>\n",
       "      <th>292</th>\n",
       "      <th>293</th>\n",
       "      <th>294</th>\n",
       "      <th>295</th>\n",
       "      <th>296</th>\n",
       "      <th>297</th>\n",
       "      <th>298</th>\n",
       "      <th>299</th>\n",
       "    </tr>\n",
       "  </thead>\n",
       "  <tbody>\n",
       "    <tr>\n",
       "      <th>0</th>\n",
       "      <td>-1.292943</td>\n",
       "      <td>2.016833</td>\n",
       "      <td>1.845393</td>\n",
       "      <td>3.028196</td>\n",
       "      <td>2.500009</td>\n",
       "      <td>3.398555</td>\n",
       "      <td>-1.832262</td>\n",
       "      <td>-2.797206</td>\n",
       "      <td>2.040974</td>\n",
       "      <td>2.315473</td>\n",
       "      <td>...</td>\n",
       "      <td>-0.887688</td>\n",
       "      <td>2.622818</td>\n",
       "      <td>0.456541</td>\n",
       "      <td>-0.558260</td>\n",
       "      <td>-0.267840</td>\n",
       "      <td>-2.729300</td>\n",
       "      <td>1.309034</td>\n",
       "      <td>2.028177</td>\n",
       "      <td>-0.264554</td>\n",
       "      <td>2.195769</td>\n",
       "    </tr>\n",
       "    <tr>\n",
       "      <th>1</th>\n",
       "      <td>-1.862115</td>\n",
       "      <td>0.876737</td>\n",
       "      <td>1.447845</td>\n",
       "      <td>0.363864</td>\n",
       "      <td>-0.143767</td>\n",
       "      <td>0.191846</td>\n",
       "      <td>-1.231272</td>\n",
       "      <td>-1.575531</td>\n",
       "      <td>1.227064</td>\n",
       "      <td>0.379158</td>\n",
       "      <td>...</td>\n",
       "      <td>-0.669492</td>\n",
       "      <td>-0.426987</td>\n",
       "      <td>-0.039873</td>\n",
       "      <td>0.492228</td>\n",
       "      <td>2.270057</td>\n",
       "      <td>0.798605</td>\n",
       "      <td>1.540293</td>\n",
       "      <td>1.145054</td>\n",
       "      <td>2.077086</td>\n",
       "      <td>-0.464697</td>\n",
       "    </tr>\n",
       "    <tr>\n",
       "      <th>2</th>\n",
       "      <td>-0.022030</td>\n",
       "      <td>-0.054085</td>\n",
       "      <td>0.512837</td>\n",
       "      <td>0.075053</td>\n",
       "      <td>-0.269357</td>\n",
       "      <td>0.341495</td>\n",
       "      <td>-0.120556</td>\n",
       "      <td>0.342170</td>\n",
       "      <td>-0.260822</td>\n",
       "      <td>0.917548</td>\n",
       "      <td>...</td>\n",
       "      <td>-0.112742</td>\n",
       "      <td>-1.120642</td>\n",
       "      <td>-1.732666</td>\n",
       "      <td>-0.914019</td>\n",
       "      <td>-2.002187</td>\n",
       "      <td>1.050166</td>\n",
       "      <td>0.048109</td>\n",
       "      <td>-1.267189</td>\n",
       "      <td>0.086802</td>\n",
       "      <td>-1.155420</td>\n",
       "    </tr>\n",
       "    <tr>\n",
       "      <th>3</th>\n",
       "      <td>1.311045</td>\n",
       "      <td>1.271229</td>\n",
       "      <td>0.269660</td>\n",
       "      <td>1.266081</td>\n",
       "      <td>0.892360</td>\n",
       "      <td>-0.471573</td>\n",
       "      <td>-0.541877</td>\n",
       "      <td>-1.122765</td>\n",
       "      <td>0.043002</td>\n",
       "      <td>0.700775</td>\n",
       "      <td>...</td>\n",
       "      <td>-2.106042</td>\n",
       "      <td>-0.413747</td>\n",
       "      <td>2.332550</td>\n",
       "      <td>1.953799</td>\n",
       "      <td>-0.809012</td>\n",
       "      <td>-0.875863</td>\n",
       "      <td>-1.292227</td>\n",
       "      <td>0.450239</td>\n",
       "      <td>-1.740346</td>\n",
       "      <td>-1.346451</td>\n",
       "    </tr>\n",
       "    <tr>\n",
       "      <th>4</th>\n",
       "      <td>0.698626</td>\n",
       "      <td>0.757369</td>\n",
       "      <td>0.098395</td>\n",
       "      <td>-0.270719</td>\n",
       "      <td>-0.766589</td>\n",
       "      <td>-1.095904</td>\n",
       "      <td>0.367818</td>\n",
       "      <td>0.453151</td>\n",
       "      <td>0.028027</td>\n",
       "      <td>-0.082555</td>\n",
       "      <td>...</td>\n",
       "      <td>1.082295</td>\n",
       "      <td>-1.792682</td>\n",
       "      <td>-0.798296</td>\n",
       "      <td>0.132350</td>\n",
       "      <td>1.037966</td>\n",
       "      <td>0.825620</td>\n",
       "      <td>0.869621</td>\n",
       "      <td>-0.424967</td>\n",
       "      <td>1.997906</td>\n",
       "      <td>0.614622</td>\n",
       "    </tr>\n",
       "  </tbody>\n",
       "</table>\n",
       "<p>5 rows × 300 columns</p>\n",
       "</div>"
      ],
      "text/plain": [
       "        0         1         2         3         4         5         6    \\\n",
       "0 -1.292943  2.016833  1.845393  3.028196  2.500009  3.398555 -1.832262   \n",
       "1 -1.862115  0.876737  1.447845  0.363864 -0.143767  0.191846 -1.231272   \n",
       "2 -0.022030 -0.054085  0.512837  0.075053 -0.269357  0.341495 -0.120556   \n",
       "3  1.311045  1.271229  0.269660  1.266081  0.892360 -0.471573 -0.541877   \n",
       "4  0.698626  0.757369  0.098395 -0.270719 -0.766589 -1.095904  0.367818   \n",
       "\n",
       "        7         8         9      ...          290       291       292  \\\n",
       "0 -2.797206  2.040974  2.315473    ...    -0.887688  2.622818  0.456541   \n",
       "1 -1.575531  1.227064  0.379158    ...    -0.669492 -0.426987 -0.039873   \n",
       "2  0.342170 -0.260822  0.917548    ...    -0.112742 -1.120642 -1.732666   \n",
       "3 -1.122765  0.043002  0.700775    ...    -2.106042 -0.413747  2.332550   \n",
       "4  0.453151  0.028027 -0.082555    ...     1.082295 -1.792682 -0.798296   \n",
       "\n",
       "        293       294       295       296       297       298       299  \n",
       "0 -0.558260 -0.267840 -2.729300  1.309034  2.028177 -0.264554  2.195769  \n",
       "1  0.492228  2.270057  0.798605  1.540293  1.145054  2.077086 -0.464697  \n",
       "2 -0.914019 -2.002187  1.050166  0.048109 -1.267189  0.086802 -1.155420  \n",
       "3  1.953799 -0.809012 -0.875863 -1.292227  0.450239 -1.740346 -1.346451  \n",
       "4  0.132350  1.037966  0.825620  0.869621 -0.424967  1.997906  0.614622  \n",
       "\n",
       "[5 rows x 300 columns]"
      ]
     },
     "execution_count": 81,
     "metadata": {},
     "output_type": "execute_result"
    }
   ],
   "source": [
    "X_uni.head()"
   ]
  },
  {
   "cell_type": "code",
   "execution_count": 205,
   "metadata": {
    "collapsed": false
   },
   "outputs": [
    {
     "name": "stdout",
     "output_type": "stream",
     "text": [
      "0.646732810299622\n"
     ]
    },
    {
     "data": {
      "image/png": "[encoded data removed]",
      "text/plain": [
       "<matplotlib.figure.Figure at 0x1a1f38f358>"
      ]
     },
     "metadata": {},
     "output_type": "display_data"
    }
   ],
   "source": [
    "sns.set_palette(\"husl\", 3)\n",
    "\n",
    "print(np.max(results_unif['cv_spear']))\n",
    "\n",
    "pl.plot(results_unif['threshold'],results_unif['cv'])\n",
    "pl.plot(results_unif['threshold'],results_unif['cv_spear'])\n",
    "pl.plot(results_unif['threshold'],results_unif['mse'])\n",
    "pl.legend([r'cv $r^2$','cv spear','mse'])\n",
    "pl.show()"
   ]
  },
  {
   "cell_type": "markdown",
   "metadata": {},
   "source": [
    "## Test on only 24hr, treated data frame"
   ]
  },
  {
   "cell_type": "code",
   "execution_count": 193,
   "metadata": {
    "collapsed": false
   },
   "outputs": [],
   "source": [
    "threshold = []\n",
    "accuracy = []\n",
    "mse = []\n",
    "spearman = []\n",
    "num_cols = []\n",
    "cv = []\n",
    "cv_spear = []\n",
    "\n",
    "for j in np.arange(10,310,10):\n",
    "    X_uni = drop_univ(X_D,Y,j)\n",
    "\n",
    "    max_features = min(len(X_uni.columns),50)\n",
    "\n",
    "    X_train, X_test , Y_train , Y_test = train_test_split(X_uni,Y,test_size=0.33,random_state=10)\n",
    "\n",
    "    forest_model = RandomForestRegressor(max_features=max_features,n_estimators=100, bootstrap=False,random_state = 999)\n",
    "    forest_model.fit(X_train, Y_train.values.ravel())\n",
    "    Y_pred = forest_model.predict(X_test) \n",
    "    \n",
    "    threshold.append(j)\n",
    "    accuracy.append(forest_model.score(X_test,Y_test))\n",
    "    mse.append(mean_squared_error(Y_test, Y_pred))\n",
    "    spearman.append(spearmanr(Y_test,Y_pred)[0])\n",
    "    num_cols.append(len(X_uni.columns))\n",
    "    cv.append(np.mean(cross_val_score(forest_model, X_train, Y_train.values.ravel(), cv=5)))\n",
    "    cv_spear.append(np.mean(cross_val_score(forest_model, X_train, Y_train.values.ravel(), cv=5,scoring=make_scorer(spear_r))))\n",
    "    \n",
    "\n",
    "results_unif_sub = pd.DataFrame(list(zip(threshold,accuracy,mse,spearman,num_cols,cv,cv_spear)),columns =['threshold', 'accuracy','mse','spearman','num_cols','cv','cv_spear']) "
   ]
  },
  {
   "cell_type": "code",
   "execution_count": 204,
   "metadata": {
    "collapsed": false,
    "scrolled": true
   },
   "outputs": [
    {
     "name": "stdout",
     "output_type": "stream",
     "text": [
      "0.4747580444788545\n"
     ]
    },
    {
     "data": {
      "image/png": "[encoded data removed]",
      "text/plain": [
       "<matplotlib.figure.Figure at 0x1a20423160>"
      ]
     },
     "metadata": {},
     "output_type": "display_data"
    }
   ],
   "source": [
    "sns.set_palette(\"husl\", 3)\n",
    "\n",
    "print(np.max(results_unif_sub['cv_spear']))\n",
    "\n",
    "pl.plot(results_unif_sub['threshold'],results_unif_sub['cv'])\n",
    "pl.plot(results_unif_sub['threshold'],results_unif_sub['cv_spear'])\n",
    "pl.plot(results_unif_sub['threshold'],results_unif_sub['mse'])\n",
    "pl.legend([r'cv $r^2$','cv spear','mse'])\n",
    "pl.show()"
   ]
  },
  {
   "cell_type": "markdown",
   "metadata": {},
   "source": [
    "## Test on only 6hr, treated data frame"
   ]
  },
  {
   "cell_type": "code",
   "execution_count": 188,
   "metadata": {
    "collapsed": false
   },
   "outputs": [],
   "source": [
    "threshold = []\n",
    "accuracy = []\n",
    "mse = []\n",
    "spearman = []\n",
    "num_cols = []\n",
    "cv = []\n",
    "cv_spear = []\n",
    "\n",
    "for j in np.arange(10,310,10):\n",
    "    X_uni = drop_univ(X_C,Y,j)\n",
    "\n",
    "    max_features = min(len(X_uni.columns),50)\n",
    "\n",
    "    X_train, X_test , Y_train , Y_test = train_test_split(X_uni,Y,test_size=0.33,random_state=10)\n",
    "\n",
    "    forest_model = RandomForestRegressor(max_features=max_features,n_estimators=100, bootstrap=False,random_state = 999)\n",
    "    forest_model.fit(X_train, Y_train.values.ravel())\n",
    "    Y_pred = forest_model.predict(X_test) \n",
    "    \n",
    "    threshold.append(j)\n",
    "    accuracy.append(forest_model.score(X_test,Y_test))\n",
    "    mse.append(mean_squared_error(Y_test, Y_pred))\n",
    "    spearman.append(spearmanr(Y_test,Y_pred)[0])\n",
    "    num_cols.append(len(X_uni.columns))\n",
    "    cv.append(np.mean(cross_val_score(forest_model, X_train, Y_train.values.ravel(), cv=5)))\n",
    "    cv_spear.append(np.mean(cross_val_score(forest_model, X_train, Y_train.values.ravel(), cv=5,scoring=make_scorer(spear_r))))\n",
    "    \n",
    "\n",
    "results_unif_sub2 = pd.DataFrame(list(zip(threshold,accuracy,mse,spearman,num_cols,cv,cv_spear)),columns =['threshold', 'accuracy','mse','spearman','num_cols','cv','cv_spear']) "
   ]
  },
  {
   "cell_type": "code",
   "execution_count": 203,
   "metadata": {
    "collapsed": false
   },
   "outputs": [
    {
     "name": "stdout",
     "output_type": "stream",
     "text": [
      "0.5462275359521785\n"
     ]
    },
    {
     "data": {
      "image/png": "[encoded data removed]",
      "text/plain": [
       "<matplotlib.figure.Figure at 0x1a1dd10fd0>"
      ]
     },
     "metadata": {},
     "output_type": "display_data"
    }
   ],
   "source": [
    "sns.set_palette(\"husl\", 3)\n",
    "\n",
    "print(np.max(results_unif_sub2['cv_spear']))\n",
    "\n",
    "pl.plot(results_unif_sub2['threshold'],results_unif_sub2['cv'])\n",
    "pl.plot(results_unif_sub2['threshold'],results_unif_sub2['cv_spear'])\n",
    "pl.plot(results_unif_sub2['threshold'],results_unif_sub2['mse'])\n",
    "pl.legend([r'cv $r^2$','cv spear','mse'])\n",
    "pl.show()"
   ]
  },
  {
   "cell_type": "code",
   "execution_count": 122,
   "metadata": {
    "collapsed": false
   },
   "outputs": [],
   "source": [
    "X_s = StandardScaler().fit_transform(X)\n",
    "transformer = GenericUnivariateSelect(f_regression,'k_best', param=70)\n",
    "X_uni = transformer.fit_transform(X_s, Y.values.ravel())\n",
    "X_uni = pd.DataFrame(data = X_uni)\n",
    "\n",
    "indices = transformer.get_support(indices=False)\n",
    "\n",
    "X_features = X.columns[indices].tolist()"
   ]
  },
  {
   "cell_type": "code",
   "execution_count": 123,
   "metadata": {
    "collapsed": false
   },
   "outputs": [
    {
     "name": "stdout",
     "output_type": "stream",
     "text": [
      "['A1040', 'A2793', 'B506', 'B1736', 'B2431', 'B4030', 'C44', 'C396', 'C419', 'C426', 'C511', 'C1103', 'C1315', 'C1531', 'C1559', 'C1702', 'C1751', 'C1786', 'C1820', 'C1904', 'C1949', 'C1970', 'C2035', 'C2097', 'C2260', 'C2287', 'C2567', 'C2681', 'C2711', 'C2714', 'C2718', 'C2905', 'C2931', 'C3078', 'C3238', 'C3257', 'C3291', 'C3357', 'C3361', 'C3436', 'C3531', 'C3577', 'C3702', 'C3985', 'C4292', 'C4607', 'C4743', 'C4792', 'C4861', 'C4982', 'C4987', 'C4988', 'C5019', 'C5058', 'C5240', 'C5245', 'C5444', 'D178', 'D960', 'D1103', 'D1107', 'D1181', 'D1901', 'D2061', 'D2241', 'D4447', 'D4866', 'D5025', 'D5183', 'D5520']\n"
     ]
    }
   ],
   "source": [
    "print(X_features)"
   ]
  },
  {
   "cell_type": "code",
   "execution_count": 124,
   "metadata": {
    "collapsed": false
   },
   "outputs": [],
   "source": [
    "X_s = StandardScaler().fit_transform(X_D)\n",
    "transformer = GenericUnivariateSelect(f_regression,'k_best', param=70)\n",
    "X_uni = transformer.fit_transform(X_s, Y.values.ravel())\n",
    "X_uni = pd.DataFrame(data = X_uni)\n",
    "\n",
    "indices = transformer.get_support(indices=False)\n",
    "\n",
    "X_D_features = X_D.columns[indices].tolist()"
   ]
  },
  {
   "cell_type": "code",
   "execution_count": 125,
   "metadata": {
    "collapsed": false
   },
   "outputs": [
    {
     "name": "stdout",
     "output_type": "stream",
     "text": [
      "['D2', 'D10', 'D14', 'D178', 'D206', 'D252', 'D292', 'D321', 'D410', 'D879', 'D960', 'D1035', 'D1056', 'D1103', 'D1107', 'D1108', 'D1110', 'D1181', 'D1314', 'D1367', 'D1459', 'D1505', 'D1553', 'D1603', 'D1626', 'D1901', 'D1910', 'D1914', 'D1985', 'D2061', 'D2229', 'D2233', 'D2236', 'D2241', 'D2279', 'D2342', 'D2619', 'D2643', 'D2753', 'D3069', 'D3169', 'D3349', 'D3398', 'D3432', 'D3463', 'D3464', 'D3564', 'D3638', 'D3647', 'D3924', 'D4062', 'D4161', 'D4193', 'D4227', 'D4447', 'D4591', 'D4640', 'D4754', 'D4785', 'D4815', 'D4866', 'D4995', 'D5025', 'D5029', 'D5033', 'D5182', 'D5183', 'D5481', 'D5485', 'D5520']\n"
     ]
    }
   ],
   "source": [
    "print(X_D_features)"
   ]
  },
  {
   "cell_type": "code",
   "execution_count": 126,
   "metadata": {
    "collapsed": true
   },
   "outputs": [],
   "source": [
    "X_s = StandardScaler().fit_transform(X_C)\n",
    "transformer = GenericUnivariateSelect(f_regression,'k_best', param=70)\n",
    "X_uni = transformer.fit_transform(X_s, Y.values.ravel())\n",
    "X_uni = pd.DataFrame(data = X_uni)\n",
    "\n",
    "indices = transformer.get_support(indices=False)\n",
    "\n",
    "X_C_features = X_C.columns[indices].tolist()"
   ]
  },
  {
   "cell_type": "code",
   "execution_count": 127,
   "metadata": {
    "collapsed": false
   },
   "outputs": [
    {
     "name": "stdout",
     "output_type": "stream",
     "text": [
      "['C44', 'C365', 'C396', 'C419', 'C426', 'C511', 'C563', 'C766', 'C1009', 'C1021', 'C1103', 'C1240', 'C1315', 'C1422', 'C1531', 'C1559', 'C1702', 'C1717', 'C1751', 'C1786', 'C1820', 'C1904', 'C1949', 'C1970', 'C2035', 'C2097', 'C2260', 'C2287', 'C2444', 'C2567', 'C2681', 'C2711', 'C2714', 'C2718', 'C2875', 'C2905', 'C2931', 'C3078', 'C3195', 'C3238', 'C3257', 'C3291', 'C3357', 'C3361', 'C3436', 'C3531', 'C3577', 'C3654', 'C3702', 'C3739', 'C3985', 'C4101', 'C4292', 'C4440', 'C4607', 'C4743', 'C4792', 'C4861', 'C4982', 'C4983', 'C4987', 'C4988', 'C5000', 'C5019', 'C5024', 'C5058', 'C5240', 'C5245', 'C5444', 'C5465']\n"
     ]
    }
   ],
   "source": [
    "print(X_C_features)"
   ]
  },
  {
   "cell_type": "code",
   "execution_count": 129,
   "metadata": {
    "collapsed": false
   },
   "outputs": [
    {
     "data": {
      "text/plain": [
       "['D5520',\n",
       " 'D4447',\n",
       " 'D1901',\n",
       " 'D178',\n",
       " 'D2241',\n",
       " 'D2061',\n",
       " 'D5025',\n",
       " 'D1103',\n",
       " 'D5183',\n",
       " 'D1107',\n",
       " 'D4866',\n",
       " 'D960',\n",
       " 'D1181']"
      ]
     },
     "execution_count": 129,
     "metadata": {},
     "output_type": "execute_result"
    }
   ],
   "source": [
    "list(set(X_features) & set(X_D_features))"
   ]
  },
  {
   "cell_type": "markdown",
   "metadata": {},
   "source": [
    "### Conclusion: treated 24hr gives better Spearman score, but reshaped gives better cross-val score\n",
    "- Weirdly, more features from the 6hr treated timepoint were used in the reshaped version"
   ]
  },
  {
   "cell_type": "markdown",
   "metadata": {},
   "source": [
    "## Randomized search with Random Forest and reshaped data frame"
   ]
  },
  {
   "cell_type": "code",
   "execution_count": 136,
   "metadata": {
    "collapsed": true
   },
   "outputs": [],
   "source": [
    "def spear_r(y_true, y_pred):\n",
    "    return spearmanr(y_true, y_pred)[0]"
   ]
  },
  {
   "cell_type": "code",
   "execution_count": 130,
   "metadata": {
    "collapsed": true
   },
   "outputs": [],
   "source": [
    "X_s = StandardScaler().fit_transform(X)\n",
    "transformer = GenericUnivariateSelect(f_regression,'k_best', param=70)\n",
    "X_uni = transformer.fit_transform(X_s, Y.values.ravel())\n",
    "X_uni = pd.DataFrame(data = X_uni)"
   ]
  },
  {
   "cell_type": "code",
   "execution_count": 167,
   "metadata": {
    "collapsed": false
   },
   "outputs": [
    {
     "name": "stdout",
     "output_type": "stream",
     "text": [
      "{'max_depth': 111, 'n_estimators': 153, 'max_features': 41}\n"
     ]
    },
    {
     "data": {
      "text/plain": [
       "0.5783716130081855"
      ]
     },
     "execution_count": 167,
     "metadata": {},
     "output_type": "execute_result"
    }
   ],
   "source": [
    "X_train, X_test , Y_train , Y_test = train_test_split(X_uni,Y,test_size=0.33,random_state=10)\n",
    "\n",
    "forest_model = RandomForestRegressor(bootstrap=False)\n",
    "\n",
    "param_dist = {\"n_estimators\": sp_randint(100,200),\n",
    "              \"max_features\": sp_randint(20, 70),\n",
    "              \"max_depth\": sp_randint(10,300)}\n",
    "\n",
    "scoring = {'r2': make_scorer(r2_score), 'spear_r': make_scorer(spear_r), 'mse': make_scorer(mean_squared_error)}\n",
    "\n",
    "n_iter_search = 100\n",
    "random_search = RandomizedSearchCV(forest_model, param_distributions=param_dist,\n",
    "                                   n_iter=n_iter_search, cv=5, iid=False, \n",
    "                                   scoring = scoring, refit = 'spear_r', return_train_score=True)\n",
    "\n",
    "random_search.fit(X_train, Y_train.values.ravel())\n",
    "print(random_search.best_params_)\n",
    "\n",
    "scores = pd.DataFrame(random_search.cv_results_)\n",
    "condition = scores['rank_test_spear_r'] == 1\n",
    "df_1 = scores[condition].reset_index(drop = True)\n",
    "df_1.loc[0, 'mean_test_spear_r']"
   ]
  },
  {
   "cell_type": "code",
   "execution_count": 173,
   "metadata": {
    "collapsed": false
   },
   "outputs": [
    {
     "data": {
      "text/html": [
       "<div>\n",
       "<style scoped>\n",
       "    .dataframe tbody tr th:only-of-type {\n",
       "        vertical-align: middle;\n",
       "    }\n",
       "\n",
       "    .dataframe tbody tr th {\n",
       "        vertical-align: top;\n",
       "    }\n",
       "\n",
       "    .dataframe thead th {\n",
       "        text-align: right;\n",
       "    }\n",
       "</style>\n",
       "<table border=\"1\" class=\"dataframe\">\n",
       "  <thead>\n",
       "    <tr style=\"text-align: right;\">\n",
       "      <th></th>\n",
       "      <th>param_max_depth</th>\n",
       "      <th>param_max_features</th>\n",
       "      <th>param_n_estimators</th>\n",
       "      <th>rank_test_spear_r</th>\n",
       "    </tr>\n",
       "  </thead>\n",
       "  <tbody>\n",
       "    <tr>\n",
       "      <th>91</th>\n",
       "      <td>111</td>\n",
       "      <td>41</td>\n",
       "      <td>153</td>\n",
       "      <td>1</td>\n",
       "    </tr>\n",
       "    <tr>\n",
       "      <th>93</th>\n",
       "      <td>73</td>\n",
       "      <td>37</td>\n",
       "      <td>110</td>\n",
       "      <td>2</td>\n",
       "    </tr>\n",
       "    <tr>\n",
       "      <th>15</th>\n",
       "      <td>289</td>\n",
       "      <td>48</td>\n",
       "      <td>122</td>\n",
       "      <td>3</td>\n",
       "    </tr>\n",
       "    <tr>\n",
       "      <th>97</th>\n",
       "      <td>136</td>\n",
       "      <td>33</td>\n",
       "      <td>149</td>\n",
       "      <td>4</td>\n",
       "    </tr>\n",
       "    <tr>\n",
       "      <th>32</th>\n",
       "      <td>222</td>\n",
       "      <td>29</td>\n",
       "      <td>158</td>\n",
       "      <td>5</td>\n",
       "    </tr>\n",
       "    <tr>\n",
       "      <th>62</th>\n",
       "      <td>157</td>\n",
       "      <td>25</td>\n",
       "      <td>195</td>\n",
       "      <td>6</td>\n",
       "    </tr>\n",
       "    <tr>\n",
       "      <th>38</th>\n",
       "      <td>292</td>\n",
       "      <td>32</td>\n",
       "      <td>130</td>\n",
       "      <td>7</td>\n",
       "    </tr>\n",
       "    <tr>\n",
       "      <th>95</th>\n",
       "      <td>254</td>\n",
       "      <td>21</td>\n",
       "      <td>168</td>\n",
       "      <td>8</td>\n",
       "    </tr>\n",
       "    <tr>\n",
       "      <th>78</th>\n",
       "      <td>217</td>\n",
       "      <td>38</td>\n",
       "      <td>121</td>\n",
       "      <td>9</td>\n",
       "    </tr>\n",
       "    <tr>\n",
       "      <th>92</th>\n",
       "      <td>78</td>\n",
       "      <td>44</td>\n",
       "      <td>151</td>\n",
       "      <td>10</td>\n",
       "    </tr>\n",
       "  </tbody>\n",
       "</table>\n",
       "</div>"
      ],
      "text/plain": [
       "   param_max_depth param_max_features param_n_estimators  rank_test_spear_r\n",
       "91             111                 41                153                  1\n",
       "93              73                 37                110                  2\n",
       "15             289                 48                122                  3\n",
       "97             136                 33                149                  4\n",
       "32             222                 29                158                  5\n",
       "62             157                 25                195                  6\n",
       "38             292                 32                130                  7\n",
       "95             254                 21                168                  8\n",
       "78             217                 38                121                  9\n",
       "92              78                 44                151                 10"
      ]
     },
     "execution_count": 173,
     "metadata": {},
     "output_type": "execute_result"
    }
   ],
   "source": [
    "scores[['param_max_depth','param_max_features','param_n_estimators','rank_test_spear_r']].sort_values(by='rank_test_spear_r').head(10)"
   ]
  },
  {
   "cell_type": "markdown",
   "metadata": {},
   "source": [
    "## Grid Search"
   ]
  },
  {
   "cell_type": "code",
   "execution_count": 175,
   "metadata": {
    "collapsed": false
   },
   "outputs": [
    {
     "name": "stdout",
     "output_type": "stream",
     "text": [
      "{'n_estimators': 100, 'max_features': 34}\n"
     ]
    },
    {
     "data": {
      "text/plain": [
       "0.5815642968718652"
      ]
     },
     "execution_count": 175,
     "metadata": {},
     "output_type": "execute_result"
    }
   ],
   "source": [
    "X_train, X_test , Y_train , Y_test = train_test_split(X_uni,Y,test_size=0.33,random_state=10)\n",
    "\n",
    "forest_model = RandomForestRegressor(bootstrap=False)\n",
    "\n",
    "param_grid = {\"n_estimators\": np.arange(100,170,10),\n",
    "              \"max_features\": np.arange(25,50,3)}\n",
    "\n",
    "scoring = {'r2': make_scorer(r2_score), 'spear_r': make_scorer(spear_r), 'mse': make_scorer(mean_squared_error)}\n",
    "\n",
    "grid_search = GridSearchCV(forest_model, param_grid=param_grid, cv=5, iid=False, \n",
    "                                   scoring = scoring, refit = 'spear_r', return_train_score=True)\n",
    "\n",
    "grid_search.fit(X_train, Y_train.values.ravel())\n",
    "print(grid_search.best_params_)\n",
    "\n",
    "grid_scores = pd.DataFrame(grid_search.cv_results_)\n",
    "condition = grid_scores['rank_test_spear_r'] == 1\n",
    "df_2 = grid_scores[condition].reset_index(drop = True)\n",
    "df_2.loc[0, 'mean_test_spear_r']"
   ]
  },
  {
   "cell_type": "code",
   "execution_count": 182,
   "metadata": {
    "collapsed": false
   },
   "outputs": [
    {
     "name": "stdout",
     "output_type": "stream",
     "text": [
      "accuracy: -0.2608398359494666\n",
      "mse: 0.3218119261111306\n",
      "spearman: 0.11006511499144654\n",
      "cv score: 0.2971310732922229\n"
     ]
    }
   ],
   "source": [
    "forest_model = RandomForestRegressor(max_features=34,n_estimators=100, bootstrap=False,random_state = 999)\n",
    "forest_model.fit(X_train, Y_train.values.ravel())\n",
    "Y_pred = forest_model.predict(X_test) \n",
    "\n",
    "print('accuracy: ' + str(forest_model.score(X_test,Y_test)))\n",
    "print('mse: ' + str(mean_squared_error(Y_test, Y_pred)))\n",
    "print('spearman: ' + str(spearmanr(Y_test,Y_pred)[0]))\n",
    "print('cv score: ' + str(np.mean(cross_val_score(forest_model, X_train, Y_train.values.ravel(), cv=5))))\n"
   ]
  },
  {
   "cell_type": "code",
   "execution_count": null,
   "metadata": {
    "collapsed": true
   },
   "outputs": [],
   "source": []
  }
 ],
 "metadata": {
  "anaconda-cloud": {},
  "kernelspec": {
   "display_name": "Python [conda env:miniconda3]",
   "language": "python",
   "name": "conda-env-miniconda3-py"
  },
  "language_info": {
   "codemirror_mode": {
    "name": "ipython",
    "version": 3
   },
   "file_extension": ".py",
   "mimetype": "text/x-python",
   "name": "python",
   "nbconvert_exporter": "python",
   "pygments_lexer": "ipython3",
   "version": "3.5.2"
  }
 },
 "nbformat": 4,
 "nbformat_minor": 1
}
