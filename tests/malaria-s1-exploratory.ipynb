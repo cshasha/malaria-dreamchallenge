{
 "cells": [
  {
   "cell_type": "markdown",
   "metadata": {},
   "source": [
    "# Exploratory data analysis and initial model testing"
   ]
  },
  {
   "cell_type": "code",
   "execution_count": 1,
   "metadata": {
    "collapsed": false
   },
   "outputs": [],
   "source": [
    "import numpy as np\n",
    "import pandas as pd\n",
    "import matplotlib.pyplot as pl\n",
    "from scipy.stats import randint as sp_randint\n",
    "from sklearn.metrics import mean_squared_error\n",
    "from sklearn.model_selection import train_test_split\n",
    "from sklearn.linear_model import LinearRegression\n",
    "from sklearn.linear_model import LogisticRegression\n",
    "from sklearn.svm import SVR\n",
    "from sklearn.tree import DecisionTreeRegressor\n",
    "from sklearn.ensemble import RandomForestRegressor\n",
    "from sklearn.naive_bayes import GaussianNB\n",
    "from sklearn.ensemble import AdaBoostRegressor\n",
    "from lmfit import Model\n",
    "from xgboost import XGBRegressor\n",
    "from collections import OrderedDict\n",
    "from sklearn.model_selection import GridSearchCV\n",
    "from sklearn.model_selection import RandomizedSearchCV\n",
    "from sklearn import neighbors\n",
    "from sklearn.ensemble import GradientBoostingRegressor\n",
    "from sklearn.metrics.pairwise import cosine_similarity\n",
    "#import autosklearn.regression\n",
    "\n",
    "pl.style.use('seaborn')\n",
    "pl.rc('font',family='Arial')"
   ]
  },
  {
   "cell_type": "markdown",
   "metadata": {},
   "source": [
    "## Read in data"
   ]
  },
  {
   "cell_type": "code",
   "execution_count": 2,
   "metadata": {
    "collapsed": true
   },
   "outputs": [],
   "source": [
    "raw_data = pd.read_csv(\"SubCh1_TrainingData.csv\")\n",
    "test_data = pd.read_csv(\"SubCh1_TestData.csv\")\n",
    "train_data = raw_data"
   ]
  },
  {
   "cell_type": "code",
   "execution_count": 3,
   "metadata": {
    "collapsed": false
   },
   "outputs": [
    {
     "data": {
      "text/html": [
       "<div>\n",
       "<style scoped>\n",
       "    .dataframe tbody tr th:only-of-type {\n",
       "        vertical-align: middle;\n",
       "    }\n",
       "\n",
       "    .dataframe tbody tr th {\n",
       "        vertical-align: top;\n",
       "    }\n",
       "\n",
       "    .dataframe thead th {\n",
       "        text-align: right;\n",
       "    }\n",
       "</style>\n",
       "<table border=\"1\" class=\"dataframe\">\n",
       "  <thead>\n",
       "    <tr style=\"text-align: right;\">\n",
       "      <th></th>\n",
       "      <th>Sample_Name</th>\n",
       "      <th>Isolate</th>\n",
       "      <th>Timepoint</th>\n",
       "      <th>Treatment</th>\n",
       "      <th>BioRep</th>\n",
       "      <th>MAL1.465720.465873.bc..rv..</th>\n",
       "      <th>MAL1.48287.48430....kr...can</th>\n",
       "      <th>MAL1.562126.562246.bc..r...</th>\n",
       "      <th>MAL1.59416.59687....kr...can</th>\n",
       "      <th>MAL1.616633.616682.......y.</th>\n",
       "      <th>...</th>\n",
       "      <th>PF3D7_1479200</th>\n",
       "      <th>PF3D7_1479400</th>\n",
       "      <th>PF3D7_1479500</th>\n",
       "      <th>PF3D7_1479600</th>\n",
       "      <th>PF3D7_1479700</th>\n",
       "      <th>PF3D7_1479800</th>\n",
       "      <th>PF3D7_1479900</th>\n",
       "      <th>PF3D7_1480000</th>\n",
       "      <th>PF3D7_1480100</th>\n",
       "      <th>DHA_IC50</th>\n",
       "    </tr>\n",
       "  </thead>\n",
       "  <tbody>\n",
       "    <tr>\n",
       "      <th>0</th>\n",
       "      <td>isolate_01.24HR.DHA.BRep1</td>\n",
       "      <td>isolate_01</td>\n",
       "      <td>24HR</td>\n",
       "      <td>DHA</td>\n",
       "      <td>BRep1</td>\n",
       "      <td>0.008286</td>\n",
       "      <td>-0.959492</td>\n",
       "      <td>0.206468</td>\n",
       "      <td>-0.443936</td>\n",
       "      <td>0.453030</td>\n",
       "      <td>...</td>\n",
       "      <td>-0.540993</td>\n",
       "      <td>-3.674097</td>\n",
       "      <td>-1.652979</td>\n",
       "      <td>-2.255490</td>\n",
       "      <td>-4.554757</td>\n",
       "      <td>-0.381422</td>\n",
       "      <td>-1.415857</td>\n",
       "      <td>-4.121011</td>\n",
       "      <td>-2.486528</td>\n",
       "      <td>2.177</td>\n",
       "    </tr>\n",
       "    <tr>\n",
       "      <th>1</th>\n",
       "      <td>isolate_01.24HR.DHA.BRep2</td>\n",
       "      <td>isolate_01</td>\n",
       "      <td>24HR</td>\n",
       "      <td>DHA</td>\n",
       "      <td>BRep2</td>\n",
       "      <td>-0.872028</td>\n",
       "      <td>-1.968558</td>\n",
       "      <td>-2.308563</td>\n",
       "      <td>-1.186611</td>\n",
       "      <td>0.508575</td>\n",
       "      <td>...</td>\n",
       "      <td>0.450649</td>\n",
       "      <td>-4.464408</td>\n",
       "      <td>-0.977954</td>\n",
       "      <td>-2.012559</td>\n",
       "      <td>-4.538550</td>\n",
       "      <td>-2.333890</td>\n",
       "      <td>-2.342496</td>\n",
       "      <td>-4.774197</td>\n",
       "      <td>-1.794568</td>\n",
       "      <td>2.177</td>\n",
       "    </tr>\n",
       "    <tr>\n",
       "      <th>2</th>\n",
       "      <td>isolate_01.24HR.UT.BRep1</td>\n",
       "      <td>isolate_01</td>\n",
       "      <td>24HR</td>\n",
       "      <td>UT</td>\n",
       "      <td>BRep1</td>\n",
       "      <td>0.039480</td>\n",
       "      <td>-1.291371</td>\n",
       "      <td>-0.946661</td>\n",
       "      <td>-0.538092</td>\n",
       "      <td>-1.778501</td>\n",
       "      <td>...</td>\n",
       "      <td>1.411557</td>\n",
       "      <td>-5.500522</td>\n",
       "      <td>-1.764229</td>\n",
       "      <td>-1.947208</td>\n",
       "      <td>-5.331037</td>\n",
       "      <td>-0.814417</td>\n",
       "      <td>-2.141285</td>\n",
       "      <td>-3.922684</td>\n",
       "      <td>-2.495169</td>\n",
       "      <td>2.177</td>\n",
       "    </tr>\n",
       "    <tr>\n",
       "      <th>3</th>\n",
       "      <td>isolate_01.24HR.UT.BRep2</td>\n",
       "      <td>isolate_01</td>\n",
       "      <td>24HR</td>\n",
       "      <td>UT</td>\n",
       "      <td>BRep2</td>\n",
       "      <td>0.125177</td>\n",
       "      <td>-1.462758</td>\n",
       "      <td>-1.888105</td>\n",
       "      <td>-0.828352</td>\n",
       "      <td>-1.410803</td>\n",
       "      <td>...</td>\n",
       "      <td>-0.659519</td>\n",
       "      <td>-5.011207</td>\n",
       "      <td>-0.559471</td>\n",
       "      <td>-2.266763</td>\n",
       "      <td>-5.289318</td>\n",
       "      <td>-2.949869</td>\n",
       "      <td>-2.206432</td>\n",
       "      <td>-4.324299</td>\n",
       "      <td>-1.735312</td>\n",
       "      <td>2.177</td>\n",
       "    </tr>\n",
       "    <tr>\n",
       "      <th>4</th>\n",
       "      <td>isolate_01.6HR.DHA.BRep1</td>\n",
       "      <td>isolate_01</td>\n",
       "      <td>6HR</td>\n",
       "      <td>DHA</td>\n",
       "      <td>BRep1</td>\n",
       "      <td>1.354956</td>\n",
       "      <td>-2.139128</td>\n",
       "      <td>-0.541696</td>\n",
       "      <td>-1.481881</td>\n",
       "      <td>-0.735798</td>\n",
       "      <td>...</td>\n",
       "      <td>-1.687048</td>\n",
       "      <td>-4.773306</td>\n",
       "      <td>-0.048847</td>\n",
       "      <td>-2.023727</td>\n",
       "      <td>-4.398358</td>\n",
       "      <td>-3.080500</td>\n",
       "      <td>-0.566545</td>\n",
       "      <td>-4.798190</td>\n",
       "      <td>-0.821690</td>\n",
       "      <td>2.177</td>\n",
       "    </tr>\n",
       "    <tr>\n",
       "      <th>5</th>\n",
       "      <td>isolate_01.6HR.DHA.BRep2</td>\n",
       "      <td>isolate_01</td>\n",
       "      <td>6HR</td>\n",
       "      <td>DHA</td>\n",
       "      <td>BRep2</td>\n",
       "      <td>-0.218074</td>\n",
       "      <td>-1.068870</td>\n",
       "      <td>-1.440467</td>\n",
       "      <td>-0.818662</td>\n",
       "      <td>-1.012132</td>\n",
       "      <td>...</td>\n",
       "      <td>-1.193494</td>\n",
       "      <td>0.062885</td>\n",
       "      <td>-0.309228</td>\n",
       "      <td>-1.563902</td>\n",
       "      <td>-3.632878</td>\n",
       "      <td>-2.245867</td>\n",
       "      <td>-1.462684</td>\n",
       "      <td>-4.701007</td>\n",
       "      <td>-1.618385</td>\n",
       "      <td>2.177</td>\n",
       "    </tr>\n",
       "    <tr>\n",
       "      <th>6</th>\n",
       "      <td>isolate_01.6HR.UT.BRep1</td>\n",
       "      <td>isolate_01</td>\n",
       "      <td>6HR</td>\n",
       "      <td>UT</td>\n",
       "      <td>BRep1</td>\n",
       "      <td>1.311350</td>\n",
       "      <td>-1.613464</td>\n",
       "      <td>-1.298663</td>\n",
       "      <td>-1.441343</td>\n",
       "      <td>-1.735923</td>\n",
       "      <td>...</td>\n",
       "      <td>-0.664116</td>\n",
       "      <td>-6.617301</td>\n",
       "      <td>2.161030</td>\n",
       "      <td>0.411185</td>\n",
       "      <td>-4.491597</td>\n",
       "      <td>-1.825722</td>\n",
       "      <td>-1.490832</td>\n",
       "      <td>-5.514126</td>\n",
       "      <td>-2.622619</td>\n",
       "      <td>2.177</td>\n",
       "    </tr>\n",
       "    <tr>\n",
       "      <th>7</th>\n",
       "      <td>isolate_01.6HR.UT.BRep2</td>\n",
       "      <td>isolate_01</td>\n",
       "      <td>6HR</td>\n",
       "      <td>UT</td>\n",
       "      <td>BRep2</td>\n",
       "      <td>0.997722</td>\n",
       "      <td>-1.553994</td>\n",
       "      <td>-1.960600</td>\n",
       "      <td>-1.424590</td>\n",
       "      <td>0.023609</td>\n",
       "      <td>...</td>\n",
       "      <td>-0.136047</td>\n",
       "      <td>-4.869960</td>\n",
       "      <td>-1.340846</td>\n",
       "      <td>-2.424770</td>\n",
       "      <td>-4.075909</td>\n",
       "      <td>-0.819760</td>\n",
       "      <td>-2.626978</td>\n",
       "      <td>-4.087643</td>\n",
       "      <td>-2.247185</td>\n",
       "      <td>2.177</td>\n",
       "    </tr>\n",
       "    <tr>\n",
       "      <th>8</th>\n",
       "      <td>isolate_02.24HR.DHA.BRep1</td>\n",
       "      <td>isolate_02</td>\n",
       "      <td>24HR</td>\n",
       "      <td>DHA</td>\n",
       "      <td>BRep1</td>\n",
       "      <td>-0.178971</td>\n",
       "      <td>-1.922426</td>\n",
       "      <td>-1.875015</td>\n",
       "      <td>-1.484605</td>\n",
       "      <td>-0.233600</td>\n",
       "      <td>...</td>\n",
       "      <td>0.024133</td>\n",
       "      <td>-2.215227</td>\n",
       "      <td>-1.957654</td>\n",
       "      <td>-2.188635</td>\n",
       "      <td>-4.424748</td>\n",
       "      <td>-2.986927</td>\n",
       "      <td>-1.722201</td>\n",
       "      <td>-3.995680</td>\n",
       "      <td>-0.902979</td>\n",
       "      <td>1.697</td>\n",
       "    </tr>\n",
       "    <tr>\n",
       "      <th>9</th>\n",
       "      <td>isolate_02.24HR.DHA.BRep2</td>\n",
       "      <td>isolate_02</td>\n",
       "      <td>24HR</td>\n",
       "      <td>DHA</td>\n",
       "      <td>BRep2</td>\n",
       "      <td>1.337421</td>\n",
       "      <td>-1.764941</td>\n",
       "      <td>-0.414673</td>\n",
       "      <td>-0.686910</td>\n",
       "      <td>0.291468</td>\n",
       "      <td>...</td>\n",
       "      <td>0.806314</td>\n",
       "      <td>-3.733712</td>\n",
       "      <td>-1.990368</td>\n",
       "      <td>-1.633418</td>\n",
       "      <td>-5.533077</td>\n",
       "      <td>-3.283316</td>\n",
       "      <td>-2.104227</td>\n",
       "      <td>-5.767710</td>\n",
       "      <td>-2.177930</td>\n",
       "      <td>1.697</td>\n",
       "    </tr>\n",
       "  </tbody>\n",
       "</table>\n",
       "<p>10 rows × 5546 columns</p>\n",
       "</div>"
      ],
      "text/plain": [
       "                 Sample_Name     Isolate Timepoint Treatment BioRep  \\\n",
       "0  isolate_01.24HR.DHA.BRep1  isolate_01      24HR       DHA  BRep1   \n",
       "1  isolate_01.24HR.DHA.BRep2  isolate_01      24HR       DHA  BRep2   \n",
       "2   isolate_01.24HR.UT.BRep1  isolate_01      24HR        UT  BRep1   \n",
       "3   isolate_01.24HR.UT.BRep2  isolate_01      24HR        UT  BRep2   \n",
       "4   isolate_01.6HR.DHA.BRep1  isolate_01       6HR       DHA  BRep1   \n",
       "5   isolate_01.6HR.DHA.BRep2  isolate_01       6HR       DHA  BRep2   \n",
       "6    isolate_01.6HR.UT.BRep1  isolate_01       6HR        UT  BRep1   \n",
       "7    isolate_01.6HR.UT.BRep2  isolate_01       6HR        UT  BRep2   \n",
       "8  isolate_02.24HR.DHA.BRep1  isolate_02      24HR       DHA  BRep1   \n",
       "9  isolate_02.24HR.DHA.BRep2  isolate_02      24HR       DHA  BRep2   \n",
       "\n",
       "   MAL1.465720.465873.bc..rv..  MAL1.48287.48430....kr...can  \\\n",
       "0                     0.008286                     -0.959492   \n",
       "1                    -0.872028                     -1.968558   \n",
       "2                     0.039480                     -1.291371   \n",
       "3                     0.125177                     -1.462758   \n",
       "4                     1.354956                     -2.139128   \n",
       "5                    -0.218074                     -1.068870   \n",
       "6                     1.311350                     -1.613464   \n",
       "7                     0.997722                     -1.553994   \n",
       "8                    -0.178971                     -1.922426   \n",
       "9                     1.337421                     -1.764941   \n",
       "\n",
       "   MAL1.562126.562246.bc..r...  MAL1.59416.59687....kr...can  \\\n",
       "0                     0.206468                     -0.443936   \n",
       "1                    -2.308563                     -1.186611   \n",
       "2                    -0.946661                     -0.538092   \n",
       "3                    -1.888105                     -0.828352   \n",
       "4                    -0.541696                     -1.481881   \n",
       "5                    -1.440467                     -0.818662   \n",
       "6                    -1.298663                     -1.441343   \n",
       "7                    -1.960600                     -1.424590   \n",
       "8                    -1.875015                     -1.484605   \n",
       "9                    -0.414673                     -0.686910   \n",
       "\n",
       "   MAL1.616633.616682.......y.    ...     PF3D7_1479200  PF3D7_1479400  \\\n",
       "0                     0.453030    ...         -0.540993      -3.674097   \n",
       "1                     0.508575    ...          0.450649      -4.464408   \n",
       "2                    -1.778501    ...          1.411557      -5.500522   \n",
       "3                    -1.410803    ...         -0.659519      -5.011207   \n",
       "4                    -0.735798    ...         -1.687048      -4.773306   \n",
       "5                    -1.012132    ...         -1.193494       0.062885   \n",
       "6                    -1.735923    ...         -0.664116      -6.617301   \n",
       "7                     0.023609    ...         -0.136047      -4.869960   \n",
       "8                    -0.233600    ...          0.024133      -2.215227   \n",
       "9                     0.291468    ...          0.806314      -3.733712   \n",
       "\n",
       "   PF3D7_1479500  PF3D7_1479600  PF3D7_1479700  PF3D7_1479800  PF3D7_1479900  \\\n",
       "0      -1.652979      -2.255490      -4.554757      -0.381422      -1.415857   \n",
       "1      -0.977954      -2.012559      -4.538550      -2.333890      -2.342496   \n",
       "2      -1.764229      -1.947208      -5.331037      -0.814417      -2.141285   \n",
       "3      -0.559471      -2.266763      -5.289318      -2.949869      -2.206432   \n",
       "4      -0.048847      -2.023727      -4.398358      -3.080500      -0.566545   \n",
       "5      -0.309228      -1.563902      -3.632878      -2.245867      -1.462684   \n",
       "6       2.161030       0.411185      -4.491597      -1.825722      -1.490832   \n",
       "7      -1.340846      -2.424770      -4.075909      -0.819760      -2.626978   \n",
       "8      -1.957654      -2.188635      -4.424748      -2.986927      -1.722201   \n",
       "9      -1.990368      -1.633418      -5.533077      -3.283316      -2.104227   \n",
       "\n",
       "   PF3D7_1480000  PF3D7_1480100  DHA_IC50  \n",
       "0      -4.121011      -2.486528     2.177  \n",
       "1      -4.774197      -1.794568     2.177  \n",
       "2      -3.922684      -2.495169     2.177  \n",
       "3      -4.324299      -1.735312     2.177  \n",
       "4      -4.798190      -0.821690     2.177  \n",
       "5      -4.701007      -1.618385     2.177  \n",
       "6      -5.514126      -2.622619     2.177  \n",
       "7      -4.087643      -2.247185     2.177  \n",
       "8      -3.995680      -0.902979     1.697  \n",
       "9      -5.767710      -2.177930     1.697  \n",
       "\n",
       "[10 rows x 5546 columns]"
      ]
     },
     "execution_count": 3,
     "metadata": {},
     "output_type": "execute_result"
    }
   ],
   "source": [
    "train_data.head(10)"
   ]
  },
  {
   "cell_type": "code",
   "execution_count": 4,
   "metadata": {
    "collapsed": false
   },
   "outputs": [],
   "source": [
    "train_data['Timepoint'] = [1 if i == '24HR' else 0 for i in train_data['Timepoint']]\n",
    "train_data['Treatment'] = [1 if i == 'DHA' else 0 for i in train_data['Treatment']]\n",
    "train_data['BioRep'] = [int(i[-1]) for i in train_data['BioRep']]"
   ]
  },
  {
   "cell_type": "code",
   "execution_count": 5,
   "metadata": {
    "collapsed": false
   },
   "outputs": [
    {
     "data": {
      "text/html": [
       "<div>\n",
       "<style scoped>\n",
       "    .dataframe tbody tr th:only-of-type {\n",
       "        vertical-align: middle;\n",
       "    }\n",
       "\n",
       "    .dataframe tbody tr th {\n",
       "        vertical-align: top;\n",
       "    }\n",
       "\n",
       "    .dataframe thead th {\n",
       "        text-align: right;\n",
       "    }\n",
       "</style>\n",
       "<table border=\"1\" class=\"dataframe\">\n",
       "  <thead>\n",
       "    <tr style=\"text-align: right;\">\n",
       "      <th></th>\n",
       "      <th>Sample_Name</th>\n",
       "      <th>Isolate</th>\n",
       "      <th>Timepoint</th>\n",
       "      <th>Treatment</th>\n",
       "      <th>BioRep</th>\n",
       "      <th>MAL1.465720.465873.bc..rv..</th>\n",
       "      <th>MAL1.48287.48430....kr...can</th>\n",
       "      <th>MAL1.562126.562246.bc..r...</th>\n",
       "      <th>MAL1.59416.59687....kr...can</th>\n",
       "      <th>MAL1.616633.616682.......y.</th>\n",
       "      <th>...</th>\n",
       "      <th>PF3D7_1479200</th>\n",
       "      <th>PF3D7_1479400</th>\n",
       "      <th>PF3D7_1479500</th>\n",
       "      <th>PF3D7_1479600</th>\n",
       "      <th>PF3D7_1479700</th>\n",
       "      <th>PF3D7_1479800</th>\n",
       "      <th>PF3D7_1479900</th>\n",
       "      <th>PF3D7_1480000</th>\n",
       "      <th>PF3D7_1480100</th>\n",
       "      <th>DHA_IC50</th>\n",
       "    </tr>\n",
       "  </thead>\n",
       "  <tbody>\n",
       "    <tr>\n",
       "      <th>0</th>\n",
       "      <td>isolate_01.24HR.DHA.BRep1</td>\n",
       "      <td>isolate_01</td>\n",
       "      <td>1</td>\n",
       "      <td>1</td>\n",
       "      <td>1</td>\n",
       "      <td>0.008286</td>\n",
       "      <td>-0.959492</td>\n",
       "      <td>0.206468</td>\n",
       "      <td>-0.443936</td>\n",
       "      <td>0.453030</td>\n",
       "      <td>...</td>\n",
       "      <td>-0.540993</td>\n",
       "      <td>-3.674097</td>\n",
       "      <td>-1.652979</td>\n",
       "      <td>-2.255490</td>\n",
       "      <td>-4.554757</td>\n",
       "      <td>-0.381422</td>\n",
       "      <td>-1.415857</td>\n",
       "      <td>-4.121011</td>\n",
       "      <td>-2.486528</td>\n",
       "      <td>2.177</td>\n",
       "    </tr>\n",
       "    <tr>\n",
       "      <th>1</th>\n",
       "      <td>isolate_01.24HR.DHA.BRep2</td>\n",
       "      <td>isolate_01</td>\n",
       "      <td>1</td>\n",
       "      <td>1</td>\n",
       "      <td>2</td>\n",
       "      <td>-0.872028</td>\n",
       "      <td>-1.968558</td>\n",
       "      <td>-2.308563</td>\n",
       "      <td>-1.186611</td>\n",
       "      <td>0.508575</td>\n",
       "      <td>...</td>\n",
       "      <td>0.450649</td>\n",
       "      <td>-4.464408</td>\n",
       "      <td>-0.977954</td>\n",
       "      <td>-2.012559</td>\n",
       "      <td>-4.538550</td>\n",
       "      <td>-2.333890</td>\n",
       "      <td>-2.342496</td>\n",
       "      <td>-4.774197</td>\n",
       "      <td>-1.794568</td>\n",
       "      <td>2.177</td>\n",
       "    </tr>\n",
       "    <tr>\n",
       "      <th>2</th>\n",
       "      <td>isolate_01.24HR.UT.BRep1</td>\n",
       "      <td>isolate_01</td>\n",
       "      <td>1</td>\n",
       "      <td>0</td>\n",
       "      <td>1</td>\n",
       "      <td>0.039480</td>\n",
       "      <td>-1.291371</td>\n",
       "      <td>-0.946661</td>\n",
       "      <td>-0.538092</td>\n",
       "      <td>-1.778501</td>\n",
       "      <td>...</td>\n",
       "      <td>1.411557</td>\n",
       "      <td>-5.500522</td>\n",
       "      <td>-1.764229</td>\n",
       "      <td>-1.947208</td>\n",
       "      <td>-5.331037</td>\n",
       "      <td>-0.814417</td>\n",
       "      <td>-2.141285</td>\n",
       "      <td>-3.922684</td>\n",
       "      <td>-2.495169</td>\n",
       "      <td>2.177</td>\n",
       "    </tr>\n",
       "    <tr>\n",
       "      <th>3</th>\n",
       "      <td>isolate_01.24HR.UT.BRep2</td>\n",
       "      <td>isolate_01</td>\n",
       "      <td>1</td>\n",
       "      <td>0</td>\n",
       "      <td>2</td>\n",
       "      <td>0.125177</td>\n",
       "      <td>-1.462758</td>\n",
       "      <td>-1.888105</td>\n",
       "      <td>-0.828352</td>\n",
       "      <td>-1.410803</td>\n",
       "      <td>...</td>\n",
       "      <td>-0.659519</td>\n",
       "      <td>-5.011207</td>\n",
       "      <td>-0.559471</td>\n",
       "      <td>-2.266763</td>\n",
       "      <td>-5.289318</td>\n",
       "      <td>-2.949869</td>\n",
       "      <td>-2.206432</td>\n",
       "      <td>-4.324299</td>\n",
       "      <td>-1.735312</td>\n",
       "      <td>2.177</td>\n",
       "    </tr>\n",
       "    <tr>\n",
       "      <th>4</th>\n",
       "      <td>isolate_01.6HR.DHA.BRep1</td>\n",
       "      <td>isolate_01</td>\n",
       "      <td>0</td>\n",
       "      <td>1</td>\n",
       "      <td>1</td>\n",
       "      <td>1.354956</td>\n",
       "      <td>-2.139128</td>\n",
       "      <td>-0.541696</td>\n",
       "      <td>-1.481881</td>\n",
       "      <td>-0.735798</td>\n",
       "      <td>...</td>\n",
       "      <td>-1.687048</td>\n",
       "      <td>-4.773306</td>\n",
       "      <td>-0.048847</td>\n",
       "      <td>-2.023727</td>\n",
       "      <td>-4.398358</td>\n",
       "      <td>-3.080500</td>\n",
       "      <td>-0.566545</td>\n",
       "      <td>-4.798190</td>\n",
       "      <td>-0.821690</td>\n",
       "      <td>2.177</td>\n",
       "    </tr>\n",
       "  </tbody>\n",
       "</table>\n",
       "<p>5 rows × 5546 columns</p>\n",
       "</div>"
      ],
      "text/plain": [
       "                 Sample_Name     Isolate  Timepoint  Treatment  BioRep  \\\n",
       "0  isolate_01.24HR.DHA.BRep1  isolate_01          1          1       1   \n",
       "1  isolate_01.24HR.DHA.BRep2  isolate_01          1          1       2   \n",
       "2   isolate_01.24HR.UT.BRep1  isolate_01          1          0       1   \n",
       "3   isolate_01.24HR.UT.BRep2  isolate_01          1          0       2   \n",
       "4   isolate_01.6HR.DHA.BRep1  isolate_01          0          1       1   \n",
       "\n",
       "   MAL1.465720.465873.bc..rv..  MAL1.48287.48430....kr...can  \\\n",
       "0                     0.008286                     -0.959492   \n",
       "1                    -0.872028                     -1.968558   \n",
       "2                     0.039480                     -1.291371   \n",
       "3                     0.125177                     -1.462758   \n",
       "4                     1.354956                     -2.139128   \n",
       "\n",
       "   MAL1.562126.562246.bc..r...  MAL1.59416.59687....kr...can  \\\n",
       "0                     0.206468                     -0.443936   \n",
       "1                    -2.308563                     -1.186611   \n",
       "2                    -0.946661                     -0.538092   \n",
       "3                    -1.888105                     -0.828352   \n",
       "4                    -0.541696                     -1.481881   \n",
       "\n",
       "   MAL1.616633.616682.......y.    ...     PF3D7_1479200  PF3D7_1479400  \\\n",
       "0                     0.453030    ...         -0.540993      -3.674097   \n",
       "1                     0.508575    ...          0.450649      -4.464408   \n",
       "2                    -1.778501    ...          1.411557      -5.500522   \n",
       "3                    -1.410803    ...         -0.659519      -5.011207   \n",
       "4                    -0.735798    ...         -1.687048      -4.773306   \n",
       "\n",
       "   PF3D7_1479500  PF3D7_1479600  PF3D7_1479700  PF3D7_1479800  PF3D7_1479900  \\\n",
       "0      -1.652979      -2.255490      -4.554757      -0.381422      -1.415857   \n",
       "1      -0.977954      -2.012559      -4.538550      -2.333890      -2.342496   \n",
       "2      -1.764229      -1.947208      -5.331037      -0.814417      -2.141285   \n",
       "3      -0.559471      -2.266763      -5.289318      -2.949869      -2.206432   \n",
       "4      -0.048847      -2.023727      -4.398358      -3.080500      -0.566545   \n",
       "\n",
       "   PF3D7_1480000  PF3D7_1480100  DHA_IC50  \n",
       "0      -4.121011      -2.486528     2.177  \n",
       "1      -4.774197      -1.794568     2.177  \n",
       "2      -3.922684      -2.495169     2.177  \n",
       "3      -4.324299      -1.735312     2.177  \n",
       "4      -4.798190      -0.821690     2.177  \n",
       "\n",
       "[5 rows x 5546 columns]"
      ]
     },
     "execution_count": 5,
     "metadata": {},
     "output_type": "execute_result"
    }
   ],
   "source": [
    "train_data.head()"
   ]
  },
  {
   "cell_type": "code",
   "execution_count": 6,
   "metadata": {
    "collapsed": false
   },
   "outputs": [
    {
     "data": {
      "text/plain": [
       "'MAL1.465720.465873.bc..rv..'"
      ]
     },
     "execution_count": 6,
     "metadata": {},
     "output_type": "execute_result"
    }
   ],
   "source": [
    "genes = list(train_data.drop(['DHA_IC50','Sample_Name','Isolate','Timepoint','Treatment','BioRep'], axis=1).columns)\n",
    "genes[0]"
   ]
  },
  {
   "cell_type": "code",
   "execution_count": 24,
   "metadata": {
    "collapsed": false
   },
   "outputs": [
    {
     "data": {
      "text/plain": [
       "PF3D7_1254500                 3.259061\n",
       "PF3D7_0632300                 3.223630\n",
       "PF3D7_1300400                 2.570437\n",
       "PF3D7_0930300                 2.407255\n",
       "PF3D7_1200300                 2.311024\n",
       "PF3D7_1040600                 2.310707\n",
       "PF3D7_0400500                 2.044754\n",
       "PF3D7_1400400                 2.021674\n",
       "PF3D7_0900300                 2.010657\n",
       "PF3D7_1040500                 1.928240\n",
       "PF3D7_0401400                 1.924573\n",
       "PF3D7_1040900                 1.908138\n",
       "PF3D7_1040100                 1.783659\n",
       "PF3D7_1254200                 1.755464\n",
       "PF3D7_0600900                 1.743729\n",
       "PF3D7_0632400                 1.731571\n",
       "PF3D7_1335300                 1.730629\n",
       "PF3D7_0100900                 1.700307\n",
       "PF3D7_0425200                 1.682786\n",
       "PF3D7_0606400                 1.669513\n",
       "PF3D7_1041100                 1.656631\n",
       "PF3D7_0414900                 1.647506\n",
       "PF3D7_0730700                 1.639114\n",
       "MAL9.1364119.1364181.....r    1.633403\n",
       "PF3D7_1300700                 1.615216\n",
       "PF3D7_0206800                 1.603501\n",
       "PF3D7_1479400                 1.541447\n",
       "PF3D7_0424800                 1.533533\n",
       "PF3D7_1101300                 1.527376\n",
       "PF3D7_0115000                 1.514586\n",
       "dtype: float64"
      ]
     },
     "execution_count": 24,
     "metadata": {},
     "output_type": "execute_result"
    }
   ],
   "source": [
    "sub1 = train_data[(train_data['Treatment'] == 1)&(train_data['Timepoint'] == 1)&(train_data['BioRep'] == 1)]\n",
    "sub2 = train_data[(train_data['Treatment'] == 1)&(train_data['Timepoint'] == 1)&(train_data['BioRep'] == 2)]\n",
    "\n",
    "sub1 = sub1.drop(['DHA_IC50','Sample_Name','Isolate','Timepoint','Treatment','BioRep'],axis=1)\n",
    "sub1 = sub1.apply(lambda x: x.std(), axis=0)\n",
    "sub1.sort_values(ascending=False).head(30)"
   ]
  },
  {
   "cell_type": "code",
   "execution_count": 8,
   "metadata": {
    "collapsed": false
   },
   "outputs": [
    {
     "data": {
      "image/png": "[encoded data removed]",
      "text/plain": [
       "<matplotlib.figure.Figure at 0x11147a240>"
      ]
     },
     "metadata": {},
     "output_type": "display_data"
    }
   ],
   "source": [
    "sub1 = train_data[(train_data['Treatment'] == 0)&(train_data['Timepoint'] == 0)]\n",
    "sub2 = train_data[(train_data['Treatment'] == 1)&(train_data['Timepoint'] == 0)]\n",
    "\n",
    "pl.plot(sub1['PF3D7_1040600'],sub1['DHA_IC50'],marker='o',linestyle='none')\n",
    "pl.plot(sub2['PF3D7_1040600'],sub2['DHA_IC50'],marker='o',linestyle='none')\n",
    "pl.show()"
   ]
  },
  {
   "cell_type": "markdown",
   "metadata": {},
   "source": [
    "### Drop out features with high variance between bioreps"
   ]
  },
  {
   "cell_type": "code",
   "execution_count": 25,
   "metadata": {
    "collapsed": false
   },
   "outputs": [
    {
     "data": {
      "text/html": [
       "<div>\n",
       "<style scoped>\n",
       "    .dataframe tbody tr th:only-of-type {\n",
       "        vertical-align: middle;\n",
       "    }\n",
       "\n",
       "    .dataframe tbody tr th {\n",
       "        vertical-align: top;\n",
       "    }\n",
       "\n",
       "    .dataframe thead th {\n",
       "        text-align: right;\n",
       "    }\n",
       "</style>\n",
       "<table border=\"1\" class=\"dataframe\">\n",
       "  <thead>\n",
       "    <tr style=\"text-align: right;\">\n",
       "      <th></th>\n",
       "      <th>Timepoint</th>\n",
       "      <th>Treatment</th>\n",
       "      <th>BioRep</th>\n",
       "      <th>PF3D7_0102700</th>\n",
       "      <th>PF3D7_0103300</th>\n",
       "      <th>PF3D7_0104300</th>\n",
       "      <th>PF3D7_0110900</th>\n",
       "      <th>PF3D7_0203900</th>\n",
       "      <th>PF3D7_0205900</th>\n",
       "      <th>PF3D7_0208300</th>\n",
       "      <th>...</th>\n",
       "      <th>PF3D7_1443000</th>\n",
       "      <th>PF3D7_1447700</th>\n",
       "      <th>PF3D7_1452900</th>\n",
       "      <th>PF3D7_1459400</th>\n",
       "      <th>PF3D7_1466800</th>\n",
       "      <th>PF3D7_1472400</th>\n",
       "      <th>PF3D7_1474400</th>\n",
       "      <th>PF3D7_1475500</th>\n",
       "      <th>PF3D7_1480100</th>\n",
       "      <th>DHA_IC50</th>\n",
       "    </tr>\n",
       "  </thead>\n",
       "  <tbody>\n",
       "    <tr>\n",
       "      <th>count</th>\n",
       "      <td>272.000000</td>\n",
       "      <td>272.000000</td>\n",
       "      <td>272.000000</td>\n",
       "      <td>272.000000</td>\n",
       "      <td>272.000000</td>\n",
       "      <td>272.000000</td>\n",
       "      <td>272.000000</td>\n",
       "      <td>272.000000</td>\n",
       "      <td>272.000000</td>\n",
       "      <td>272.000000</td>\n",
       "      <td>...</td>\n",
       "      <td>272.000000</td>\n",
       "      <td>272.000000</td>\n",
       "      <td>272.000000</td>\n",
       "      <td>272.000000</td>\n",
       "      <td>272.000000</td>\n",
       "      <td>272.000000</td>\n",
       "      <td>272.000000</td>\n",
       "      <td>272.000000</td>\n",
       "      <td>272.000000</td>\n",
       "      <td>272.000000</td>\n",
       "    </tr>\n",
       "    <tr>\n",
       "      <th>mean</th>\n",
       "      <td>0.500000</td>\n",
       "      <td>0.500000</td>\n",
       "      <td>1.911765</td>\n",
       "      <td>-0.656518</td>\n",
       "      <td>0.003341</td>\n",
       "      <td>0.488966</td>\n",
       "      <td>0.911122</td>\n",
       "      <td>0.186162</td>\n",
       "      <td>-0.408952</td>\n",
       "      <td>0.477734</td>\n",
       "      <td>...</td>\n",
       "      <td>0.048526</td>\n",
       "      <td>0.126642</td>\n",
       "      <td>-0.542918</td>\n",
       "      <td>0.491481</td>\n",
       "      <td>0.467162</td>\n",
       "      <td>1.090970</td>\n",
       "      <td>-0.194671</td>\n",
       "      <td>-0.079263</td>\n",
       "      <td>-1.746997</td>\n",
       "      <td>1.570315</td>\n",
       "    </tr>\n",
       "    <tr>\n",
       "      <th>std</th>\n",
       "      <td>0.500922</td>\n",
       "      <td>0.500922</td>\n",
       "      <td>1.360869</td>\n",
       "      <td>0.768074</td>\n",
       "      <td>0.383878</td>\n",
       "      <td>0.414207</td>\n",
       "      <td>0.706979</td>\n",
       "      <td>0.450413</td>\n",
       "      <td>0.515017</td>\n",
       "      <td>0.384497</td>\n",
       "      <td>...</td>\n",
       "      <td>0.391449</td>\n",
       "      <td>0.447384</td>\n",
       "      <td>0.523201</td>\n",
       "      <td>0.543249</td>\n",
       "      <td>0.557915</td>\n",
       "      <td>0.345910</td>\n",
       "      <td>0.260255</td>\n",
       "      <td>0.546303</td>\n",
       "      <td>0.800431</td>\n",
       "      <td>0.534407</td>\n",
       "    </tr>\n",
       "    <tr>\n",
       "      <th>min</th>\n",
       "      <td>0.000000</td>\n",
       "      <td>0.000000</td>\n",
       "      <td>1.000000</td>\n",
       "      <td>-2.389756</td>\n",
       "      <td>-1.058705</td>\n",
       "      <td>-0.535420</td>\n",
       "      <td>-0.658608</td>\n",
       "      <td>-0.876615</td>\n",
       "      <td>-2.042680</td>\n",
       "      <td>-0.829850</td>\n",
       "      <td>...</td>\n",
       "      <td>-1.042947</td>\n",
       "      <td>-0.988316</td>\n",
       "      <td>-2.049345</td>\n",
       "      <td>-1.421211</td>\n",
       "      <td>-1.487195</td>\n",
       "      <td>-0.009897</td>\n",
       "      <td>-0.842343</td>\n",
       "      <td>-1.505961</td>\n",
       "      <td>-3.707360</td>\n",
       "      <td>0.693300</td>\n",
       "    </tr>\n",
       "    <tr>\n",
       "      <th>25%</th>\n",
       "      <td>0.000000</td>\n",
       "      <td>0.000000</td>\n",
       "      <td>1.000000</td>\n",
       "      <td>-1.200685</td>\n",
       "      <td>-0.282738</td>\n",
       "      <td>0.168206</td>\n",
       "      <td>0.399479</td>\n",
       "      <td>-0.177298</td>\n",
       "      <td>-0.733092</td>\n",
       "      <td>0.211983</td>\n",
       "      <td>...</td>\n",
       "      <td>-0.218453</td>\n",
       "      <td>-0.201537</td>\n",
       "      <td>-0.895547</td>\n",
       "      <td>0.150176</td>\n",
       "      <td>0.131071</td>\n",
       "      <td>0.876674</td>\n",
       "      <td>-0.377418</td>\n",
       "      <td>-0.414997</td>\n",
       "      <td>-2.294710</td>\n",
       "      <td>1.348000</td>\n",
       "    </tr>\n",
       "    <tr>\n",
       "      <th>50%</th>\n",
       "      <td>0.500000</td>\n",
       "      <td>0.500000</td>\n",
       "      <td>2.000000</td>\n",
       "      <td>-0.674978</td>\n",
       "      <td>0.000098</td>\n",
       "      <td>0.451528</td>\n",
       "      <td>0.907995</td>\n",
       "      <td>0.220048</td>\n",
       "      <td>-0.388052</td>\n",
       "      <td>0.468086</td>\n",
       "      <td>...</td>\n",
       "      <td>0.057867</td>\n",
       "      <td>0.090315</td>\n",
       "      <td>-0.571330</td>\n",
       "      <td>0.513751</td>\n",
       "      <td>0.484825</td>\n",
       "      <td>1.094152</td>\n",
       "      <td>-0.221504</td>\n",
       "      <td>-0.130986</td>\n",
       "      <td>-1.822472</td>\n",
       "      <td>1.582000</td>\n",
       "    </tr>\n",
       "    <tr>\n",
       "      <th>75%</th>\n",
       "      <td>1.000000</td>\n",
       "      <td>1.000000</td>\n",
       "      <td>2.000000</td>\n",
       "      <td>-0.148707</td>\n",
       "      <td>0.283522</td>\n",
       "      <td>0.805827</td>\n",
       "      <td>1.426424</td>\n",
       "      <td>0.510696</td>\n",
       "      <td>0.016293</td>\n",
       "      <td>0.725413</td>\n",
       "      <td>...</td>\n",
       "      <td>0.307646</td>\n",
       "      <td>0.407008</td>\n",
       "      <td>-0.234967</td>\n",
       "      <td>0.885440</td>\n",
       "      <td>0.849716</td>\n",
       "      <td>1.311318</td>\n",
       "      <td>-0.046867</td>\n",
       "      <td>0.264446</td>\n",
       "      <td>-1.333393</td>\n",
       "      <td>1.820000</td>\n",
       "    </tr>\n",
       "    <tr>\n",
       "      <th>max</th>\n",
       "      <td>1.000000</td>\n",
       "      <td>1.000000</td>\n",
       "      <td>8.000000</td>\n",
       "      <td>1.366969</td>\n",
       "      <td>0.991515</td>\n",
       "      <td>1.437502</td>\n",
       "      <td>2.592767</td>\n",
       "      <td>1.435025</td>\n",
       "      <td>0.701489</td>\n",
       "      <td>1.680617</td>\n",
       "      <td>...</td>\n",
       "      <td>1.196030</td>\n",
       "      <td>1.457894</td>\n",
       "      <td>0.903457</td>\n",
       "      <td>1.830363</td>\n",
       "      <td>1.782409</td>\n",
       "      <td>2.077117</td>\n",
       "      <td>0.813209</td>\n",
       "      <td>1.468377</td>\n",
       "      <td>1.015633</td>\n",
       "      <td>3.460000</td>\n",
       "    </tr>\n",
       "  </tbody>\n",
       "</table>\n",
       "<p>8 rows × 160 columns</p>\n",
       "</div>"
      ],
      "text/plain": [
       "        Timepoint   Treatment      BioRep  PF3D7_0102700  PF3D7_0103300  \\\n",
       "count  272.000000  272.000000  272.000000     272.000000     272.000000   \n",
       "mean     0.500000    0.500000    1.911765      -0.656518       0.003341   \n",
       "std      0.500922    0.500922    1.360869       0.768074       0.383878   \n",
       "min      0.000000    0.000000    1.000000      -2.389756      -1.058705   \n",
       "25%      0.000000    0.000000    1.000000      -1.200685      -0.282738   \n",
       "50%      0.500000    0.500000    2.000000      -0.674978       0.000098   \n",
       "75%      1.000000    1.000000    2.000000      -0.148707       0.283522   \n",
       "max      1.000000    1.000000    8.000000       1.366969       0.991515   \n",
       "\n",
       "       PF3D7_0104300  PF3D7_0110900  PF3D7_0203900  PF3D7_0205900  \\\n",
       "count     272.000000     272.000000     272.000000     272.000000   \n",
       "mean        0.488966       0.911122       0.186162      -0.408952   \n",
       "std         0.414207       0.706979       0.450413       0.515017   \n",
       "min        -0.535420      -0.658608      -0.876615      -2.042680   \n",
       "25%         0.168206       0.399479      -0.177298      -0.733092   \n",
       "50%         0.451528       0.907995       0.220048      -0.388052   \n",
       "75%         0.805827       1.426424       0.510696       0.016293   \n",
       "max         1.437502       2.592767       1.435025       0.701489   \n",
       "\n",
       "       PF3D7_0208300     ...      PF3D7_1443000  PF3D7_1447700  PF3D7_1452900  \\\n",
       "count     272.000000     ...         272.000000     272.000000     272.000000   \n",
       "mean        0.477734     ...           0.048526       0.126642      -0.542918   \n",
       "std         0.384497     ...           0.391449       0.447384       0.523201   \n",
       "min        -0.829850     ...          -1.042947      -0.988316      -2.049345   \n",
       "25%         0.211983     ...          -0.218453      -0.201537      -0.895547   \n",
       "50%         0.468086     ...           0.057867       0.090315      -0.571330   \n",
       "75%         0.725413     ...           0.307646       0.407008      -0.234967   \n",
       "max         1.680617     ...           1.196030       1.457894       0.903457   \n",
       "\n",
       "       PF3D7_1459400  PF3D7_1466800  PF3D7_1472400  PF3D7_1474400  \\\n",
       "count     272.000000     272.000000     272.000000     272.000000   \n",
       "mean        0.491481       0.467162       1.090970      -0.194671   \n",
       "std         0.543249       0.557915       0.345910       0.260255   \n",
       "min        -1.421211      -1.487195      -0.009897      -0.842343   \n",
       "25%         0.150176       0.131071       0.876674      -0.377418   \n",
       "50%         0.513751       0.484825       1.094152      -0.221504   \n",
       "75%         0.885440       0.849716       1.311318      -0.046867   \n",
       "max         1.830363       1.782409       2.077117       0.813209   \n",
       "\n",
       "       PF3D7_1475500  PF3D7_1480100    DHA_IC50  \n",
       "count     272.000000     272.000000  272.000000  \n",
       "mean       -0.079263      -1.746997    1.570315  \n",
       "std         0.546303       0.800431    0.534407  \n",
       "min        -1.505961      -3.707360    0.693300  \n",
       "25%        -0.414997      -2.294710    1.348000  \n",
       "50%        -0.130986      -1.822472    1.582000  \n",
       "75%         0.264446      -1.333393    1.820000  \n",
       "max         1.468377       1.015633    3.460000  \n",
       "\n",
       "[8 rows x 160 columns]"
      ]
     },
     "execution_count": 25,
     "metadata": {},
     "output_type": "execute_result"
    }
   ],
   "source": [
    "reps1_11 = train_data[(train_data['Treatment'] == 1)&(train_data['Timepoint'] == 1)&(train_data['BioRep'] == 1)]\n",
    "reps2_11 = train_data[(train_data['Treatment'] == 1)&(train_data['Timepoint'] == 1)&(train_data['BioRep'] == 2)]\n",
    "\n",
    "names = []\n",
    "\n",
    "for i in range(len(genes)):\n",
    "    if np.mean(abs(reps2_11.values[:,i+6] - reps1_11.values[:,i+6])) > 0.3:\n",
    "        names.append(genes[i])\n",
    "    \n",
    "train_data_trim = train_data.drop(names,axis=1)\n",
    "train_data_trim.describe()"
   ]
  },
  {
   "cell_type": "markdown",
   "metadata": {},
   "source": [
    "## Split into train and test data"
   ]
  },
  {
   "cell_type": "code",
   "execution_count": 10,
   "metadata": {
    "collapsed": true
   },
   "outputs": [],
   "source": [
    "X = train_data.drop(['DHA_IC50','Sample_Name','Isolate','BioRep'], axis=1)\n",
    "Y = train_data[['DHA_IC50']]\n",
    "X_train, X_test , Y_train , Y_test = train_test_split(X,Y,test_size=0.15,random_state=5)"
   ]
  },
  {
   "cell_type": "markdown",
   "metadata": {},
   "source": [
    "### Linear Regression"
   ]
  },
  {
   "cell_type": "markdown",
   "metadata": {},
   "source": [
    "#### 6H, untreated"
   ]
  },
  {
   "cell_type": "code",
   "execution_count": 162,
   "metadata": {
    "collapsed": false
   },
   "outputs": [
    {
     "name": "stdout",
     "output_type": "stream",
     "text": [
      "1.0\n",
      "-3.8739718084\n",
      "0.726636501665\n"
     ]
    }
   ],
   "source": [
    "X = train_data[(train_data['Treatment']==0)&(train_data['Timepoint'] == 0)].drop(['DHA_IC50','Sample_Name','Isolate','BioRep'], axis=1)\n",
    "Y = train_data[(train_data['Treatment']==0)&(train_data['Timepoint'] == 0)][['DHA_IC50']]\n",
    "X_train, X_test , Y_train , Y_test = train_test_split(X,Y,test_size=0.33,random_state=5)\n",
    "\n",
    "linear_model = LinearRegression()\n",
    "linear_model.fit(X_train, Y_train)\n",
    "Y_pred = linear_model.predict(X_test)\n",
    "\n",
    "print(linear_model.score(X_train,Y_train))\n",
    "print(linear_model.score(X_test,Y_test))\n",
    "print(mean_squared_error(Y_test, Y_pred))\n",
    "\n",
    "#pl.scatter(X_test[genes[0]], Y_test,  color='black')\n",
    "#pl.scatter(X_test[genes[0]], Y_pred, color='c')\n",
    "#pl.show()"
   ]
  },
  {
   "cell_type": "code",
   "execution_count": 163,
   "metadata": {
    "collapsed": false
   },
   "outputs": [],
   "source": [
    "coefs_6HUT = []\n",
    "preds_6HUT = []\n",
    "\n",
    "for g in genes:\n",
    "    linear_model.fit(X[g].values.reshape(-1, 1), Y)\n",
    "    preds_6HUT.append(linear_model.predict(X[g].values.reshape(-1, 1)))\n",
    "    coefs_6HUT.append(linear_model.coef_[0][0])\n",
    "    \n",
    "c6HUT = pd.DataFrame(list(zip(genes,coefs_6HUT,preds_6HUT)),columns =['gene', 'coef','pred'])"
   ]
  },
  {
   "cell_type": "code",
   "execution_count": 165,
   "metadata": {
    "collapsed": false
   },
   "outputs": [
    {
     "data": {
      "image/png": "[encoded data removed]",
      "text/plain": [
       "<matplotlib.figure.Figure at 0x1a285233c8>"
      ]
     },
     "metadata": {},
     "output_type": "display_data"
    }
   ],
   "source": [
    "n = 5485\n",
    "pl.plot(X[genes[n]],c6HUT['pred'][n],c='c')\n",
    "pl.scatter(X[genes[n]],Y,c='k')\n",
    "pl.show()"
   ]
  },
  {
   "cell_type": "markdown",
   "metadata": {},
   "source": [
    "#### 6H, treated"
   ]
  },
  {
   "cell_type": "code",
   "execution_count": 110,
   "metadata": {
    "collapsed": false
   },
   "outputs": [
    {
     "name": "stdout",
     "output_type": "stream",
     "text": [
      "1.0\n",
      "-0.700700365557\n",
      "0.253549058671\n"
     ]
    }
   ],
   "source": [
    "X = train_data[(train_data['Treatment']==1)&(train_data['Timepoint'] == 0)].drop(['DHA_IC50','Sample_Name','Isolate','BioRep'], axis=1)\n",
    "Y = train_data[(train_data['Treatment']==1)&(train_data['Timepoint'] == 0)][['DHA_IC50']]\n",
    "X_train, X_test , Y_train , Y_test = train_test_split(X,Y,test_size=0.33,random_state=5)\n",
    "\n",
    "linear_model = LinearRegression()\n",
    "linear_model.fit(X_train, Y_train)\n",
    "Y_pred = linear_model.predict(X_test)\n",
    "\n",
    "print(linear_model.score(X_train,Y_train))\n",
    "print(linear_model.score(X_test,Y_test))\n",
    "print(mean_squared_error(Y_test, Y_pred))\n",
    "coefs_6HT = pd.concat([pd.DataFrame(X.columns),pd.DataFrame(np.transpose(linear_model.coef_))], axis = 1)\n",
    "coefs_6HT.columns = [\"feature\", \"coef\"]\n",
    "coefs_6HT = coefs_6HT.sort_values(by='coef')\n",
    "\n",
    "#pl.scatter(X_test[genes[0]], Y_test,  color='black')\n",
    "#pl.scatter(X_test[genes[0]], Y_pred, color='c')\n",
    "#pl.show()"
   ]
  },
  {
   "cell_type": "code",
   "execution_count": 120,
   "metadata": {
    "collapsed": false
   },
   "outputs": [
    {
     "name": "stderr",
     "output_type": "stream",
     "text": [
      "/Users/shasha/miniconda3/lib/python3.5/site-packages/ipykernel/__main__.py:5: FutureWarning: reshape is deprecated and will raise in a subsequent release. Please use .values.reshape(...) instead\n",
      "/Users/shasha/miniconda3/lib/python3.5/site-packages/ipykernel/__main__.py:6: FutureWarning: reshape is deprecated and will raise in a subsequent release. Please use .values.reshape(...) instead\n"
     ]
    }
   ],
   "source": [
    "coefs_6HT = []\n",
    "preds_6HT = []\n",
    "\n",
    "for g in genes:\n",
    "    linear_model.fit(X[g].reshape(-1, 1), Y)\n",
    "    preds_6HT.append(linear_model.predict(X[g].reshape(-1, 1)))\n",
    "    coefs_6HT.append(linear_model.coef_[0][0])\n",
    "    \n",
    "c6HT = pd.DataFrame(list(zip(genes,coefs_6HT,preds_6HT)),columns =['gene', 'coef','pred']) "
   ]
  },
  {
   "cell_type": "markdown",
   "metadata": {},
   "source": [
    "#### 24H, untreated"
   ]
  },
  {
   "cell_type": "code",
   "execution_count": 121,
   "metadata": {
    "collapsed": false
   },
   "outputs": [
    {
     "name": "stdout",
     "output_type": "stream",
     "text": [
      "1.0\n",
      "-1.98577318508\n",
      "0.445134249286\n"
     ]
    }
   ],
   "source": [
    "X = train_data[(train_data['Treatment']==0)&(train_data['Timepoint'] == 1)].drop(['DHA_IC50','Sample_Name','Isolate','BioRep'], axis=1)\n",
    "Y = train_data[(train_data['Treatment']==0)&(train_data['Timepoint'] == 1)][['DHA_IC50']]\n",
    "X_train, X_test , Y_train , Y_test = train_test_split(X,Y,test_size=0.33,random_state=5)\n",
    "\n",
    "linear_model = LinearRegression()\n",
    "linear_model.fit(X_train, Y_train)\n",
    "Y_pred = linear_model.predict(X_test)\n",
    "\n",
    "print(linear_model.score(X_train,Y_train))\n",
    "print(linear_model.score(X_test,Y_test))\n",
    "print(mean_squared_error(Y_test, Y_pred))\n",
    "coefs_24HUT = pd.concat([pd.DataFrame(X.columns),pd.DataFrame(np.transpose(linear_model.coef_))], axis = 1)\n",
    "coefs_24HUT.columns = [\"feature\", \"coef\"]\n",
    "coefs_24HUT = coefs_24HUT.sort_values(by='coef')\n",
    "\n",
    "#pl.scatter(X_test[genes[0]], Y_test,  color='black')\n",
    "#pl.scatter(X_test[genes[0]], Y_pred, color='c')\n",
    "#pl.show()"
   ]
  },
  {
   "cell_type": "code",
   "execution_count": 122,
   "metadata": {
    "collapsed": false
   },
   "outputs": [
    {
     "name": "stderr",
     "output_type": "stream",
     "text": [
      "/Users/shasha/miniconda3/lib/python3.5/site-packages/ipykernel/__main__.py:5: FutureWarning: reshape is deprecated and will raise in a subsequent release. Please use .values.reshape(...) instead\n",
      "/Users/shasha/miniconda3/lib/python3.5/site-packages/ipykernel/__main__.py:6: FutureWarning: reshape is deprecated and will raise in a subsequent release. Please use .values.reshape(...) instead\n"
     ]
    }
   ],
   "source": [
    "coefs_24HUT = []\n",
    "preds_24HUT = []\n",
    "\n",
    "for g in genes:\n",
    "    linear_model.fit(X[g].reshape(-1, 1), Y)\n",
    "    preds_24HUT.append(linear_model.predict(X[g].reshape(-1, 1)))\n",
    "    coefs_24HUT.append(linear_model.coef_[0][0])\n",
    "    \n",
    "c24HUT = pd.DataFrame(list(zip(genes,coefs_24HUT,preds_24HUT)),columns =['gene', 'coef','pred']) "
   ]
  },
  {
   "cell_type": "markdown",
   "metadata": {},
   "source": [
    "#### 24H, treated"
   ]
  },
  {
   "cell_type": "code",
   "execution_count": 19,
   "metadata": {
    "collapsed": false
   },
   "outputs": [
    {
     "name": "stdout",
     "output_type": "stream",
     "text": [
      "1.0\n",
      "-1.5193042938283297\n",
      "0.375590694952945\n"
     ]
    }
   ],
   "source": [
    "X = train_data[(train_data['Treatment']==1)&(train_data['Timepoint'] == 1)].drop(['DHA_IC50','Sample_Name','Isolate','BioRep'], axis=1)\n",
    "Y = train_data[(train_data['Treatment']==1)&(train_data['Timepoint'] == 1)][['DHA_IC50']]\n",
    "X_train, X_test , Y_train , Y_test = train_test_split(X,Y,test_size=0.33,random_state=5)\n",
    "\n",
    "linear_model = LinearRegression()\n",
    "linear_model.fit(X_train, Y_train)\n",
    "Y_pred = linear_model.predict(X_test)\n",
    "\n",
    "print(linear_model.score(X_train,Y_train))\n",
    "print(linear_model.score(X_test,Y_test))\n",
    "print(mean_squared_error(Y_test, Y_pred))\n",
    "coefs_24HT = pd.concat([pd.DataFrame(X.columns),pd.DataFrame(np.transpose(linear_model.coef_))], axis = 1)\n",
    "coefs_24HT.columns = [\"feature\", \"coef\"]\n",
    "coefs_24HT = coefs_24HT.sort_values(by='coef')\n",
    "\n",
    "#pl.scatter(X_test[genes[0]], Y_test,  color='black')\n",
    "#pl.scatter(X_test[genes[0]], Y_pred, color='c')\n",
    "#pl.show()"
   ]
  },
  {
   "cell_type": "code",
   "execution_count": 20,
   "metadata": {
    "collapsed": false
   },
   "outputs": [
    {
     "name": "stderr",
     "output_type": "stream",
     "text": [
      "/Users/shasha/miniconda3/lib/python3.5/site-packages/ipykernel/__main__.py:5: FutureWarning: reshape is deprecated and will raise in a subsequent release. Please use .values.reshape(...) instead\n",
      "/Users/shasha/miniconda3/lib/python3.5/site-packages/ipykernel/__main__.py:6: FutureWarning: reshape is deprecated and will raise in a subsequent release. Please use .values.reshape(...) instead\n"
     ]
    }
   ],
   "source": [
    "coefs_24HT = []\n",
    "preds_24HT = []\n",
    "\n",
    "for g in genes:\n",
    "    linear_model.fit(X[g].reshape(-1, 1), Y)\n",
    "    preds_24HT.append(linear_model.predict(X[g].reshape(-1, 1)))\n",
    "    coefs_24HT.append(linear_model.coef_[0][0])\n",
    "    \n",
    "c24HT = pd.DataFrame(list(zip(genes,coefs_24HT,preds_24HT)),columns =['gene', 'coef','pred']) "
   ]
  },
  {
   "cell_type": "markdown",
   "metadata": {},
   "source": [
    "#### all"
   ]
  },
  {
   "cell_type": "code",
   "execution_count": 125,
   "metadata": {
    "collapsed": false
   },
   "outputs": [
    {
     "name": "stdout",
     "output_type": "stream",
     "text": [
      "1.0\n",
      "-1.9141253823\n",
      "0.686344865733\n"
     ]
    }
   ],
   "source": [
    "X = train_data.drop(['DHA_IC50','Sample_Name','Isolate','BioRep'], axis=1)\n",
    "Y = train_data[['DHA_IC50']]\n",
    "X_train, X_test , Y_train , Y_test = train_test_split(X,Y,test_size=0.33,random_state=5)\n",
    "\n",
    "linear_model = LinearRegression()\n",
    "linear_model.fit(X_train, Y_train)\n",
    "Y_pred = linear_model.predict(X_test)\n",
    "\n",
    "print(linear_model.score(X_train,Y_train))\n",
    "print(linear_model.score(X_test,Y_test))\n",
    "print(mean_squared_error(Y_test, Y_pred))\n",
    "coefs_all = pd.concat([pd.DataFrame(X.columns),pd.DataFrame(np.transpose(linear_model.coef_))], axis = 1)\n",
    "coefs_all.columns = [\"feature\", \"coef\"]\n",
    "coefs_all = coefs_all.sort_values(by='coef')\n",
    "\n",
    "#pl.scatter(X_test[genes[0]], Y_test,  color='black')\n",
    "#pl.scatter(X_test[genes[0]], Y_pred, color='c')\n",
    "#pl.show()"
   ]
  },
  {
   "cell_type": "code",
   "execution_count": 126,
   "metadata": {
    "collapsed": false
   },
   "outputs": [
    {
     "name": "stderr",
     "output_type": "stream",
     "text": [
      "/Users/shasha/miniconda3/lib/python3.5/site-packages/ipykernel/__main__.py:5: FutureWarning: reshape is deprecated and will raise in a subsequent release. Please use .values.reshape(...) instead\n",
      "/Users/shasha/miniconda3/lib/python3.5/site-packages/ipykernel/__main__.py:6: FutureWarning: reshape is deprecated and will raise in a subsequent release. Please use .values.reshape(...) instead\n"
     ]
    }
   ],
   "source": [
    "coefs_all = []\n",
    "preds_all = []\n",
    "\n",
    "for g in genes:\n",
    "    linear_model.fit(X[g].reshape(-1, 1), Y)\n",
    "    preds_all.append(linear_model.predict(X[g].reshape(-1, 1)))\n",
    "    coefs_all.append(linear_model.coef_[0][0])\n",
    "    \n",
    "c_all = pd.DataFrame(list(zip(genes,coefs_all,preds_all)),columns =['gene', 'coef','pred']) "
   ]
  },
  {
   "cell_type": "markdown",
   "metadata": {},
   "source": [
    "### SVR"
   ]
  },
  {
   "cell_type": "code",
   "execution_count": 22,
   "metadata": {
    "collapsed": false
   },
   "outputs": [
    {
     "name": "stdout",
     "output_type": "stream",
     "text": [
      "0.381301103276\n",
      "-0.0282481713151\n",
      "0.361947799118\n"
     ]
    }
   ],
   "source": [
    "#X = train_data_trim[(train_data_trim['Treatment']==1)&(train_data_trim['Timepoint'] == 1)].drop(['DHA_IC50','Sample_Name','Isolate','BioRep'], axis=1)\n",
    "#Y = train_data_trim[(train_data_trim['Treatment']==1)&(train_data_trim['Timepoint'] == 1)][['DHA_IC50']]\n",
    "#X_train, X_test , Y_train , Y_test = train_test_split(X,Y,test_size=0.15,random_state=5)\n",
    "\n",
    "svr_model = SVR()\n",
    "svr_model.fit(X_train, Y_train.values.ravel())\n",
    "Y_pred = svr_model.predict(X_test)\n",
    "\n",
    "print(svr_model.score(X_train,Y_train))\n",
    "print(svr_model.score(X_test,Y_test))\n",
    "print(mean_squared_error(Y_test, Y_pred))\n",
    "\n",
    "#pl.scatter(X_test[genes[0]], Y_test,  color='black')\n",
    "#pl.scatter(X_test[genes[0]], Y_pred, color='c')\n",
    "#pl.show()"
   ]
  },
  {
   "cell_type": "markdown",
   "metadata": {},
   "source": [
    "### KNN"
   ]
  },
  {
   "cell_type": "code",
   "execution_count": 125,
   "metadata": {
    "collapsed": false
   },
   "outputs": [
    {
     "name": "stdout",
     "output_type": "stream",
     "text": [
      "1.0\n",
      "0.0441631982718\n",
      "0.305827974485\n"
     ]
    },
    {
     "data": {
      "image/png": "[encoded data removed]",
      "text/plain": [
       "<matplotlib.figure.Figure at 0x1a23cd60f0>"
      ]
     },
     "metadata": {},
     "output_type": "display_data"
    }
   ],
   "source": [
    "X = train_data.drop(['DHA_IC50','Sample_Name','Isolate','BioRep'], axis=1)\n",
    "Y = train_data[['DHA_IC50']]\n",
    "X_train, X_test , Y_train , Y_test = train_test_split(X,Y,test_size=0.15)\n",
    "\n",
    "knn_model = neighbors.KNeighborsRegressor(5,weights='distance')\n",
    "knn_model.fit(X_train, Y_train.values.ravel())\n",
    "Y_pred = knn_model.predict(X_test)\n",
    "\n",
    "print(knn_model.score(X_train,Y_train))\n",
    "print(knn_model.score(X_test,Y_test))\n",
    "print(mean_squared_error(Y_test, Y_pred))\n",
    "\n",
    "#pl.scatter(X_test[genes[0]], Y_test,  color='black')\n",
    "#pl.scatter(X_test[genes[0]], Y_pred, color='c')\n",
    "pl.scatter(Y_test, Y_pred, color='k')\n",
    "pl.show()"
   ]
  },
  {
   "cell_type": "markdown",
   "metadata": {},
   "source": [
    "### Decision Tree"
   ]
  },
  {
   "cell_type": "code",
   "execution_count": 25,
   "metadata": {
    "collapsed": false
   },
   "outputs": [
    {
     "name": "stdout",
     "output_type": "stream",
     "text": [
      "-0.874742387548\n",
      "0.659917420732\n"
     ]
    }
   ],
   "source": [
    "X = train_data_trim.drop(['DHA_IC50','Sample_Name','Isolate','BioRep'], axis=1)\n",
    "Y = train_data_trim[['DHA_IC50']]\n",
    "X_train, X_test , Y_train , Y_test = train_test_split(X,Y,test_size=0.15,random_state=5)\n",
    "\n",
    "tree_model = DecisionTreeRegressor(max_depth=50)\n",
    "tree_model.fit(X_train, Y_train)\n",
    "Y_pred = tree_model.predict(X_test)\n",
    "\n",
    "print(tree_model.score(X_test,Y_test))\n",
    "print(mean_squared_error(Y_test, Y_pred))\n",
    "\n",
    "#pl.scatter(X_test[genes[0]], Y_test,  color='black')\n",
    "#pl.scatter(X_test[genes[0]], Y_pred, color='c')\n",
    "#pl.show()"
   ]
  },
  {
   "cell_type": "markdown",
   "metadata": {},
   "source": [
    "### Random Forest"
   ]
  },
  {
   "cell_type": "code",
   "execution_count": 12,
   "metadata": {
    "collapsed": false
   },
   "outputs": [
    {
     "name": "stdout",
     "output_type": "stream",
     "text": [
      "-0.019736212249393814\n",
      "Sample_Name          Importance: 0.0\n",
      "Isolate              Importance: 0.0\n",
      "Timepoint            Importance: 0.0\n",
      "Treatment            Importance: 0.0\n",
      "BioRep               Importance: 0.0\n",
      "MAL1.465720.465873.bc..rv.. Importance: 0.0\n",
      "MAL1.48287.48430....kr...can Importance: 0.0\n",
      "MAL1.562126.562246.bc..r... Importance: 0.0\n",
      "MAL1.59416.59687....kr...can Importance: 0.0\n",
      "MAL1.616633.616682.......y. Importance: 0.0\n",
      "MAL10.1139073.1139243....kr Importance: 0.0\n",
      "MAL10.258733.258825.b...r.. Importance: 0.0\n",
      "MAL10.271753.271892.bcgkrvy Importance: 0.0\n",
      "MAL10.273174.273239.....r.. Importance: 0.0\n",
      "MAL10.416036.416142...g.... Importance: 0.0\n",
      "MAL10.947605.947888.b..kr.. Importance: 0.0\n",
      "MAL11.1116008.1116068.....r Importance: 0.0\n",
      "MAL11.1839112.1839193....k. Importance: 0.0\n",
      "MAL11.228710.228826.b.gk... Importance: 0.0\n",
      "MAL11.390127.390200..cg...y Importance: 0.0\n"
     ]
    }
   ],
   "source": [
    "#X = train_data_trim[(train_data_trim['Treatment']==1)&(train_data_trim['Timepoint'] == 0)].drop(['DHA_IC50','Sample_Name','Isolate','BioRep'], axis=1)\n",
    "#Y = train_data_trim[(train_data_trim['Treatment']==1)&(train_data_trim['Timepoint'] == 0)][['DHA_IC50']]\n",
    "X = train_data[(train_data['Treatment']==1)&(train_data['Timepoint'] == 1)].drop(['DHA_IC50','Sample_Name','Isolate','BioRep'], axis=1)\n",
    "Y = train_data[(train_data['Treatment']==1)&(train_data['Timepoint'] == 1)][['DHA_IC50']]\n",
    "\n",
    "X_train, X_test , Y_train , Y_test = train_test_split(X,Y,test_size=0.3,random_state=25)\n",
    "\n",
    "np.random.seed(999)\n",
    "forest_model = RandomForestRegressor(max_features=10,n_estimators=100, bootstrap=False,random_state = 999)\n",
    "forest_model.fit(X_train, Y_train.values.ravel())\n",
    "Y_pred = forest_model.predict(X_test)\n",
    "\n",
    "print(forest_model.score(X_test,Y_test))\n",
    "#print(mean_squared_error(Y_test, Y_pred))\n",
    "\n",
    "#pl.scatter(X_test[genes[2]], Y_test,  color='black')\n",
    "#pl.scatter(X_test[genes[2]], Y_pred, color='c')\n",
    "#pl.show()\n",
    "\n",
    "#pl.scatter(Y_test, Y_pred, color='k')\n",
    "#pl.show()\n",
    "\n",
    "importances = list(forest_model.feature_importances_[:20])\n",
    "feature_list = list(train_data.columns[:20])\n",
    "feature_importances = [(feature, round(importance, 2)) for feature, importance in zip(feature_list, importances)]\n",
    "feature_importances = sorted(feature_importances, key = lambda x: x[1], reverse = True)\n",
    "[print('{:20} Importance: {}'.format(*pair)) for pair in feature_importances];"
   ]
  },
  {
   "cell_type": "markdown",
   "metadata": {},
   "source": [
    "### Randomized Search"
   ]
  },
  {
   "cell_type": "code",
   "execution_count": 13,
   "metadata": {
    "collapsed": false
   },
   "outputs": [
    {
     "data": {
      "text/plain": [
       "{'max_features': 19, 'n_estimators': 47}"
      ]
     },
     "execution_count": 13,
     "metadata": {},
     "output_type": "execute_result"
    }
   ],
   "source": [
    "forest_model = RandomForestRegressor(bootstrap=False)\n",
    "\n",
    "param_dist = {\"n_estimators\": sp_randint(10,50),\n",
    "              \"max_features\": sp_randint(5, 20)}\n",
    "\n",
    "\n",
    "n_iter_search = 20\n",
    "random_search = RandomizedSearchCV(forest_model, param_distributions=param_dist,\n",
    "                                   n_iter=n_iter_search, cv=10, iid=False)\n",
    "\n",
    "random_search.fit(X, Y.values.ravel())\n",
    "random_search.best_params_"
   ]
  },
  {
   "cell_type": "markdown",
   "metadata": {},
   "source": [
    "### Grid Search"
   ]
  },
  {
   "cell_type": "code",
   "execution_count": 216,
   "metadata": {
    "collapsed": false
   },
   "outputs": [
    {
     "data": {
      "text/plain": [
       "{'max_features': 5, 'min_samples_split': 10, 'n_estimators': 50}"
      ]
     },
     "execution_count": 216,
     "metadata": {},
     "output_type": "execute_result"
    }
   ],
   "source": [
    "forest_model = RandomForestRegressor(bootstrap=False)\n",
    "\n",
    "param_grid = {\"n_estimators\": [50,25,150],\n",
    "              \"max_features\": [5, 3, 10],\n",
    "              \"min_samples_split\": [2, 3, 10]}\n",
    "\n",
    "grid_search = GridSearchCV(forest_model, param_grid=param_grid, cv=5, iid=False)\n",
    "grid_search.fit(X_train, Y_train.values.ravel())\n",
    "\n",
    "grid_search.best_params_"
   ]
  },
  {
   "cell_type": "markdown",
   "metadata": {},
   "source": [
    "### XGBoost"
   ]
  },
  {
   "cell_type": "code",
   "execution_count": 14,
   "metadata": {
    "collapsed": false
   },
   "outputs": [
    {
     "name": "stdout",
     "output_type": "stream",
     "text": [
      "0.9695851062861172\n",
      "-0.32007138930264145\n",
      "0.31247270180057723\n"
     ]
    }
   ],
   "source": [
    "xgb_model = XGBRegressor(colsample_bytree=0.4,\n",
    "                 gamma=0,                 \n",
    "                 learning_rate=0.07,\n",
    "                 max_depth=3,\n",
    "                 min_child_weight=1.5,\n",
    "                 n_estimators=10000,                                                                    \n",
    "                 reg_alpha=0.75,\n",
    "                 reg_lambda=0.45,\n",
    "                 subsample=0.6,\n",
    "                 seed=42)\n",
    "xgb_model.fit(X_train, Y_train.values.ravel())\n",
    "Y_pred = xgb_model.predict(X_test)\n",
    "\n",
    "print(xgb_model.score(X_train,Y_train))\n",
    "print(xgb_model.score(X_test,Y_test))\n",
    "print(mean_squared_error(Y_test, Y_pred))\n",
    "\n",
    "#pl.scatter(X_test[genes[0]], Y_test,  color='black')\n",
    "#pl.scatter(X_test[genes[0]], Y_pred, color='c')\n",
    "#pl.show()"
   ]
  },
  {
   "cell_type": "markdown",
   "metadata": {},
   "source": [
    "### AdaBoost"
   ]
  },
  {
   "cell_type": "code",
   "execution_count": 37,
   "metadata": {
    "collapsed": false
   },
   "outputs": [
    {
     "name": "stdout",
     "output_type": "stream",
     "text": [
      "0.712365324073\n",
      "-0.196776082545\n",
      "0.377834654008\n"
     ]
    }
   ],
   "source": [
    "X = train_data_trim.drop(['DHA_IC50','Sample_Name','Isolate','BioRep'], axis=1)\n",
    "Y = train_data_trim[['DHA_IC50']]\n",
    "X_train, X_test , Y_train , Y_test = train_test_split(X,Y,test_size=0.15,random_state=2)\n",
    "\n",
    "ada_model = AdaBoostRegressor(random_state=0, n_estimators=200)\n",
    "ada_model.fit(X_train, Y_train.values.ravel())\n",
    "Y_pred = ada_model.predict(X_test)\n",
    "\n",
    "print(ada_model.score(X_train,Y_train))\n",
    "print(ada_model.score(X_test,Y_test))\n",
    "print(mean_squared_error(Y_test, Y_pred))\n",
    "\n",
    "#pl.scatter(X_test[genes[0]], Y_test,  color='black')\n",
    "#pl.scatter(X_test[genes[0]], Y_pred, color='c')\n",
    "#pl.show()"
   ]
  },
  {
   "cell_type": "markdown",
   "metadata": {},
   "source": [
    "### Gradient Boost"
   ]
  },
  {
   "cell_type": "code",
   "execution_count": 128,
   "metadata": {
    "collapsed": false
   },
   "outputs": [
    {
     "name": "stdout",
     "output_type": "stream",
     "text": [
      "-0.258270136383\n",
      "-0.258681301101\n",
      "0.397378775231\n"
     ]
    }
   ],
   "source": [
    "X = train_data.drop(['DHA_IC50','Sample_Name','Isolate','BioRep'], axis=1)\n",
    "Y = train_data[['DHA_IC50']]\n",
    "X_train, X_test , Y_train , Y_test = train_test_split(X,Y,test_size=0.15,random_state=2)\n",
    "\n",
    "gb_model = GradientBoostingRegressor(loss='quantile', n_estimators=50)\n",
    "gb_model.fit(X_train, Y_train.values.ravel())\n",
    "Y_pred = gb_model.predict(X_test)\n",
    "\n",
    "print(gb_model.score(X_train,Y_train))\n",
    "print(gb_model.score(X_test,Y_test))\n",
    "print(mean_squared_error(Y_test, Y_pred))"
   ]
  },
  {
   "cell_type": "markdown",
   "metadata": {},
   "source": [
    "## models to test\n",
    "\n",
    "- Linear Regression\n",
    "- Logistic Regression (won't work for non-binary values)\n",
    "- Random forest\n",
    "- Decision tree\n",
    "- XGboost\n",
    "- Ada boost\n",
    "- SVR\n",
    "- Naive Bayes\n",
    "- Neural Network (feedforward)\n",
    "\n",
    "https://towardsdatascience.com/which-machine-learning-model-to-use-db5fdf37f3dd\n",
    "\n",
    "Test using Spearman coefficient instead of Pearson\n",
    "\n",
    "https://medium.com/rants-on-machine-learning/what-to-do-with-small-data-d253254d1a89"
   ]
  },
  {
   "cell_type": "markdown",
   "metadata": {
    "collapsed": true
   },
   "source": [
    "## feature engineering\n",
    "\n",
    "- start with 4 subsets (split then combine later), compare similarity to regression coefficients against IC50\n",
    "- try PCA\n",
    "- test with random forest\n",
    "- try sklearn.feature_selection (https://www.kaggle.com/residentmario/automated-feature-selection-with-sklearn)\n",
    "- add in cv score and spearmanr\n",
    "- https://scikit-learn.org/stable/modules/feature_selection.html"
   ]
  },
  {
   "cell_type": "markdown",
   "metadata": {},
   "source": [
    "## auto ML\n",
    "- https://automl.github.io/auto-sklearn/master/examples/example_regression.html\n",
    "- https://automl.github.io/auto-sklearn/master/installation.html\n",
    "- https://medium.com/@santiagof/auto-is-the-new-black-google-automl-microsoft-automated-ml-autokeras-and-auto-sklearn-80d1d3c3005c\n",
    "- https://automl.github.io/auto-sklearn/master/manual.html\n",
    "- https://automl.github.io/auto-sklearn/master/_modules/autosklearn/estimators.html"
   ]
  },
  {
   "cell_type": "code",
   "execution_count": 21,
   "metadata": {
    "collapsed": false,
    "scrolled": true
   },
   "outputs": [
    {
     "data": {
      "text/html": [
       "<div>\n",
       "<style scoped>\n",
       "    .dataframe tbody tr th:only-of-type {\n",
       "        vertical-align: middle;\n",
       "    }\n",
       "\n",
       "    .dataframe tbody tr th {\n",
       "        vertical-align: top;\n",
       "    }\n",
       "\n",
       "    .dataframe thead th {\n",
       "        text-align: right;\n",
       "    }\n",
       "</style>\n",
       "<table border=\"1\" class=\"dataframe\">\n",
       "  <thead>\n",
       "    <tr style=\"text-align: right;\">\n",
       "      <th></th>\n",
       "      <th>gene</th>\n",
       "      <th>coef</th>\n",
       "      <th>pred</th>\n",
       "    </tr>\n",
       "  </thead>\n",
       "  <tbody>\n",
       "    <tr>\n",
       "      <th>5024</th>\n",
       "      <td>PF3D7_1428400</td>\n",
       "      <td>-0.606279</td>\n",
       "      <td>[[1.6184641539026494], [1.1622273139490946], [...</td>\n",
       "    </tr>\n",
       "    <tr>\n",
       "      <th>4814</th>\n",
       "      <td>PF3D7_1406700</td>\n",
       "      <td>-0.593220</td>\n",
       "      <td>[[1.4985716908952094], [1.5765804858322292], [...</td>\n",
       "    </tr>\n",
       "    <tr>\n",
       "      <th>4226</th>\n",
       "      <td>PF3D7_1319700</td>\n",
       "      <td>-0.573538</td>\n",
       "      <td>[[1.342373149503099], [1.379832679035636], [1....</td>\n",
       "    </tr>\n",
       "    <tr>\n",
       "      <th>3462</th>\n",
       "      <td>PF3D7_1147100</td>\n",
       "      <td>-0.531778</td>\n",
       "      <td>[[1.3992152820046495], [1.5274994575341523], [...</td>\n",
       "    </tr>\n",
       "    <tr>\n",
       "      <th>2490</th>\n",
       "      <td>PF3D7_0926300</td>\n",
       "      <td>-0.510235</td>\n",
       "      <td>[[1.8980301087337885], [1.4498415448098878], [...</td>\n",
       "    </tr>\n",
       "    <tr>\n",
       "      <th>1504</th>\n",
       "      <td>PF3D7_0623300</td>\n",
       "      <td>-0.509367</td>\n",
       "      <td>[[1.5889417069770864], [1.6750975392972691], [...</td>\n",
       "    </tr>\n",
       "    <tr>\n",
       "      <th>5484</th>\n",
       "      <td>PF3D7_1474400</td>\n",
       "      <td>-0.507578</td>\n",
       "      <td>[[1.1269929094093571], [1.5576374479356954], [...</td>\n",
       "    </tr>\n",
       "    <tr>\n",
       "      <th>3646</th>\n",
       "      <td>PF3D7_1215600</td>\n",
       "      <td>-0.503799</td>\n",
       "      <td>[[1.3266998009759787], [1.5059283267299923], [...</td>\n",
       "    </tr>\n",
       "    <tr>\n",
       "      <th>3563</th>\n",
       "      <td>PF3D7_1207200</td>\n",
       "      <td>-0.503291</td>\n",
       "      <td>[[1.1979209592483118], [1.2825261211423293], [...</td>\n",
       "    </tr>\n",
       "    <tr>\n",
       "      <th>1106</th>\n",
       "      <td>PF3D7_0515500</td>\n",
       "      <td>-0.496775</td>\n",
       "      <td>[[1.2442067389046325], [1.3222031360220845], [...</td>\n",
       "    </tr>\n",
       "  </tbody>\n",
       "</table>\n",
       "</div>"
      ],
      "text/plain": [
       "               gene      coef  \\\n",
       "5024  PF3D7_1428400 -0.606279   \n",
       "4814  PF3D7_1406700 -0.593220   \n",
       "4226  PF3D7_1319700 -0.573538   \n",
       "3462  PF3D7_1147100 -0.531778   \n",
       "2490  PF3D7_0926300 -0.510235   \n",
       "1504  PF3D7_0623300 -0.509367   \n",
       "5484  PF3D7_1474400 -0.507578   \n",
       "3646  PF3D7_1215600 -0.503799   \n",
       "3563  PF3D7_1207200 -0.503291   \n",
       "1106  PF3D7_0515500 -0.496775   \n",
       "\n",
       "                                                   pred  \n",
       "5024  [[1.6184641539026494], [1.1622273139490946], [...  \n",
       "4814  [[1.4985716908952094], [1.5765804858322292], [...  \n",
       "4226  [[1.342373149503099], [1.379832679035636], [1....  \n",
       "3462  [[1.3992152820046495], [1.5274994575341523], [...  \n",
       "2490  [[1.8980301087337885], [1.4498415448098878], [...  \n",
       "1504  [[1.5889417069770864], [1.6750975392972691], [...  \n",
       "5484  [[1.1269929094093571], [1.5576374479356954], [...  \n",
       "3646  [[1.3266998009759787], [1.5059283267299923], [...  \n",
       "3563  [[1.1979209592483118], [1.2825261211423293], [...  \n",
       "1106  [[1.2442067389046325], [1.3222031360220845], [...  "
      ]
     },
     "execution_count": 21,
     "metadata": {},
     "output_type": "execute_result"
    }
   ],
   "source": [
    "c24HT.sort_values(by='coef').head(10)"
   ]
  },
  {
   "cell_type": "code",
   "execution_count": 192,
   "metadata": {
    "collapsed": false
   },
   "outputs": [
    {
     "name": "stdout",
     "output_type": "stream",
     "text": [
      "1800\n"
     ]
    }
   ],
   "source": [
    "X_orig = train_data[(train_data['Treatment']==1)&(train_data['Timepoint'] == 1)].drop(['DHA_IC50','Sample_Name','Isolate'], axis=1)\n",
    "Y = train_data[(train_data['Treatment']==1)&(train_data['Timepoint'] == 1)][['DHA_IC50']]\n",
    "\n",
    "reps1 = X_orig[(X_orig['BioRep'] == 1)]\n",
    "reps2 = X_orig[(X_orig['BioRep'] == 2)]\n",
    "\n",
    "names = []\n",
    "\n",
    "drop_point = 0.275\n",
    "\n",
    "for i in range(len(genes)):\n",
    "    if cosine_similarity(reps2.values[:,i+3].reshape(1, -1),reps1.values[:,i+3].reshape(1, -1))[0][0] < 0.5:\n",
    "        names.append(genes[i])\n",
    "    \n",
    "X_new = X_orig.drop(names,axis=1)\n",
    "print(len(X_new.columns))"
   ]
  },
  {
   "cell_type": "code",
   "execution_count": null,
   "metadata": {
    "collapsed": true
   },
   "outputs": [],
   "source": []
  }
 ],
 "metadata": {
  "anaconda-cloud": {},
  "kernelspec": {
   "display_name": "Python [conda env:miniconda3]",
   "language": "python",
   "name": "conda-env-miniconda3-py"
  },
  "language_info": {
   "codemirror_mode": {
    "name": "ipython",
    "version": 3
   },
   "file_extension": ".py",
   "mimetype": "text/x-python",
   "name": "python",
   "nbconvert_exporter": "python",
   "pygments_lexer": "ipython3",
   "version": "3.5.2"
  }
 },
 "nbformat": 4,
 "nbformat_minor": 1
}
