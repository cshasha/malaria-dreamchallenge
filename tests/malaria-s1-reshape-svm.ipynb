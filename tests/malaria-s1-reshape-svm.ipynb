{
 "cells": [
  {
   "cell_type": "code",
   "execution_count": 1,
   "metadata": {
    "collapsed": true
   },
   "outputs": [],
   "source": [
    "import numpy as np\n",
    "import pandas as pd\n",
    "import matplotlib.pyplot as pl\n",
    "from scipy.stats import randint as sp_randint\n",
    "from sklearn.metrics import mean_squared_error, r2_score\n",
    "from sklearn.model_selection import train_test_split\n",
    "from sklearn.linear_model import LinearRegression\n",
    "from sklearn.linear_model import LogisticRegression\n",
    "from sklearn.svm import SVR\n",
    "from sklearn.tree import DecisionTreeRegressor\n",
    "from sklearn.ensemble import RandomForestRegressor\n",
    "from sklearn.naive_bayes import GaussianNB\n",
    "from sklearn.ensemble import AdaBoostRegressor\n",
    "from lmfit import Model\n",
    "from xgboost import XGBRegressor\n",
    "from collections import OrderedDict\n",
    "from sklearn.model_selection import GridSearchCV\n",
    "from sklearn.model_selection import RandomizedSearchCV\n",
    "from sklearn import neighbors\n",
    "from sklearn.ensemble import GradientBoostingRegressor\n",
    "from sklearn.metrics.pairwise import cosine_similarity\n",
    "from sklearn.preprocessing import StandardScaler\n",
    "from sklearn.decomposition import PCA\n",
    "from sklearn.feature_selection import VarianceThreshold\n",
    "from sklearn.feature_selection import GenericUnivariateSelect\n",
    "from sklearn.feature_selection import mutual_info_regression,f_regression\n",
    "from scipy.stats import spearmanr\n",
    "import seaborn as sns\n",
    "from sklearn.feature_selection import RFE\n",
    "from sklearn.model_selection import cross_val_score\n",
    "import umap\n",
    "from sklearn.metrics import make_scorer\n",
    "\n",
    "pl.style.use('seaborn')\n",
    "pl.rc('font',family='Arial')"
   ]
  },
  {
   "cell_type": "code",
   "execution_count": 2,
   "metadata": {
    "collapsed": true
   },
   "outputs": [],
   "source": [
    "def spear_r(y_true, y_pred):\n",
    "    return spearmanr(y_true, y_pred)[0]"
   ]
  },
  {
   "cell_type": "markdown",
   "metadata": {},
   "source": [
    "## Read in data"
   ]
  },
  {
   "cell_type": "code",
   "execution_count": 59,
   "metadata": {
    "collapsed": true
   },
   "outputs": [],
   "source": [
    "train_data = pd.read_csv(\"SubCh1_TrainingData.csv\")\n",
    "test_data = pd.read_csv(\"SubCh1_TestData.csv\")\n",
    "\n",
    "train_data['Timepoint'] = [1 if i == '24HR' else 0 for i in train_data['Timepoint']]\n",
    "train_data['Treatment'] = [1 if i == 'DHA' else 0 for i in train_data['Treatment']]\n",
    "train_data['BioRep'] = [int(i[-1]) for i in train_data['BioRep']]\n",
    "\n",
    "test_data['Timepoint'] = [1 if i == '24HR' else 0 for i in test_data['Timepoint']]\n",
    "test_data['Treatment'] = [1 if i == 'DHA' else 0 for i in test_data['Treatment']]\n",
    "test_data['BioRep'] = [int(i[-1]) for i in test_data['BioRep']]\n",
    "\n",
    "genes = list(train_data.drop(['DHA_IC50','Sample_Name','Isolate','Timepoint','Treatment','BioRep'], axis=1).columns)"
   ]
  },
  {
   "cell_type": "markdown",
   "metadata": {},
   "source": [
    "## Split into four data frames and combine into one\n",
    "\n",
    "Each new df corresponds to a particular timepoint/treatment combination:\n",
    "\n",
    "- A: 6hr untreated\n",
    "- B: 24hr untreated\n",
    "- C: 6hr treated\n",
    "- D: 24hr treated"
   ]
  },
  {
   "cell_type": "code",
   "execution_count": 95,
   "metadata": {
    "collapsed": false
   },
   "outputs": [
    {
     "data": {
      "text/html": [
       "<div>\n",
       "<style scoped>\n",
       "    .dataframe tbody tr th:only-of-type {\n",
       "        vertical-align: middle;\n",
       "    }\n",
       "\n",
       "    .dataframe tbody tr th {\n",
       "        vertical-align: top;\n",
       "    }\n",
       "\n",
       "    .dataframe thead th {\n",
       "        text-align: right;\n",
       "    }\n",
       "</style>\n",
       "<table border=\"1\" class=\"dataframe\">\n",
       "  <thead>\n",
       "    <tr style=\"text-align: right;\">\n",
       "      <th></th>\n",
       "      <th>A1</th>\n",
       "      <th>A2</th>\n",
       "      <th>A3</th>\n",
       "      <th>A4</th>\n",
       "      <th>A5</th>\n",
       "      <th>A6</th>\n",
       "      <th>A7</th>\n",
       "      <th>A8</th>\n",
       "      <th>A9</th>\n",
       "      <th>A10</th>\n",
       "      <th>...</th>\n",
       "      <th>D5531</th>\n",
       "      <th>D5532</th>\n",
       "      <th>D5533</th>\n",
       "      <th>D5534</th>\n",
       "      <th>D5535</th>\n",
       "      <th>D5536</th>\n",
       "      <th>D5537</th>\n",
       "      <th>D5538</th>\n",
       "      <th>D5539</th>\n",
       "      <th>D5540</th>\n",
       "    </tr>\n",
       "  </thead>\n",
       "  <tbody>\n",
       "    <tr>\n",
       "      <th>0</th>\n",
       "      <td>1.311350</td>\n",
       "      <td>-1.613464</td>\n",
       "      <td>-1.298663</td>\n",
       "      <td>-1.441343</td>\n",
       "      <td>-1.735923</td>\n",
       "      <td>0.173112</td>\n",
       "      <td>2.466366</td>\n",
       "      <td>1.383979</td>\n",
       "      <td>-0.115130</td>\n",
       "      <td>0.287468</td>\n",
       "      <td>...</td>\n",
       "      <td>0.210607</td>\n",
       "      <td>-0.540993</td>\n",
       "      <td>-3.674097</td>\n",
       "      <td>-1.652979</td>\n",
       "      <td>-2.255490</td>\n",
       "      <td>-4.554757</td>\n",
       "      <td>-0.381422</td>\n",
       "      <td>-1.415857</td>\n",
       "      <td>-4.121011</td>\n",
       "      <td>-2.486528</td>\n",
       "    </tr>\n",
       "    <tr>\n",
       "      <th>1</th>\n",
       "      <td>0.997722</td>\n",
       "      <td>-1.553994</td>\n",
       "      <td>-1.960600</td>\n",
       "      <td>-1.424590</td>\n",
       "      <td>0.023609</td>\n",
       "      <td>0.420973</td>\n",
       "      <td>1.128427</td>\n",
       "      <td>0.722659</td>\n",
       "      <td>1.878123</td>\n",
       "      <td>-0.065159</td>\n",
       "      <td>...</td>\n",
       "      <td>-0.447109</td>\n",
       "      <td>0.450649</td>\n",
       "      <td>-4.464408</td>\n",
       "      <td>-0.977954</td>\n",
       "      <td>-2.012559</td>\n",
       "      <td>-4.538550</td>\n",
       "      <td>-2.333890</td>\n",
       "      <td>-2.342496</td>\n",
       "      <td>-4.774197</td>\n",
       "      <td>-1.794568</td>\n",
       "    </tr>\n",
       "    <tr>\n",
       "      <th>2</th>\n",
       "      <td>0.389508</td>\n",
       "      <td>-2.139782</td>\n",
       "      <td>-0.584985</td>\n",
       "      <td>-1.085373</td>\n",
       "      <td>0.803247</td>\n",
       "      <td>0.766617</td>\n",
       "      <td>1.701689</td>\n",
       "      <td>0.926101</td>\n",
       "      <td>1.600687</td>\n",
       "      <td>0.435633</td>\n",
       "      <td>...</td>\n",
       "      <td>-0.070151</td>\n",
       "      <td>0.024133</td>\n",
       "      <td>-2.215227</td>\n",
       "      <td>-1.957654</td>\n",
       "      <td>-2.188635</td>\n",
       "      <td>-4.424748</td>\n",
       "      <td>-2.986927</td>\n",
       "      <td>-1.722201</td>\n",
       "      <td>-3.995680</td>\n",
       "      <td>-0.902979</td>\n",
       "    </tr>\n",
       "    <tr>\n",
       "      <th>3</th>\n",
       "      <td>0.348560</td>\n",
       "      <td>-1.562540</td>\n",
       "      <td>-0.586732</td>\n",
       "      <td>-0.834661</td>\n",
       "      <td>1.096979</td>\n",
       "      <td>0.121817</td>\n",
       "      <td>1.623373</td>\n",
       "      <td>-0.654405</td>\n",
       "      <td>0.221121</td>\n",
       "      <td>0.998601</td>\n",
       "      <td>...</td>\n",
       "      <td>-1.288305</td>\n",
       "      <td>0.806314</td>\n",
       "      <td>-3.733712</td>\n",
       "      <td>-1.990368</td>\n",
       "      <td>-1.633418</td>\n",
       "      <td>-5.533077</td>\n",
       "      <td>-3.283316</td>\n",
       "      <td>-2.104227</td>\n",
       "      <td>-5.767710</td>\n",
       "      <td>-2.177930</td>\n",
       "    </tr>\n",
       "    <tr>\n",
       "      <th>4</th>\n",
       "      <td>0.138276</td>\n",
       "      <td>-1.612280</td>\n",
       "      <td>-1.362990</td>\n",
       "      <td>-1.360318</td>\n",
       "      <td>0.488124</td>\n",
       "      <td>0.365410</td>\n",
       "      <td>0.739845</td>\n",
       "      <td>-0.654702</td>\n",
       "      <td>2.170263</td>\n",
       "      <td>0.630418</td>\n",
       "      <td>...</td>\n",
       "      <td>0.279816</td>\n",
       "      <td>0.115002</td>\n",
       "      <td>-1.305902</td>\n",
       "      <td>-0.679212</td>\n",
       "      <td>-2.099512</td>\n",
       "      <td>-5.955507</td>\n",
       "      <td>-0.920594</td>\n",
       "      <td>-1.626372</td>\n",
       "      <td>-4.422711</td>\n",
       "      <td>-1.408485</td>\n",
       "    </tr>\n",
       "    <tr>\n",
       "      <th>5</th>\n",
       "      <td>-0.332565</td>\n",
       "      <td>-1.280348</td>\n",
       "      <td>-0.817751</td>\n",
       "      <td>-0.480521</td>\n",
       "      <td>-0.098970</td>\n",
       "      <td>0.112246</td>\n",
       "      <td>0.773993</td>\n",
       "      <td>-0.969944</td>\n",
       "      <td>1.117705</td>\n",
       "      <td>0.872166</td>\n",
       "      <td>...</td>\n",
       "      <td>0.375290</td>\n",
       "      <td>1.113241</td>\n",
       "      <td>-4.016287</td>\n",
       "      <td>-1.327287</td>\n",
       "      <td>-2.375500</td>\n",
       "      <td>-4.379304</td>\n",
       "      <td>-2.752906</td>\n",
       "      <td>-1.939162</td>\n",
       "      <td>-3.500963</td>\n",
       "      <td>-0.796143</td>\n",
       "    </tr>\n",
       "    <tr>\n",
       "      <th>6</th>\n",
       "      <td>-1.140942</td>\n",
       "      <td>-0.460872</td>\n",
       "      <td>0.588564</td>\n",
       "      <td>-1.214647</td>\n",
       "      <td>1.210955</td>\n",
       "      <td>1.336895</td>\n",
       "      <td>-0.857090</td>\n",
       "      <td>-1.884711</td>\n",
       "      <td>-0.001943</td>\n",
       "      <td>1.320737</td>\n",
       "      <td>...</td>\n",
       "      <td>0.666558</td>\n",
       "      <td>-2.016912</td>\n",
       "      <td>-4.682891</td>\n",
       "      <td>-0.254524</td>\n",
       "      <td>-2.668047</td>\n",
       "      <td>-6.573239</td>\n",
       "      <td>-3.264155</td>\n",
       "      <td>-0.671344</td>\n",
       "      <td>-5.312867</td>\n",
       "      <td>-2.248219</td>\n",
       "    </tr>\n",
       "    <tr>\n",
       "      <th>7</th>\n",
       "      <td>0.426584</td>\n",
       "      <td>-1.118851</td>\n",
       "      <td>-0.938263</td>\n",
       "      <td>-1.442067</td>\n",
       "      <td>0.747063</td>\n",
       "      <td>0.268388</td>\n",
       "      <td>1.062841</td>\n",
       "      <td>0.494635</td>\n",
       "      <td>0.866481</td>\n",
       "      <td>0.501923</td>\n",
       "      <td>...</td>\n",
       "      <td>-1.793459</td>\n",
       "      <td>-0.116719</td>\n",
       "      <td>-4.535173</td>\n",
       "      <td>-0.537190</td>\n",
       "      <td>-2.472669</td>\n",
       "      <td>-6.261742</td>\n",
       "      <td>-3.134708</td>\n",
       "      <td>-1.969545</td>\n",
       "      <td>-5.157691</td>\n",
       "      <td>-2.637917</td>\n",
       "    </tr>\n",
       "    <tr>\n",
       "      <th>8</th>\n",
       "      <td>0.037085</td>\n",
       "      <td>-1.488644</td>\n",
       "      <td>-1.838770</td>\n",
       "      <td>-1.066493</td>\n",
       "      <td>-1.305085</td>\n",
       "      <td>0.059484</td>\n",
       "      <td>2.128986</td>\n",
       "      <td>-0.527511</td>\n",
       "      <td>1.616871</td>\n",
       "      <td>0.235093</td>\n",
       "      <td>...</td>\n",
       "      <td>-0.478144</td>\n",
       "      <td>0.125283</td>\n",
       "      <td>-5.360958</td>\n",
       "      <td>-2.386122</td>\n",
       "      <td>-1.886257</td>\n",
       "      <td>-6.127057</td>\n",
       "      <td>-3.231487</td>\n",
       "      <td>-2.349583</td>\n",
       "      <td>-4.977880</td>\n",
       "      <td>-1.047555</td>\n",
       "    </tr>\n",
       "    <tr>\n",
       "      <th>9</th>\n",
       "      <td>-0.037537</td>\n",
       "      <td>-1.495531</td>\n",
       "      <td>-1.801568</td>\n",
       "      <td>-0.526676</td>\n",
       "      <td>-1.831555</td>\n",
       "      <td>0.494413</td>\n",
       "      <td>1.286978</td>\n",
       "      <td>-1.589983</td>\n",
       "      <td>1.060466</td>\n",
       "      <td>0.836018</td>\n",
       "      <td>...</td>\n",
       "      <td>1.213397</td>\n",
       "      <td>-1.032989</td>\n",
       "      <td>-8.298501</td>\n",
       "      <td>-0.080207</td>\n",
       "      <td>-2.335635</td>\n",
       "      <td>-4.606785</td>\n",
       "      <td>-2.849864</td>\n",
       "      <td>-2.028372</td>\n",
       "      <td>-3.179649</td>\n",
       "      <td>-2.205214</td>\n",
       "    </tr>\n",
       "  </tbody>\n",
       "</table>\n",
       "<p>10 rows × 22160 columns</p>\n",
       "</div>"
      ],
      "text/plain": [
       "         A1        A2        A3        A4        A5        A6        A7  \\\n",
       "0  1.311350 -1.613464 -1.298663 -1.441343 -1.735923  0.173112  2.466366   \n",
       "1  0.997722 -1.553994 -1.960600 -1.424590  0.023609  0.420973  1.128427   \n",
       "2  0.389508 -2.139782 -0.584985 -1.085373  0.803247  0.766617  1.701689   \n",
       "3  0.348560 -1.562540 -0.586732 -0.834661  1.096979  0.121817  1.623373   \n",
       "4  0.138276 -1.612280 -1.362990 -1.360318  0.488124  0.365410  0.739845   \n",
       "5 -0.332565 -1.280348 -0.817751 -0.480521 -0.098970  0.112246  0.773993   \n",
       "6 -1.140942 -0.460872  0.588564 -1.214647  1.210955  1.336895 -0.857090   \n",
       "7  0.426584 -1.118851 -0.938263 -1.442067  0.747063  0.268388  1.062841   \n",
       "8  0.037085 -1.488644 -1.838770 -1.066493 -1.305085  0.059484  2.128986   \n",
       "9 -0.037537 -1.495531 -1.801568 -0.526676 -1.831555  0.494413  1.286978   \n",
       "\n",
       "         A8        A9       A10    ...        D5531     D5532     D5533  \\\n",
       "0  1.383979 -0.115130  0.287468    ...     0.210607 -0.540993 -3.674097   \n",
       "1  0.722659  1.878123 -0.065159    ...    -0.447109  0.450649 -4.464408   \n",
       "2  0.926101  1.600687  0.435633    ...    -0.070151  0.024133 -2.215227   \n",
       "3 -0.654405  0.221121  0.998601    ...    -1.288305  0.806314 -3.733712   \n",
       "4 -0.654702  2.170263  0.630418    ...     0.279816  0.115002 -1.305902   \n",
       "5 -0.969944  1.117705  0.872166    ...     0.375290  1.113241 -4.016287   \n",
       "6 -1.884711 -0.001943  1.320737    ...     0.666558 -2.016912 -4.682891   \n",
       "7  0.494635  0.866481  0.501923    ...    -1.793459 -0.116719 -4.535173   \n",
       "8 -0.527511  1.616871  0.235093    ...    -0.478144  0.125283 -5.360958   \n",
       "9 -1.589983  1.060466  0.836018    ...     1.213397 -1.032989 -8.298501   \n",
       "\n",
       "      D5534     D5535     D5536     D5537     D5538     D5539     D5540  \n",
       "0 -1.652979 -2.255490 -4.554757 -0.381422 -1.415857 -4.121011 -2.486528  \n",
       "1 -0.977954 -2.012559 -4.538550 -2.333890 -2.342496 -4.774197 -1.794568  \n",
       "2 -1.957654 -2.188635 -4.424748 -2.986927 -1.722201 -3.995680 -0.902979  \n",
       "3 -1.990368 -1.633418 -5.533077 -3.283316 -2.104227 -5.767710 -2.177930  \n",
       "4 -0.679212 -2.099512 -5.955507 -0.920594 -1.626372 -4.422711 -1.408485  \n",
       "5 -1.327287 -2.375500 -4.379304 -2.752906 -1.939162 -3.500963 -0.796143  \n",
       "6 -0.254524 -2.668047 -6.573239 -3.264155 -0.671344 -5.312867 -2.248219  \n",
       "7 -0.537190 -2.472669 -6.261742 -3.134708 -1.969545 -5.157691 -2.637917  \n",
       "8 -2.386122 -1.886257 -6.127057 -3.231487 -2.349583 -4.977880 -1.047555  \n",
       "9 -0.080207 -2.335635 -4.606785 -2.849864 -2.028372 -3.179649 -2.205214  \n",
       "\n",
       "[10 rows x 22160 columns]"
      ]
     },
     "execution_count": 95,
     "metadata": {},
     "output_type": "execute_result"
    }
   ],
   "source": [
    "X_A = train_data[(train_data['Timepoint'] == 0)&(train_data['Treatment'] == 0)].drop(['DHA_IC50','Sample_Name','Isolate','Timepoint','Treatment','BioRep'], axis = 1)\n",
    "X_B = train_data[(train_data['Timepoint'] == 1)&(train_data['Treatment'] == 0)].drop(['DHA_IC50','Sample_Name','Isolate','Timepoint','Treatment','BioRep'], axis = 1)\n",
    "X_C = train_data[(train_data['Timepoint'] == 0)&(train_data['Treatment'] == 1)].drop(['DHA_IC50','Sample_Name','Isolate','Timepoint','Treatment','BioRep'], axis = 1)\n",
    "X_D = train_data[(train_data['Timepoint'] == 1)&(train_data['Treatment'] == 1)].drop(['DHA_IC50','Sample_Name','Isolate','Timepoint','Treatment','BioRep'], axis = 1)\n",
    "\n",
    "Xt_A = test_data[(test_data['Timepoint'] == 0)&(test_data['Treatment'] == 0)].drop(['DHA_IC50','Sample_Names','Isolate','Timepoint','Treatment','BioRep'], axis = 1)\n",
    "Xt_B = test_data[(test_data['Timepoint'] == 1)&(test_data['Treatment'] == 0)].drop(['DHA_IC50','Sample_Names','Isolate','Timepoint','Treatment','BioRep'], axis = 1)\n",
    "Xt_C = test_data[(test_data['Timepoint'] == 0)&(test_data['Treatment'] == 1)].drop(['DHA_IC50','Sample_Names','Isolate','Timepoint','Treatment','BioRep'], axis = 1)\n",
    "Xt_D = test_data[(test_data['Timepoint'] == 1)&(test_data['Treatment'] == 1)].drop(['DHA_IC50','Sample_Names','Isolate','Timepoint','Treatment','BioRep'], axis = 1)\n",
    "\n",
    "Y = train_data[(train_data['Timepoint'] == 0)&(train_data['Treatment'] == 0)]['DHA_IC50']\n",
    "bioreps = train_data[(train_data['Timepoint'] == 0)&(train_data['Treatment'] == 0)]['BioRep']\n",
    "bioreps_test = test_data[(test_data['Timepoint'] == 0)&(test_data['Treatment'] == 0)]['BioRep']\n",
    "\n",
    "# rename columns:\n",
    "X_A.columns = ['A' + str(i) for i in range(1,5541)]\n",
    "X_B.columns = ['B' + str(i) for i in range(1,5541)]\n",
    "X_C.columns = ['C' + str(i) for i in range(1,5541)]\n",
    "X_D.columns = ['D' + str(i) for i in range(1,5541)]\n",
    "\n",
    "Xt_A.columns = ['A' + str(i) for i in range(1,5541)]\n",
    "Xt_B.columns = ['B' + str(i) for i in range(1,5541)]\n",
    "Xt_C.columns = ['C' + str(i) for i in range(1,5541)]\n",
    "Xt_D.columns = ['D' + str(i) for i in range(1,5541)]\n",
    "\n",
    "X_A = X_A.reset_index().drop(['index'],axis=1)\n",
    "X_B = X_B.reset_index().drop(['index'],axis=1)\n",
    "X_C = X_C.reset_index().drop(['index'],axis=1)\n",
    "X_D = X_D.reset_index().drop(['index'],axis=1)\n",
    "\n",
    "Xt_A = Xt_A.reset_index().drop(['index'],axis=1)\n",
    "Xt_B = Xt_B.reset_index().drop(['index'],axis=1)\n",
    "Xt_C = Xt_C.reset_index().drop(['index'],axis=1)\n",
    "Xt_D = Xt_D.reset_index().drop(['index'],axis=1)\n",
    "\n",
    "# combine data frames:\n",
    "X = pd.concat([X_A,X_B,X_C,X_D], axis=1)\n",
    "Xt = pd.concat([Xt_A,Xt_B,Xt_C,Xt_D], axis=1)\n",
    "X.head(10)"
   ]
  },
  {
   "cell_type": "markdown",
   "metadata": {},
   "source": [
    "## Univariate f-regression, using top k features"
   ]
  },
  {
   "cell_type": "code",
   "execution_count": 5,
   "metadata": {
    "collapsed": true
   },
   "outputs": [],
   "source": [
    "def drop_univ(X_orig, Y, features):\n",
    "    X = StandardScaler().fit_transform(X_orig)\n",
    "    X_uni = GenericUnivariateSelect(f_regression,'k_best', param=features).fit_transform(X, Y.values.ravel())\n",
    "    X_uni = pd.DataFrame(data = X_uni)\n",
    "\n",
    "    return X_uni"
   ]
  },
  {
   "cell_type": "markdown",
   "metadata": {},
   "source": [
    "### Test on reshaped data frame, testing different numbers of features"
   ]
  },
  {
   "cell_type": "code",
   "execution_count": 6,
   "metadata": {
    "collapsed": false
   },
   "outputs": [],
   "source": [
    "threshold = []\n",
    "accuracy = []\n",
    "mse = []\n",
    "spearman = []\n",
    "num_cols = []\n",
    "cv = []\n",
    "cv_spear = []\n",
    "\n",
    "for j in np.arange(10,310,10):\n",
    "    X_uni = drop_univ(X,Y,j)\n",
    "\n",
    "    max_features = min(len(X_uni.columns),50)\n",
    "\n",
    "    X_train, X_test , Y_train , Y_test = train_test_split(X_uni,Y,test_size=0.33,random_state=10)\n",
    "\n",
    "    svr_model = SVR()\n",
    "    svr_model.fit(X_train, Y_train.values.ravel())\n",
    "    Y_pred = svr_model.predict(X_test) \n",
    "    \n",
    "    threshold.append(j)\n",
    "    accuracy.append(svr_model.score(X_test,Y_test))\n",
    "    mse.append(mean_squared_error(Y_test, Y_pred))\n",
    "    spearman.append(spearmanr(Y_test,Y_pred)[0])\n",
    "    num_cols.append(len(X_uni.columns))\n",
    "    cv.append(np.mean(cross_val_score(svr_model, X_train, Y_train.values.ravel(), cv=5)))\n",
    "    cv_spear.append(np.mean(cross_val_score(svr_model, X_train, Y_train.values.ravel(), cv=5,scoring=make_scorer(spear_r))))\n",
    "    \n",
    "\n",
    "results_unif = pd.DataFrame(list(zip(threshold,accuracy,mse,spearman,num_cols,cv,cv_spear)),columns =['threshold', 'accuracy','mse','spearman','num_cols','cv','cv_spear']) "
   ]
  },
  {
   "cell_type": "code",
   "execution_count": 7,
   "metadata": {
    "collapsed": false
   },
   "outputs": [
    {
     "name": "stdout",
     "output_type": "stream",
     "text": [
      "0.5861567679909726\n"
     ]
    },
    {
     "data": {
      "image/png": "[encoded data removed]",
      "text/plain": [
       "<matplotlib.figure.Figure at 0x1a19306cc0>"
      ]
     },
     "metadata": {},
     "output_type": "display_data"
    }
   ],
   "source": [
    "sns.set_palette(\"husl\", 3)\n",
    "\n",
    "print(np.max(results_unif['cv_spear']))\n",
    "\n",
    "pl.plot(results_unif['threshold'],results_unif['cv'])\n",
    "pl.plot(results_unif['threshold'],results_unif['cv_spear'])\n",
    "pl.plot(results_unif['threshold'],results_unif['mse'])\n",
    "pl.legend([r'cv $r^2$','cv spear','mse'])\n",
    "pl.show()"
   ]
  },
  {
   "cell_type": "markdown",
   "metadata": {},
   "source": [
    "## Test on only 24hr, treated data frame"
   ]
  },
  {
   "cell_type": "code",
   "execution_count": 8,
   "metadata": {
    "collapsed": false
   },
   "outputs": [],
   "source": [
    "threshold = []\n",
    "accuracy = []\n",
    "mse = []\n",
    "spearman = []\n",
    "num_cols = []\n",
    "cv = []\n",
    "cv_spear = []\n",
    "\n",
    "for j in np.arange(10,310,10):\n",
    "    X_uni = drop_univ(X_D,Y,j)\n",
    "\n",
    "    max_features = min(len(X_uni.columns),50)\n",
    "\n",
    "    X_train, X_test , Y_train , Y_test = train_test_split(X_uni,Y,test_size=0.33,random_state=10)\n",
    "\n",
    "    svr_model = SVR()\n",
    "    svr_model.fit(X_train, Y_train.values.ravel())\n",
    "    Y_pred = svr_model.predict(X_test) \n",
    "    \n",
    "    threshold.append(j)\n",
    "    accuracy.append(svr_model.score(X_test,Y_test))\n",
    "    mse.append(mean_squared_error(Y_test, Y_pred))\n",
    "    spearman.append(spearmanr(Y_test,Y_pred)[0])\n",
    "    num_cols.append(len(X_uni.columns))\n",
    "    cv.append(np.mean(cross_val_score(svr_model, X_train, Y_train.values.ravel(), cv=5)))\n",
    "    cv_spear.append(np.mean(cross_val_score(svr_model, X_train, Y_train.values.ravel(), cv=5,scoring=make_scorer(spear_r))))\n",
    "    \n",
    "\n",
    "results_unif_sub = pd.DataFrame(list(zip(threshold,accuracy,mse,spearman,num_cols,cv,cv_spear)),columns =['threshold', 'accuracy','mse','spearman','num_cols','cv','cv_spear']) "
   ]
  },
  {
   "cell_type": "code",
   "execution_count": 9,
   "metadata": {
    "collapsed": false,
    "scrolled": true
   },
   "outputs": [
    {
     "name": "stdout",
     "output_type": "stream",
     "text": [
      "0.4962262949183172\n"
     ]
    },
    {
     "data": {
      "image/png": "[encoded data removed]",
      "text/plain": [
       "<matplotlib.figure.Figure at 0x1a193002e8>"
      ]
     },
     "metadata": {},
     "output_type": "display_data"
    }
   ],
   "source": [
    "sns.set_palette(\"husl\", 3)\n",
    "\n",
    "print(np.max(results_unif_sub['cv_spear']))\n",
    "\n",
    "pl.plot(results_unif_sub['threshold'],results_unif_sub['cv'])\n",
    "pl.plot(results_unif_sub['threshold'],results_unif_sub['cv_spear'])\n",
    "pl.plot(results_unif_sub['threshold'],results_unif_sub['mse'])\n",
    "pl.legend([r'cv $r^2$','cv spear','mse'])\n",
    "pl.show()"
   ]
  },
  {
   "cell_type": "markdown",
   "metadata": {},
   "source": [
    "## Test on only 6hr, treated data frame"
   ]
  },
  {
   "cell_type": "code",
   "execution_count": 11,
   "metadata": {
    "collapsed": false
   },
   "outputs": [],
   "source": [
    "threshold = []\n",
    "accuracy = []\n",
    "mse = []\n",
    "spearman = []\n",
    "num_cols = []\n",
    "cv = []\n",
    "cv_spear = []\n",
    "\n",
    "for j in np.arange(10,310,10):\n",
    "    X_uni = drop_univ(X_C,Y,j)\n",
    "\n",
    "    max_features = min(len(X_uni.columns),50)\n",
    "\n",
    "    X_train, X_test , Y_train , Y_test = train_test_split(X_uni,Y,test_size=0.33,random_state=10)\n",
    "\n",
    "    svr_model = SVR()\n",
    "    svr_model.fit(X_train, Y_train.values.ravel())\n",
    "    Y_pred = svr_model.predict(X_test) \n",
    "    \n",
    "    threshold.append(j)\n",
    "    accuracy.append(svr_model.score(X_test,Y_test))\n",
    "    mse.append(mean_squared_error(Y_test, Y_pred))\n",
    "    spearman.append(spearmanr(Y_test,Y_pred)[0])\n",
    "    num_cols.append(len(X_uni.columns))\n",
    "    cv.append(np.mean(cross_val_score(svr_model, X_train, Y_train.values.ravel(), cv=5)))\n",
    "    cv_spear.append(np.mean(cross_val_score(svr_model, X_train, Y_train.values.ravel(), cv=5,scoring=make_scorer(spear_r))))\n",
    "    \n",
    "\n",
    "results_unif_sub2 = pd.DataFrame(list(zip(threshold,accuracy,mse,spearman,num_cols,cv,cv_spear)),columns =['threshold', 'accuracy','mse','spearman','num_cols','cv','cv_spear']) "
   ]
  },
  {
   "cell_type": "code",
   "execution_count": 12,
   "metadata": {
    "collapsed": false
   },
   "outputs": [
    {
     "name": "stdout",
     "output_type": "stream",
     "text": [
      "0.5042525928408593\n"
     ]
    },
    {
     "data": {
      "image/png": "[encoded data removed]",
      "text/plain": [
       "<matplotlib.figure.Figure at 0x111427fd0>"
      ]
     },
     "metadata": {},
     "output_type": "display_data"
    }
   ],
   "source": [
    "sns.set_palette(\"husl\", 3)\n",
    "\n",
    "print(np.max(results_unif_sub2['cv_spear']))\n",
    "\n",
    "pl.plot(results_unif_sub2['threshold'],results_unif_sub2['cv'])\n",
    "pl.plot(results_unif_sub2['threshold'],results_unif_sub2['cv_spear'])\n",
    "pl.plot(results_unif_sub2['threshold'],results_unif_sub2['mse'])\n",
    "pl.legend([r'cv $r^2$','cv spear','mse'])\n",
    "pl.show()"
   ]
  },
  {
   "cell_type": "code",
   "execution_count": 10,
   "metadata": {
    "collapsed": false
   },
   "outputs": [],
   "source": [
    "X_s = StandardScaler().fit_transform(X)\n",
    "transformer = GenericUnivariateSelect(f_regression,'k_best', param=70)\n",
    "X_uni = transformer.fit_transform(X_s, Y.values.ravel())\n",
    "X_uni = pd.DataFrame(data = X_uni)\n",
    "\n",
    "indices = transformer.get_support(indices=False)\n",
    "\n",
    "X_features = X.columns[indices].tolist()"
   ]
  },
  {
   "cell_type": "code",
   "execution_count": 11,
   "metadata": {
    "collapsed": false
   },
   "outputs": [
    {
     "name": "stdout",
     "output_type": "stream",
     "text": [
      "['A1040', 'A2793', 'B506', 'B1736', 'B2431', 'B4030', 'C44', 'C396', 'C419', 'C426', 'C511', 'C1103', 'C1315', 'C1531', 'C1559', 'C1702', 'C1751', 'C1786', 'C1820', 'C1904', 'C1949', 'C1970', 'C2035', 'C2097', 'C2260', 'C2287', 'C2567', 'C2681', 'C2711', 'C2714', 'C2718', 'C2905', 'C2931', 'C3078', 'C3238', 'C3257', 'C3291', 'C3357', 'C3361', 'C3436', 'C3531', 'C3577', 'C3702', 'C3985', 'C4292', 'C4607', 'C4743', 'C4792', 'C4861', 'C4982', 'C4987', 'C4988', 'C5019', 'C5058', 'C5240', 'C5245', 'C5444', 'D178', 'D960', 'D1103', 'D1107', 'D1181', 'D1901', 'D2061', 'D2241', 'D4447', 'D4866', 'D5025', 'D5183', 'D5520']\n"
     ]
    }
   ],
   "source": [
    "print(X_features)"
   ]
  },
  {
   "cell_type": "code",
   "execution_count": 12,
   "metadata": {
    "collapsed": false
   },
   "outputs": [],
   "source": [
    "X_s = StandardScaler().fit_transform(X_D)\n",
    "transformer = GenericUnivariateSelect(f_regression,'k_best', param=70)\n",
    "X_uni = transformer.fit_transform(X_s, Y.values.ravel())\n",
    "X_uni = pd.DataFrame(data = X_uni)\n",
    "\n",
    "indices = transformer.get_support(indices=False)\n",
    "\n",
    "X_D_features = X_D.columns[indices].tolist()"
   ]
  },
  {
   "cell_type": "code",
   "execution_count": 13,
   "metadata": {
    "collapsed": false
   },
   "outputs": [
    {
     "name": "stdout",
     "output_type": "stream",
     "text": [
      "['D2', 'D10', 'D14', 'D178', 'D206', 'D252', 'D292', 'D321', 'D410', 'D879', 'D960', 'D1035', 'D1056', 'D1103', 'D1107', 'D1108', 'D1110', 'D1181', 'D1314', 'D1367', 'D1459', 'D1505', 'D1553', 'D1603', 'D1626', 'D1901', 'D1910', 'D1914', 'D1985', 'D2061', 'D2229', 'D2233', 'D2236', 'D2241', 'D2279', 'D2342', 'D2619', 'D2643', 'D2753', 'D3069', 'D3169', 'D3349', 'D3398', 'D3432', 'D3463', 'D3464', 'D3564', 'D3638', 'D3647', 'D3924', 'D4062', 'D4161', 'D4193', 'D4227', 'D4447', 'D4591', 'D4640', 'D4754', 'D4785', 'D4815', 'D4866', 'D4995', 'D5025', 'D5029', 'D5033', 'D5182', 'D5183', 'D5481', 'D5485', 'D5520']\n"
     ]
    }
   ],
   "source": [
    "print(X_D_features)"
   ]
  },
  {
   "cell_type": "code",
   "execution_count": 14,
   "metadata": {
    "collapsed": true
   },
   "outputs": [],
   "source": [
    "X_s = StandardScaler().fit_transform(X_C)\n",
    "transformer = GenericUnivariateSelect(f_regression,'k_best', param=70)\n",
    "X_uni = transformer.fit_transform(X_s, Y.values.ravel())\n",
    "X_uni = pd.DataFrame(data = X_uni)\n",
    "\n",
    "indices = transformer.get_support(indices=False)\n",
    "\n",
    "X_C_features = X_C.columns[indices].tolist()"
   ]
  },
  {
   "cell_type": "code",
   "execution_count": 15,
   "metadata": {
    "collapsed": false
   },
   "outputs": [
    {
     "name": "stdout",
     "output_type": "stream",
     "text": [
      "['C44', 'C365', 'C396', 'C419', 'C426', 'C511', 'C563', 'C766', 'C1009', 'C1021', 'C1103', 'C1240', 'C1315', 'C1422', 'C1531', 'C1559', 'C1702', 'C1717', 'C1751', 'C1786', 'C1820', 'C1904', 'C1949', 'C1970', 'C2035', 'C2097', 'C2260', 'C2287', 'C2444', 'C2567', 'C2681', 'C2711', 'C2714', 'C2718', 'C2875', 'C2905', 'C2931', 'C3078', 'C3195', 'C3238', 'C3257', 'C3291', 'C3357', 'C3361', 'C3436', 'C3531', 'C3577', 'C3654', 'C3702', 'C3739', 'C3985', 'C4101', 'C4292', 'C4440', 'C4607', 'C4743', 'C4792', 'C4861', 'C4982', 'C4983', 'C4987', 'C4988', 'C5000', 'C5019', 'C5024', 'C5058', 'C5240', 'C5245', 'C5444', 'C5465']\n"
     ]
    }
   ],
   "source": [
    "print(X_C_features)"
   ]
  },
  {
   "cell_type": "code",
   "execution_count": 16,
   "metadata": {
    "collapsed": false
   },
   "outputs": [
    {
     "data": {
      "text/plain": [
       "['D1107',\n",
       " 'D178',\n",
       " 'D5183',\n",
       " 'D1103',\n",
       " 'D5025',\n",
       " 'D1901',\n",
       " 'D4866',\n",
       " 'D2061',\n",
       " 'D960',\n",
       " 'D1181',\n",
       " 'D4447',\n",
       " 'D2241',\n",
       " 'D5520']"
      ]
     },
     "execution_count": 16,
     "metadata": {},
     "output_type": "execute_result"
    }
   ],
   "source": [
    "list(set(X_features) & set(X_D_features))"
   ]
  },
  {
   "cell_type": "markdown",
   "metadata": {},
   "source": [
    "### Conclusion: treated 24hr gives better Spearman score, but reshaped gives better cross-val score\n",
    "- Weirdly, more features from the 6hr treated timepoint were used in the reshaped version"
   ]
  },
  {
   "cell_type": "markdown",
   "metadata": {},
   "source": [
    "## Randomized search with SVR and reshaped data frame"
   ]
  },
  {
   "cell_type": "code",
   "execution_count": 17,
   "metadata": {
    "collapsed": true
   },
   "outputs": [],
   "source": [
    "X_s = StandardScaler().fit_transform(X)\n",
    "transformer = GenericUnivariateSelect(f_regression,'k_best', param=70)\n",
    "X_uni = transformer.fit_transform(X_s, Y.values.ravel())\n",
    "X_uni = pd.DataFrame(data = X_uni)"
   ]
  },
  {
   "cell_type": "code",
   "execution_count": 24,
   "metadata": {
    "collapsed": false
   },
   "outputs": [
    {
     "name": "stdout",
     "output_type": "stream",
     "text": [
      "{'epsilon': 0.25, 'kernel': 'rbf', 'gamma': 0.001, 'degree': 3, 'C': 50}\n"
     ]
    },
    {
     "data": {
      "text/plain": [
       "0.7182028336446011"
      ]
     },
     "execution_count": 24,
     "metadata": {},
     "output_type": "execute_result"
    }
   ],
   "source": [
    "X_train, X_test , Y_train , Y_test = train_test_split(X_uni,Y,test_size=0.33,random_state=10)\n",
    "\n",
    "svr_model = SVR()\n",
    "\n",
    "param_dist = {\"kernel\": ['rbf', 'poly', 'sigmoid'],\n",
    "              \"C\": [0.01,0.05,0.1, 0.5, 1, 5, 10, 50],\n",
    "              \"epsilon\": [0.01, 0.05,  0.1, 0.015, 0.2,0.25],\n",
    "              \"gamma\": [0.001, 0.01, 0.1, 'auto'],\n",
    "              \"degree\": sp_randint(2,5)}\n",
    "\n",
    "scoring = {'r2': make_scorer(r2_score), 'spear_r': make_scorer(spear_r), 'mse': make_scorer(mean_squared_error)}\n",
    "\n",
    "n_iter_search = 100\n",
    "random_search = RandomizedSearchCV(svr_model, param_distributions=param_dist,\n",
    "                                   n_iter=n_iter_search, cv=5, iid=False, \n",
    "                                   scoring = scoring, refit = 'r2', return_train_score=True)\n",
    "\n",
    "random_search.fit(X_train, Y_train.values.ravel())\n",
    "print(random_search.best_params_)\n",
    "\n",
    "scores = pd.DataFrame(random_search.cv_results_)\n",
    "condition = scores['rank_test_spear_r'] == 1\n",
    "df_1 = scores[condition].reset_index(drop = True)\n",
    "df_1.loc[0, 'mean_test_spear_r']"
   ]
  },
  {
   "cell_type": "code",
   "execution_count": 27,
   "metadata": {
    "collapsed": false
   },
   "outputs": [
    {
     "name": "stdout",
     "output_type": "stream",
     "text": [
      "{'epsilon': 0.25, 'kernel': 'rbf', 'gamma': 0.1, 'degree': 3, 'C': 50}\n"
     ]
    },
    {
     "data": {
      "text/plain": [
       "0.7082447625496696"
      ]
     },
     "execution_count": 27,
     "metadata": {},
     "output_type": "execute_result"
    }
   ],
   "source": [
    "X_train, X_test , Y_train , Y_test = train_test_split(X_uni,Y,test_size=0.33,random_state=10)\n",
    "\n",
    "svr_model = SVR()\n",
    "\n",
    "param_dist = {\"kernel\": ['rbf', 'poly', 'sigmoid'],\n",
    "              \"C\": [0.01,0.05,0.1, 0.5, 1, 5, 10, 50],\n",
    "              \"epsilon\": [0.01, 0.05,  0.1, 0.015, 0.2,0.25],\n",
    "              \"gamma\": [0.001, 0.01, 0.1, 'auto'],\n",
    "              \"degree\": sp_randint(2,5)}\n",
    "\n",
    "scoring = {'r2': make_scorer(r2_score), 'spear_r': make_scorer(spear_r), 'mse': make_scorer(mean_squared_error)}\n",
    "\n",
    "n_iter_search = 100\n",
    "random_search = RandomizedSearchCV(svr_model, param_distributions=param_dist,\n",
    "                                   n_iter=n_iter_search, cv=5, iid=False, \n",
    "                                   scoring = scoring, refit = 'spear_r', return_train_score=True)\n",
    "\n",
    "random_search.fit(X_train, Y_train.values.ravel())\n",
    "print(random_search.best_params_)\n",
    "\n",
    "scores = pd.DataFrame(random_search.cv_results_)\n",
    "condition = scores['rank_test_spear_r'] == 1\n",
    "df_1 = scores[condition].reset_index(drop = True)\n",
    "df_1.loc[0, 'mean_test_spear_r']"
   ]
  },
  {
   "cell_type": "code",
   "execution_count": 28,
   "metadata": {
    "collapsed": false
   },
   "outputs": [
    {
     "data": {
      "text/html": [
       "<div>\n",
       "<style scoped>\n",
       "    .dataframe tbody tr th:only-of-type {\n",
       "        vertical-align: middle;\n",
       "    }\n",
       "\n",
       "    .dataframe tbody tr th {\n",
       "        vertical-align: top;\n",
       "    }\n",
       "\n",
       "    .dataframe thead th {\n",
       "        text-align: right;\n",
       "    }\n",
       "</style>\n",
       "<table border=\"1\" class=\"dataframe\">\n",
       "  <thead>\n",
       "    <tr style=\"text-align: right;\">\n",
       "      <th></th>\n",
       "      <th>param_kernel</th>\n",
       "      <th>param_C</th>\n",
       "      <th>param_epsilon</th>\n",
       "      <th>param_gamma</th>\n",
       "      <th>param_degree</th>\n",
       "      <th>rank_test_spear_r</th>\n",
       "    </tr>\n",
       "  </thead>\n",
       "  <tbody>\n",
       "    <tr>\n",
       "      <th>74</th>\n",
       "      <td>rbf</td>\n",
       "      <td>50</td>\n",
       "      <td>0.25</td>\n",
       "      <td>0.1</td>\n",
       "      <td>3</td>\n",
       "      <td>1</td>\n",
       "    </tr>\n",
       "    <tr>\n",
       "      <th>80</th>\n",
       "      <td>rbf</td>\n",
       "      <td>10</td>\n",
       "      <td>0.2</td>\n",
       "      <td>0.1</td>\n",
       "      <td>3</td>\n",
       "      <td>2</td>\n",
       "    </tr>\n",
       "    <tr>\n",
       "      <th>1</th>\n",
       "      <td>poly</td>\n",
       "      <td>5</td>\n",
       "      <td>0.01</td>\n",
       "      <td>0.01</td>\n",
       "      <td>3</td>\n",
       "      <td>3</td>\n",
       "    </tr>\n",
       "    <tr>\n",
       "      <th>22</th>\n",
       "      <td>poly</td>\n",
       "      <td>1</td>\n",
       "      <td>0.01</td>\n",
       "      <td>0.01</td>\n",
       "      <td>3</td>\n",
       "      <td>4</td>\n",
       "    </tr>\n",
       "    <tr>\n",
       "      <th>6</th>\n",
       "      <td>poly</td>\n",
       "      <td>5</td>\n",
       "      <td>0.2</td>\n",
       "      <td>0.01</td>\n",
       "      <td>3</td>\n",
       "      <td>5</td>\n",
       "    </tr>\n",
       "    <tr>\n",
       "      <th>51</th>\n",
       "      <td>rbf</td>\n",
       "      <td>5</td>\n",
       "      <td>0.01</td>\n",
       "      <td>0.1</td>\n",
       "      <td>2</td>\n",
       "      <td>6</td>\n",
       "    </tr>\n",
       "    <tr>\n",
       "      <th>81</th>\n",
       "      <td>rbf</td>\n",
       "      <td>5</td>\n",
       "      <td>0.01</td>\n",
       "      <td>0.1</td>\n",
       "      <td>3</td>\n",
       "      <td>6</td>\n",
       "    </tr>\n",
       "    <tr>\n",
       "      <th>68</th>\n",
       "      <td>rbf</td>\n",
       "      <td>0.01</td>\n",
       "      <td>0.2</td>\n",
       "      <td>0.1</td>\n",
       "      <td>4</td>\n",
       "      <td>8</td>\n",
       "    </tr>\n",
       "    <tr>\n",
       "      <th>4</th>\n",
       "      <td>poly</td>\n",
       "      <td>10</td>\n",
       "      <td>0.015</td>\n",
       "      <td>0.01</td>\n",
       "      <td>3</td>\n",
       "      <td>9</td>\n",
       "    </tr>\n",
       "    <tr>\n",
       "      <th>44</th>\n",
       "      <td>poly</td>\n",
       "      <td>0.5</td>\n",
       "      <td>0.1</td>\n",
       "      <td>0.1</td>\n",
       "      <td>3</td>\n",
       "      <td>10</td>\n",
       "    </tr>\n",
       "  </tbody>\n",
       "</table>\n",
       "</div>"
      ],
      "text/plain": [
       "   param_kernel param_C param_epsilon param_gamma param_degree  \\\n",
       "74          rbf      50          0.25         0.1            3   \n",
       "80          rbf      10           0.2         0.1            3   \n",
       "1          poly       5          0.01        0.01            3   \n",
       "22         poly       1          0.01        0.01            3   \n",
       "6          poly       5           0.2        0.01            3   \n",
       "51          rbf       5          0.01         0.1            2   \n",
       "81          rbf       5          0.01         0.1            3   \n",
       "68          rbf    0.01           0.2         0.1            4   \n",
       "4          poly      10         0.015        0.01            3   \n",
       "44         poly     0.5           0.1         0.1            3   \n",
       "\n",
       "    rank_test_spear_r  \n",
       "74                  1  \n",
       "80                  2  \n",
       "1                   3  \n",
       "22                  4  \n",
       "6                   5  \n",
       "51                  6  \n",
       "81                  6  \n",
       "68                  8  \n",
       "4                   9  \n",
       "44                 10  "
      ]
     },
     "execution_count": 28,
     "metadata": {},
     "output_type": "execute_result"
    }
   ],
   "source": [
    "scores[['param_kernel','param_C','param_epsilon','param_gamma','param_degree','rank_test_spear_r']].sort_values(by='rank_test_spear_r').head(10)"
   ]
  },
  {
   "cell_type": "markdown",
   "metadata": {},
   "source": [
    "## Grid Search"
   ]
  },
  {
   "cell_type": "code",
   "execution_count": 26,
   "metadata": {
    "collapsed": false
   },
   "outputs": [
    {
     "name": "stdout",
     "output_type": "stream",
     "text": [
      "{'epsilon': 0.25, 'kernel': 'rbf', 'gamma': 0.001, 'degree': 2, 'C': 15}\n"
     ]
    },
    {
     "data": {
      "text/plain": [
       "0.7215780958830031"
      ]
     },
     "execution_count": 26,
     "metadata": {},
     "output_type": "execute_result"
    }
   ],
   "source": [
    "X_train, X_test , Y_train , Y_test = train_test_split(X_uni,Y,test_size=0.33,random_state=10)\n",
    "\n",
    "svr_model = SVR()\n",
    "\n",
    "param_grid = {\"kernel\": ['rbf', 'poly'],\n",
    "              \"C\": np.arange(10,55,5),\n",
    "              \"epsilon\": np.arange(0.15,0.35,0.05),\n",
    "              \"gamma\": [0.001,0.1, 'auto'],\n",
    "              \"degree\": [2,3,4]}\n",
    "\n",
    "scoring = {'r2': make_scorer(r2_score), 'spear_r': make_scorer(spear_r), 'mse': make_scorer(mean_squared_error)}\n",
    "\n",
    "grid_search = GridSearchCV(svr_model, param_grid=param_grid, cv=5, iid=False, \n",
    "                                   scoring = scoring, refit = 'r2', return_train_score=True)\n",
    "\n",
    "grid_search.fit(X_train, Y_train.values.ravel())\n",
    "print(grid_search.best_params_)\n",
    "\n",
    "grid_scores = pd.DataFrame(grid_search.cv_results_)\n",
    "condition = grid_scores['rank_test_spear_r'] == 1\n",
    "df_2 = grid_scores[condition].reset_index(drop = True)\n",
    "df_2.loc[0, 'mean_test_spear_r']"
   ]
  },
  {
   "cell_type": "code",
   "execution_count": 51,
   "metadata": {
    "collapsed": false
   },
   "outputs": [
    {
     "name": "stdout",
     "output_type": "stream",
     "text": [
      "{'kernel': 'poly', 'epsilon': 0.05, 'degree': 3, 'C': 3.0, 'gamma': 'auto'}\n"
     ]
    },
    {
     "data": {
      "text/plain": [
       "0.739967600358922"
      ]
     },
     "execution_count": 51,
     "metadata": {},
     "output_type": "execute_result"
    }
   ],
   "source": [
    "X_train, X_test , Y_train , Y_test = train_test_split(X_uni,Y,test_size=0.33,random_state=10)\n",
    "\n",
    "svr_model = SVR()\n",
    "\n",
    "param_grid = {\"kernel\": ['rbf', 'poly'],\n",
    "              \"C\": np.arange(0.5,10.5,0.5),\n",
    "              \"epsilon\": np.arange(0.05,0.55,0.05),\n",
    "              \"gamma\": [0.1, 'auto'],\n",
    "              \"degree\": [2,3,4]}\n",
    "\n",
    "scoring = {'r2': make_scorer(r2_score), 'spear_r': make_scorer(spear_r), 'mse': make_scorer(mean_squared_error)}\n",
    "\n",
    "grid_search = GridSearchCV(svr_model, param_grid=param_grid, cv=5, iid=False, \n",
    "                                   scoring = scoring, refit = 'r2', return_train_score=True)\n",
    "\n",
    "grid_search.fit(X_train, Y_train.values.ravel())\n",
    "print(grid_search.best_params_)\n",
    "\n",
    "grid_scores = pd.DataFrame(grid_search.cv_results_)\n",
    "condition = grid_scores['rank_test_spear_r'] == 1\n",
    "df_2 = grid_scores[condition].reset_index(drop = True)\n",
    "df_2.loc[0, 'mean_test_spear_r']"
   ]
  },
  {
   "cell_type": "markdown",
   "metadata": {},
   "source": [
    "### refit: r2"
   ]
  },
  {
   "cell_type": "code",
   "execution_count": 38,
   "metadata": {
    "collapsed": false
   },
   "outputs": [
    {
     "name": "stdout",
     "output_type": "stream",
     "text": [
      "mse: 0.14829980293118375\n",
      "accuracy: 0.560615788049105\n",
      "spearman: 0.48923122199610286\n",
      "cv score: 0.2380171343475693\n",
      "cv spear: 0.6909861738286928\n"
     ]
    }
   ],
   "source": [
    "X_train, X_test , Y_train , Y_test = train_test_split(X_uni,Y,test_size=0.33,random_state=9)\n",
    "\n",
    "#svr_model = SVR(kernel='poly',epsilon=0.05, degree=3,C=3,gamma='auto')\n",
    "svr_model = SVR(kernel='rbf',epsilon=0.25, degree=2,C=15,gamma=0.001)\n",
    "svr_model.fit(X_train, Y_train.values.ravel())\n",
    "Y_pred = svr_model.predict(X_test) \n",
    "\n",
    "print('mse: ' + str(mean_squared_error(Y_test, Y_pred)))\n",
    "print('accuracy: ' + str(svr_model.score(X_test,Y_test)))\n",
    "print('spearman: ' + str(spearmanr(Y_test,Y_pred)[0]))\n",
    "print('cv score: ' + str(np.mean(cross_val_score(svr_model, X_train, Y_train.values.ravel(), cv=5))))\n",
    "print('cv spear: ' + str(np.mean(cross_val_score(svr_model, X_train, Y_train.values.ravel(), cv=5,scoring=make_scorer(spear_r)))))"
   ]
  },
  {
   "cell_type": "markdown",
   "metadata": {},
   "source": [
    "### *testing. best params: (rbf, e=0.18, C = 20, gamma=0.001)\n",
    "- mse: 0.145\n",
    "- accuracy: 0.57\n",
    "- spearman: 0.51\n",
    "- cv: 0.27\n",
    "- cv spear: 0.71"
   ]
  },
  {
   "cell_type": "code",
   "execution_count": 50,
   "metadata": {
    "collapsed": false
   },
   "outputs": [
    {
     "name": "stdout",
     "output_type": "stream",
     "text": [
      "{'epsilon': 0.24999999999999992, 'gamma': 0.001, 'C': 13}\n"
     ]
    },
    {
     "data": {
      "text/plain": [
       "0.7216060484863822"
      ]
     },
     "execution_count": 50,
     "metadata": {},
     "output_type": "execute_result"
    }
   ],
   "source": [
    "X_train, X_test , Y_train , Y_test = train_test_split(X_uni,Y,test_size=0.33,random_state=10)\n",
    "\n",
    "svr_model = SVR(kernel='rbf')\n",
    "\n",
    "param_grid = {\"C\": np.arange(13,31,1),\n",
    "              \"epsilon\": np.arange(0.1,0.3,0.01),\n",
    "              \"gamma\": [0.001,0.01, 0.1, 'auto']}\n",
    "\n",
    "scoring = {'r2': make_scorer(r2_score), 'spear_r': make_scorer(spear_r), 'mse': make_scorer(mean_squared_error)}\n",
    "\n",
    "grid_search = GridSearchCV(svr_model, param_grid=param_grid, cv=5, iid=False, \n",
    "                                   scoring = scoring, refit = 'r2', return_train_score=True)\n",
    "\n",
    "grid_search.fit(X_train, Y_train.values.ravel())\n",
    "print(grid_search.best_params_)\n",
    "\n",
    "grid_scores = pd.DataFrame(grid_search.cv_results_)\n",
    "condition = grid_scores['rank_test_spear_r'] == 1\n",
    "df_2 = grid_scores[condition].reset_index(drop = True)\n",
    "df_2.loc[0, 'mean_test_spear_r']"
   ]
  },
  {
   "cell_type": "code",
   "execution_count": 58,
   "metadata": {
    "collapsed": false
   },
   "outputs": [
    {
     "name": "stdout",
     "output_type": "stream",
     "text": [
      "mse: 0.1450967888945775\n",
      "accuracy: 0.5701057116398662\n",
      "spearman: 0.5139898870768772\n",
      "cv score: 0.2684498948956698\n",
      "cv spear: 0.7093963768213187\n"
     ]
    }
   ],
   "source": [
    "X_train, X_test , Y_train , Y_test = train_test_split(X_uni,Y,test_size=0.33,random_state=9)\n",
    "\n",
    "svr_model = SVR(kernel='rbf',epsilon=0.18, C=20,gamma=0.001)\n",
    "svr_model.fit(X_train, Y_train.values.ravel())\n",
    "Y_pred = svr_model.predict(X_test) \n",
    "\n",
    "print('mse: ' + str(mean_squared_error(Y_test, Y_pred)))\n",
    "print('accuracy: ' + str(svr_model.score(X_test,Y_test)))\n",
    "print('spearman: ' + str(spearmanr(Y_test,Y_pred)[0]))\n",
    "print('cv score: ' + str(np.mean(cross_val_score(svr_model, X_train, Y_train.values.ravel(), cv=5))))\n",
    "print('cv spear: ' + str(np.mean(cross_val_score(svr_model, X_train, Y_train.values.ravel(), cv=5,scoring=make_scorer(spear_r)))))"
   ]
  },
  {
   "cell_type": "markdown",
   "metadata": {},
   "source": [
    "### refit: spear_r"
   ]
  },
  {
   "cell_type": "code",
   "execution_count": 90,
   "metadata": {
    "collapsed": false
   },
   "outputs": [
    {
     "name": "stdout",
     "output_type": "stream",
     "text": [
      "mse: 0.35689113676075956\n",
      "train accuracy: 0.6470361023213123\n",
      "accuracy: -0.05740080417134341\n",
      "spearman: 0.37880757573584883\n",
      "cv score: -0.05686595098027245\n",
      "cv spear: 0.5671576183526388\n"
     ]
    }
   ],
   "source": [
    "X_train, X_test , Y_train , Y_test = train_test_split(X_uni,Y,test_size=0.33,random_state=9)\n",
    "\n",
    "svr_model = SVR(kernel='rbf',epsilon=0.35, degree=2,C=1,gamma=0.1)\n",
    "svr_model.fit(X_train, Y_train.values.ravel())\n",
    "Y_pred = svr_model.predict(X_test) \n",
    "\n",
    "print('mse: ' + str(mean_squared_error(Y_test, Y_pred)))\n",
    "print('accuracy: ' + str(svr_model.score(X_test,Y_test)))\n",
    "print('spearman: ' + str(spearmanr(Y_test,Y_pred)[0]))\n",
    "print('cv score: ' + str(np.mean(cross_val_score(svr_model, X_train, Y_train.values.ravel(), cv=5))))\n",
    "print('cv spear: ' + str(np.mean(cross_val_score(svr_model, X_train, Y_train.values.ravel(), cv=5,scoring=make_scorer(spear_r)))))"
   ]
  },
  {
   "cell_type": "markdown",
   "metadata": {},
   "source": [
    "## Drop by similarity/variance of bioreps"
   ]
  },
  {
   "cell_type": "code",
   "execution_count": 18,
   "metadata": {
    "collapsed": true
   },
   "outputs": [],
   "source": [
    "def drop_cosine(X_orig, Y, drop_point):\n",
    "    reps1 = X_orig[(X_orig['BioRep'] == 1)]\n",
    "    reps2 = X_orig[(X_orig['BioRep'] == 2)]\n",
    "    names = []\n",
    "    for i in range(len(X.columns)):\n",
    "        if cosine_similarity(reps2.values[:,i].reshape(1, -1),reps1.values[:,i].reshape(1, -1))[0][0] < drop_point:\n",
    "            names.append(X.columns[i])\n",
    "    \n",
    "    X_new = X_orig.drop(names,axis=1)\n",
    "    X_new = X_new.drop('BioRep',axis=1)\n",
    "\n",
    "    return X_new\n"
   ]
  },
  {
   "cell_type": "code",
   "execution_count": 19,
   "metadata": {
    "collapsed": false
   },
   "outputs": [],
   "source": [
    "def drop_biorep(X_orig, Y, drop_point):\n",
    "    reps1 = X_orig[(X_orig['BioRep'] == 1)]\n",
    "    reps2 = X_orig[(X_orig['BioRep'] == 2)]\n",
    "    names = []\n",
    "    for i in range(len(X.columns)):\n",
    "        if np.mean(abs(reps2.values[:,i] - reps1.values[:,i]))/abs(np.max([reps1.values[:,i],reps2.values[:,i]])) > drop_point:\n",
    "            names.append(X.columns[i])\n",
    "    \n",
    "    X_new = X_orig.drop(names,axis=1)\n",
    "    X_new = X_new.drop('BioRep',axis=1)\n",
    "\n",
    "    return X_new\n"
   ]
  },
  {
   "cell_type": "code",
   "execution_count": 20,
   "metadata": {
    "collapsed": false
   },
   "outputs": [],
   "source": [
    "X_new = drop_cosine(pd.concat([X,bioreps.reset_index().drop(['index'],axis=1)], axis=1),Y,0.75)"
   ]
  },
  {
   "cell_type": "code",
   "execution_count": 21,
   "metadata": {
    "collapsed": false
   },
   "outputs": [],
   "source": [
    "X_new2 = drop_biorep(pd.concat([X,bioreps.reset_index().drop(['index'],axis=1)], axis=1),Y,0.75)"
   ]
  },
  {
   "cell_type": "code",
   "execution_count": 84,
   "metadata": {
    "collapsed": false
   },
   "outputs": [
    {
     "data": {
      "text/plain": [
       "[]"
      ]
     },
     "execution_count": 84,
     "metadata": {},
     "output_type": "execute_result"
    }
   ],
   "source": [
    "list(set(X_new2.columns) & set(X_uni.columns))"
   ]
  },
  {
   "cell_type": "code",
   "execution_count": 87,
   "metadata": {
    "collapsed": false
   },
   "outputs": [
    {
     "name": "stdout",
     "output_type": "stream",
     "text": [
      "mse: 0.517279049422515\n",
      "accuracy: -0.5325997944494076\n",
      "spearman: -0.31493021982745084\n",
      "cv score: -0.31791450378591385\n",
      "cv spear: 0.2048799261607896\n"
     ]
    }
   ],
   "source": [
    "X_train, X_test , Y_train , Y_test = train_test_split(X_new,Y,test_size=0.33,random_state=9)\n",
    "\n",
    "svr_model = SVR(kernel='poly',epsilon=0.05, degree=3,C=3,gamma='auto')\n",
    "svr_model.fit(X_train, Y_train.values.ravel())\n",
    "Y_pred = svr_model.predict(X_test) \n",
    "\n",
    "print('mse: ' + str(mean_squared_error(Y_test, Y_pred)))\n",
    "print('accuracy: ' + str(svr_model.score(X_test,Y_test)))\n",
    "print('spearman: ' + str(spearmanr(Y_test,Y_pred)[0]))\n",
    "print('cv score: ' + str(np.mean(cross_val_score(svr_model, X_train, Y_train.values.ravel(), cv=5))))\n",
    "print('cv spear: ' + str(np.mean(cross_val_score(svr_model, X_train, Y_train.values.ravel(), cv=5,scoring=make_scorer(spear_r)))))"
   ]
  },
  {
   "cell_type": "code",
   "execution_count": 85,
   "metadata": {
    "collapsed": false,
    "scrolled": true
   },
   "outputs": [
    {
     "name": "stdout",
     "output_type": "stream",
     "text": [
      "mse: 0.40979757224087504\n",
      "accuracy: -0.2141525462579359\n",
      "spearman: -0.30849296690644945\n",
      "cv score: 0.04041929010007348\n",
      "cv spear: 0.46398017588759427\n"
     ]
    }
   ],
   "source": [
    "X_train, X_test , Y_train , Y_test = train_test_split(X_new2,Y,test_size=0.33,random_state=9)\n",
    "\n",
    "svr_model = SVR(kernel='poly',epsilon=0.05, degree=3,C=3,gamma='auto')\n",
    "svr_model.fit(X_train, Y_train.values.ravel())\n",
    "Y_pred = svr_model.predict(X_test) \n",
    "\n",
    "print('mse: ' + str(mean_squared_error(Y_test, Y_pred)))\n",
    "print('accuracy: ' + str(svr_model.score(X_test,Y_test)))\n",
    "print('spearman: ' + str(spearmanr(Y_test,Y_pred)[0]))\n",
    "print('cv score: ' + str(np.mean(cross_val_score(svr_model, X_train, Y_train.values.ravel(), cv=5))))\n",
    "print('cv spear: ' + str(np.mean(cross_val_score(svr_model, X_train, Y_train.values.ravel(), cv=5,scoring=make_scorer(spear_r)))))"
   ]
  },
  {
   "cell_type": "code",
   "execution_count": 93,
   "metadata": {
    "collapsed": true
   },
   "outputs": [],
   "source": [
    "X_s = StandardScaler().fit_transform(X_new2)\n",
    "transformer = GenericUnivariateSelect(f_regression,'k_best', param=70)\n",
    "X_uni2 = transformer.fit_transform(X_s, Y.values.ravel())\n",
    "X_uni2 = pd.DataFrame(data = X_uni2)"
   ]
  },
  {
   "cell_type": "code",
   "execution_count": 94,
   "metadata": {
    "collapsed": true
   },
   "outputs": [],
   "source": [
    "X_s = StandardScaler().fit_transform(X_new)\n",
    "transformer = GenericUnivariateSelect(f_regression,'k_best', param=70)\n",
    "X_uni3 = transformer.fit_transform(X_s, Y.values.ravel())\n",
    "X_uni3 = pd.DataFrame(data = X_uni3)"
   ]
  },
  {
   "cell_type": "code",
   "execution_count": 95,
   "metadata": {
    "collapsed": false
   },
   "outputs": [
    {
     "name": "stdout",
     "output_type": "stream",
     "text": [
      "mse: 0.2440117704052146\n",
      "accuracy: 0.27703936669430784\n",
      "spearman: 0.6283749197500551\n",
      "cv score: 0.08937293189932205\n",
      "cv spear: 0.5848483073858267\n"
     ]
    }
   ],
   "source": [
    "X_train, X_test , Y_train , Y_test = train_test_split(X_uni2,Y,test_size=0.33,random_state=9)\n",
    "\n",
    "svr_model = SVR(kernel='poly',epsilon=0.05, degree=3,C=3,gamma='auto')\n",
    "svr_model.fit(X_train, Y_train.values.ravel())\n",
    "Y_pred = svr_model.predict(X_test) \n",
    "\n",
    "print('mse: ' + str(mean_squared_error(Y_test, Y_pred)))\n",
    "print('accuracy: ' + str(svr_model.score(X_test,Y_test)))\n",
    "print('spearman: ' + str(spearmanr(Y_test,Y_pred)[0]))\n",
    "print('cv score: ' + str(np.mean(cross_val_score(svr_model, X_train, Y_train.values.ravel(), cv=5))))\n",
    "print('cv spear: ' + str(np.mean(cross_val_score(svr_model, X_train, Y_train.values.ravel(), cv=5,scoring=make_scorer(spear_r)))))"
   ]
  },
  {
   "cell_type": "code",
   "execution_count": 96,
   "metadata": {
    "collapsed": false
   },
   "outputs": [
    {
     "name": "stdout",
     "output_type": "stream",
     "text": [
      "mse: 0.23984759752331453\n",
      "accuracy: 0.2893770217955084\n",
      "spearman: 0.3495923509405351\n",
      "cv score: 0.19717615307648506\n",
      "cv spear: 0.6837009750141804\n"
     ]
    }
   ],
   "source": [
    "X_train, X_test , Y_train , Y_test = train_test_split(X_uni3,Y,test_size=0.33,random_state=9)\n",
    "\n",
    "svr_model = SVR(kernel='poly',epsilon=0.05, degree=3,C=3,gamma='auto')\n",
    "svr_model.fit(X_train, Y_train.values.ravel())\n",
    "Y_pred = svr_model.predict(X_test) \n",
    "\n",
    "print('mse: ' + str(mean_squared_error(Y_test, Y_pred)))\n",
    "print('accuracy: ' + str(svr_model.score(X_test,Y_test)))\n",
    "print('spearman: ' + str(spearmanr(Y_test,Y_pred)[0]))\n",
    "print('cv score: ' + str(np.mean(cross_val_score(svr_model, X_train, Y_train.values.ravel(), cv=5))))\n",
    "print('cv spear: ' + str(np.mean(cross_val_score(svr_model, X_train, Y_train.values.ravel(), cv=5,scoring=make_scorer(spear_r)))))"
   ]
  },
  {
   "cell_type": "markdown",
   "metadata": {},
   "source": [
    "## predict"
   ]
  },
  {
   "cell_type": "code",
   "execution_count": 122,
   "metadata": {
    "collapsed": false
   },
   "outputs": [],
   "source": [
    "X_s = StandardScaler().fit_transform(X)\n",
    "transformer = GenericUnivariateSelect(f_regression,'k_best', param=70)\n",
    "X_uni = transformer.fit_transform(X_s, Y.values.ravel())\n",
    "X_uni = pd.DataFrame(data = X_uni)\n",
    "\n",
    "indices = transformer.get_support(indices=False)\n",
    "\n",
    "X_features = X.columns[indices].tolist()\n",
    "X_uni.columns = X_features\n",
    "\n",
    "Xs = StandardScaler().fit_transform(Xt)\n",
    "X_predict = pd.DataFrame(data = Xs, columns = Xt.columns)\n",
    "X_predict = X_predict[X_uni.columns]\n",
    "\n",
    "bioreps_test = bioreps_test.reset_index().drop(['index'],axis=1)\n",
    "X_bio = pd.concat([Xt,bioreps_test],axis=1)\n",
    "X_bio1 = X_bio[X_bio['BioRep'] == 1].reset_index().drop(['index'],axis=1)\n",
    "X_bio2 = X_bio[X_bio['BioRep'] == 2].reset_index().drop(['index'],axis=1)\n",
    "X_avg = (X_bio1 + X_bio2)/2\n",
    "X_avg = X_avg.drop(['BioRep'],axis=1)\n",
    "\n",
    "Xs_avg = StandardScaler().fit_transform(X_avg)\n",
    "X_predict_avg = pd.DataFrame(data = Xs_avg, columns = X_avg.columns)\n",
    "X_predict_avg = X_predict_avg[X_uni.columns]"
   ]
  },
  {
   "cell_type": "code",
   "execution_count": 131,
   "metadata": {
    "collapsed": false
   },
   "outputs": [
    {
     "name": "stdout",
     "output_type": "stream",
     "text": [
      "mse: 0.1450967888945775\n",
      "accuracy: 0.5701057116398662\n",
      "spearman: 0.5139898870768772\n",
      "cv score: 0.2684498948956698\n",
      "cv spear: 0.7093963768213187\n"
     ]
    }
   ],
   "source": [
    "X_train, X_test , Y_train , Y_test = train_test_split(X_uni,Y,test_size=0.33,random_state=9)\n",
    "\n",
    "svr_model = SVR(kernel='rbf',epsilon=0.18, C=20,gamma=0.001)\n",
    "#svr_model = SVR(kernel='rbf',epsilon=0.25, degree=2,C=15,gamma=0.001)\n",
    "svr_model.fit(X_train, Y_train.values.ravel())\n",
    "Y_pred = svr_model.predict(X_test) \n",
    "Y_pred_new = svr_model.predict(X_predict)\n",
    "Y_pred_avg = svr_model.predict(X_predict_avg)\n",
    "\n",
    "print('mse: ' + str(mean_squared_error(Y_test, Y_pred)))\n",
    "print('accuracy: ' + str(svr_model.score(X_test,Y_test)))\n",
    "print('spearman: ' + str(spearmanr(Y_test,Y_pred)[0]))\n",
    "print('cv score: ' + str(np.mean(cross_val_score(svr_model, X_train, Y_train.values.ravel(), cv=5))))\n",
    "print('cv spear: ' + str(np.mean(cross_val_score(svr_model, X_train, Y_train.values.ravel(), cv=5,scoring=make_scorer(spear_r)))))"
   ]
  },
  {
   "cell_type": "code",
   "execution_count": 137,
   "metadata": {
    "collapsed": false
   },
   "outputs": [
    {
     "data": {
      "text/plain": [
       "array([1.43920143, 2.04873828, 1.38770367, 1.46047323, 1.16817249,\n",
       "       0.94936196, 1.26252647, 1.80824867, 1.79158498, 1.21420605,\n",
       "       1.12167199, 2.8602533 , 1.52378014, 1.87013572, 1.15443468,\n",
       "       1.3089647 , 1.22892027, 1.31470459, 1.7670493 , 1.80899627,\n",
       "       1.7045321 , 1.53596082, 1.66078739])"
      ]
     },
     "execution_count": 137,
     "metadata": {},
     "output_type": "execute_result"
    }
   ],
   "source": [
    "Y_pred"
   ]
  },
  {
   "cell_type": "code",
   "execution_count": 132,
   "metadata": {
    "collapsed": false
   },
   "outputs": [],
   "source": [
    "predictions_avg = []\n",
    "isolates = []\n",
    "for i in range(int(len(Y_pred_avg))):\n",
    "    isolates.append('isolate_'+str(i+31))\n",
    "    predictions_avg.append(Y_pred_avg[i])"
   ]
  },
  {
   "cell_type": "code",
   "execution_count": 133,
   "metadata": {
    "collapsed": true
   },
   "outputs": [],
   "source": [
    "predictions = []\n",
    "isolates = []\n",
    "differences = []\n",
    "for i in range(int(len(Y_pred_new)/2)):\n",
    "    isolates.append('isolate_'+str(i+31))\n",
    "    predictions.append((Y_pred_new[2*i]+Y_pred_new[2*i+1])/2.)\n",
    "    differences.append(abs(Y_pred_new[2*i]-Y_pred_new[2*i+1]))"
   ]
  },
  {
   "cell_type": "code",
   "execution_count": 134,
   "metadata": {
    "collapsed": false
   },
   "outputs": [
    {
     "data": {
      "text/plain": [
       "[0.3821052576243229,\n",
       " 0.2987150967218275,\n",
       " 0.6414599867815562,\n",
       " 0.6824842809019467,\n",
       " 0.5716171319767818,\n",
       " 0.5808736917806656,\n",
       " 0.9202523600274573,\n",
       " 0.3314446151459851,\n",
       " 0.0853773323252609,\n",
       " 0.048931031642146294,\n",
       " 0.3239877020284929,\n",
       " 0.36230921268241056,\n",
       " 0.7411831589322353,\n",
       " 0.3003439000413124,\n",
       " 0.5661161627339384,\n",
       " 0.5387793215573735,\n",
       " 0.2217912282040384,\n",
       " 0.25121286404509524,\n",
       " 0.53769413260838,\n",
       " 0.24706150148385042,\n",
       " 0.1046228138402987,\n",
       " 0.16180059496265864,\n",
       " 0.9791412076248278,\n",
       " 0.5091350373262702,\n",
       " 1.043687822432671]"
      ]
     },
     "execution_count": 134,
     "metadata": {},
     "output_type": "execute_result"
    }
   ],
   "source": [
    "differences"
   ]
  },
  {
   "cell_type": "code",
   "execution_count": 135,
   "metadata": {
    "collapsed": false
   },
   "outputs": [
    {
     "data": {
      "text/plain": [
       "array([[1.6374498 , 1.62413324],\n",
       "       [1.60853704, 1.62617779],\n",
       "       [1.57494897, 1.63338269],\n",
       "       [1.83939231, 1.96310447],\n",
       "       [1.46835782, 1.38282974],\n",
       "       [1.33540586, 1.21645814],\n",
       "       [1.78143368, 1.83803871],\n",
       "       [1.67635969, 1.68409861],\n",
       "       [1.65550199, 1.68150277],\n",
       "       [1.31958691, 1.21928873],\n",
       "       [1.3749343 , 1.21252732],\n",
       "       [1.75092241, 1.84771938],\n",
       "       [1.43587398, 1.42070721],\n",
       "       [1.48378956, 1.46569724],\n",
       "       [1.61195162, 1.66178233],\n",
       "       [1.41157894, 1.35766118],\n",
       "       [1.92124106, 2.09068938],\n",
       "       [1.66693955, 1.71879233],\n",
       "       [1.27303522, 1.16421382],\n",
       "       [1.15424219, 1.00837035],\n",
       "       [1.29007033, 1.15286086],\n",
       "       [1.58650852, 1.63240393],\n",
       "       [2.0081125 , 2.10746497],\n",
       "       [1.72125915, 1.81731261],\n",
       "       [1.79210908, 1.84252698]])"
      ]
     },
     "execution_count": 135,
     "metadata": {},
     "output_type": "execute_result"
    }
   ],
   "source": [
    "np.column_stack([predictions,predictions_avg])"
   ]
  },
  {
   "cell_type": "code",
   "execution_count": 136,
   "metadata": {
    "collapsed": false
   },
   "outputs": [
    {
     "data": {
      "text/html": [
       "<div>\n",
       "<style scoped>\n",
       "    .dataframe tbody tr th:only-of-type {\n",
       "        vertical-align: middle;\n",
       "    }\n",
       "\n",
       "    .dataframe tbody tr th {\n",
       "        vertical-align: top;\n",
       "    }\n",
       "\n",
       "    .dataframe thead th {\n",
       "        text-align: right;\n",
       "    }\n",
       "</style>\n",
       "<table border=\"1\" class=\"dataframe\">\n",
       "  <thead>\n",
       "    <tr style=\"text-align: right;\">\n",
       "      <th></th>\n",
       "      <th>Isolate</th>\n",
       "      <th>Predicted_IC50</th>\n",
       "    </tr>\n",
       "  </thead>\n",
       "  <tbody>\n",
       "    <tr>\n",
       "      <th>0</th>\n",
       "      <td>isolate_31</td>\n",
       "      <td>1.624133</td>\n",
       "    </tr>\n",
       "    <tr>\n",
       "      <th>1</th>\n",
       "      <td>isolate_32</td>\n",
       "      <td>1.626178</td>\n",
       "    </tr>\n",
       "    <tr>\n",
       "      <th>2</th>\n",
       "      <td>isolate_33</td>\n",
       "      <td>1.633383</td>\n",
       "    </tr>\n",
       "    <tr>\n",
       "      <th>3</th>\n",
       "      <td>isolate_34</td>\n",
       "      <td>1.963104</td>\n",
       "    </tr>\n",
       "    <tr>\n",
       "      <th>4</th>\n",
       "      <td>isolate_35</td>\n",
       "      <td>1.382830</td>\n",
       "    </tr>\n",
       "    <tr>\n",
       "      <th>5</th>\n",
       "      <td>isolate_36</td>\n",
       "      <td>1.216458</td>\n",
       "    </tr>\n",
       "    <tr>\n",
       "      <th>6</th>\n",
       "      <td>isolate_37</td>\n",
       "      <td>1.838039</td>\n",
       "    </tr>\n",
       "    <tr>\n",
       "      <th>7</th>\n",
       "      <td>isolate_38</td>\n",
       "      <td>1.684099</td>\n",
       "    </tr>\n",
       "    <tr>\n",
       "      <th>8</th>\n",
       "      <td>isolate_39</td>\n",
       "      <td>1.681503</td>\n",
       "    </tr>\n",
       "    <tr>\n",
       "      <th>9</th>\n",
       "      <td>isolate_40</td>\n",
       "      <td>1.219289</td>\n",
       "    </tr>\n",
       "    <tr>\n",
       "      <th>10</th>\n",
       "      <td>isolate_41</td>\n",
       "      <td>1.212527</td>\n",
       "    </tr>\n",
       "    <tr>\n",
       "      <th>11</th>\n",
       "      <td>isolate_42</td>\n",
       "      <td>1.847719</td>\n",
       "    </tr>\n",
       "    <tr>\n",
       "      <th>12</th>\n",
       "      <td>isolate_43</td>\n",
       "      <td>1.420707</td>\n",
       "    </tr>\n",
       "    <tr>\n",
       "      <th>13</th>\n",
       "      <td>isolate_44</td>\n",
       "      <td>1.465697</td>\n",
       "    </tr>\n",
       "    <tr>\n",
       "      <th>14</th>\n",
       "      <td>isolate_45</td>\n",
       "      <td>1.661782</td>\n",
       "    </tr>\n",
       "    <tr>\n",
       "      <th>15</th>\n",
       "      <td>isolate_46</td>\n",
       "      <td>1.357661</td>\n",
       "    </tr>\n",
       "    <tr>\n",
       "      <th>16</th>\n",
       "      <td>isolate_47</td>\n",
       "      <td>2.090689</td>\n",
       "    </tr>\n",
       "    <tr>\n",
       "      <th>17</th>\n",
       "      <td>isolate_48</td>\n",
       "      <td>1.718792</td>\n",
       "    </tr>\n",
       "    <tr>\n",
       "      <th>18</th>\n",
       "      <td>isolate_49</td>\n",
       "      <td>1.164214</td>\n",
       "    </tr>\n",
       "    <tr>\n",
       "      <th>19</th>\n",
       "      <td>isolate_50</td>\n",
       "      <td>1.008370</td>\n",
       "    </tr>\n",
       "    <tr>\n",
       "      <th>20</th>\n",
       "      <td>isolate_51</td>\n",
       "      <td>1.152861</td>\n",
       "    </tr>\n",
       "    <tr>\n",
       "      <th>21</th>\n",
       "      <td>isolate_52</td>\n",
       "      <td>1.632404</td>\n",
       "    </tr>\n",
       "    <tr>\n",
       "      <th>22</th>\n",
       "      <td>isolate_53</td>\n",
       "      <td>2.107465</td>\n",
       "    </tr>\n",
       "    <tr>\n",
       "      <th>23</th>\n",
       "      <td>isolate_54</td>\n",
       "      <td>1.817313</td>\n",
       "    </tr>\n",
       "    <tr>\n",
       "      <th>24</th>\n",
       "      <td>isolate_55</td>\n",
       "      <td>1.842527</td>\n",
       "    </tr>\n",
       "  </tbody>\n",
       "</table>\n",
       "</div>"
      ],
      "text/plain": [
       "       Isolate  Predicted_IC50\n",
       "0   isolate_31        1.624133\n",
       "1   isolate_32        1.626178\n",
       "2   isolate_33        1.633383\n",
       "3   isolate_34        1.963104\n",
       "4   isolate_35        1.382830\n",
       "5   isolate_36        1.216458\n",
       "6   isolate_37        1.838039\n",
       "7   isolate_38        1.684099\n",
       "8   isolate_39        1.681503\n",
       "9   isolate_40        1.219289\n",
       "10  isolate_41        1.212527\n",
       "11  isolate_42        1.847719\n",
       "12  isolate_43        1.420707\n",
       "13  isolate_44        1.465697\n",
       "14  isolate_45        1.661782\n",
       "15  isolate_46        1.357661\n",
       "16  isolate_47        2.090689\n",
       "17  isolate_48        1.718792\n",
       "18  isolate_49        1.164214\n",
       "19  isolate_50        1.008370\n",
       "20  isolate_51        1.152861\n",
       "21  isolate_52        1.632404\n",
       "22  isolate_53        2.107465\n",
       "23  isolate_54        1.817313\n",
       "24  isolate_55        1.842527"
      ]
     },
     "execution_count": 136,
     "metadata": {},
     "output_type": "execute_result"
    }
   ],
   "source": [
    "predict = pd.DataFrame(list(zip(isolates,predictions_avg)),columns=['Isolate','Predicted_IC50'])\n",
    "predict.to_csv('SubCh1_Submission3.txt', index=None, header=True,sep='\\t')\n",
    "predict"
   ]
  },
  {
   "cell_type": "markdown",
   "metadata": {},
   "source": [
    "## next to do:\n",
    "- try with different numbers of features\n",
    "- test averaging with train data set"
   ]
  },
  {
   "cell_type": "code",
   "execution_count": null,
   "metadata": {
    "collapsed": true
   },
   "outputs": [],
   "source": []
  }
 ],
 "metadata": {
  "anaconda-cloud": {},
  "kernelspec": {
   "display_name": "Python [conda env:miniconda3]",
   "language": "python",
   "name": "conda-env-miniconda3-py"
  },
  "language_info": {
   "codemirror_mode": {
    "name": "ipython",
    "version": 3
   },
   "file_extension": ".py",
   "mimetype": "text/x-python",
   "name": "python",
   "nbconvert_exporter": "python",
   "pygments_lexer": "ipython3",
   "version": "3.5.2"
  }
 },
 "nbformat": 4,
 "nbformat_minor": 1
}
